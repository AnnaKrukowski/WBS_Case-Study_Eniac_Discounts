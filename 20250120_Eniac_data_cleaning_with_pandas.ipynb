{
  "nbformat": 4,
  "nbformat_minor": 0,
  "metadata": {
    "colab": {
      "provenance": [],
      "include_colab_link": true
    },
    "kernelspec": {
      "name": "python3",
      "display_name": "Python 3"
    },
    "language_info": {
      "name": "python"
    }
  },
  "cells": [
    {
      "cell_type": "markdown",
      "metadata": {
        "id": "view-in-github",
        "colab_type": "text"
      },
      "source": [
        "<a href=\"https://colab.research.google.com/github/AnnaKrukowski/WBS_Case-Study_Eniac_Discounts/blob/main/20250120_Eniac_data_cleaning_with_pandas.ipynb\" target=\"_parent\"><img src=\"https://colab.research.google.com/assets/colab-badge.svg\" alt=\"Open In Colab\"/></a>"
      ]
    },
    {
      "cell_type": "markdown",
      "source": [
        "# Data Cleaning with Pandas\n",
        "\n",
        "- Few basic data cleaning steps\n",
        "- Focus: `orders` and `orderlines` and `products`datasets\n"
      ],
      "metadata": {
        "id": "kYo4UvcCvkUs"
      }
    },
    {
      "cell_type": "code",
      "execution_count": 2,
      "metadata": {
        "id": "FgRIdUs1vcZ8"
      },
      "outputs": [],
      "source": [
        "import pandas as pd"
      ]
    },
    {
      "cell_type": "code",
      "source": [
        "pd.set_option('display.max_colwidth', None) # to increase the width of the columns"
      ],
      "metadata": {
        "id": "rCFadwwK6Ial"
      },
      "execution_count": 3,
      "outputs": []
    },
    {
      "cell_type": "code",
      "source": [
        "# orders.csv\n",
        "url = \"https://drive.google.com/file/d/1Vu0q91qZw6lqhIqbjoXYvYAQTmVHh6uZ/view?usp=sharing\"\n",
        "path = \"https://drive.google.com/uc?export=download&id=\"+url.split(\"/\")[-2]\n",
        "orders = pd.read_csv(path)\n",
        "\n",
        "# orderlines.csv\n",
        "url = \"https://drive.google.com/file/d/1FYhN_2AzTBFuWcfHaRuKcuCE6CWXsWtG/view?usp=sharing\"\n",
        "path = \"https://drive.google.com/uc?export=download&id=\"+url.split(\"/\")[-2]\n",
        "orderlines = pd.read_csv(path)"
      ],
      "metadata": {
        "id": "_87JoNgVviOG"
      },
      "execution_count": 4,
      "outputs": []
    },
    {
      "cell_type": "markdown",
      "source": [
        "First creating a copy of the `orders` and `orderlines` DataFrames. This way any changes won't affect the original DataFrames."
      ],
      "metadata": {
        "id": "qS6O9HFLUgkU"
      }
    },
    {
      "cell_type": "code",
      "source": [
        "orders_df = orders.copy()"
      ],
      "metadata": {
        "id": "4QdMtar7_lrX"
      },
      "execution_count": 5,
      "outputs": []
    },
    {
      "cell_type": "code",
      "source": [
        "orderlines_df = orderlines.copy()"
      ],
      "metadata": {
        "id": "oka4mnqU_mds"
      },
      "execution_count": 6,
      "outputs": []
    },
    {
      "cell_type": "markdown",
      "source": [
        "One of the best ways to begin data cleaning is by exploring using `.info()`. This will show:\n",
        "* The shape of the DataFrame\n",
        "* The names of the columns\n",
        "* If there are any missing values\n",
        "* The datatypes of the columns"
      ],
      "metadata": {
        "id": "fVLitYX1yhc6"
      }
    },
    {
      "cell_type": "markdown",
      "source": [
        "## 1.&nbsp; Duplicates\n",
        "Checking for duplicates using the pandas [.duplicated()](https://pandas.pydata.org/docs/reference/api/pandas.DataFrame.duplicated.html) method.\n",
        "\n",
        "Deleting these rows using [.drop_duplicates()](https://pandas.pydata.org/docs/reference/api/pandas.DataFrame.drop_duplicates.html)."
      ],
      "metadata": {
        "id": "036ciQ6rwBJm"
      }
    },
    {
      "cell_type": "code",
      "source": [
        "# orders\n",
        "orders_df.duplicated().sum()"
      ],
      "metadata": {
        "colab": {
          "base_uri": "https://localhost:8080/"
        },
        "id": "6dVkoUu7wC-b",
        "outputId": "a65968c1-dccb-4f63-d4cd-1dc3e95545f5"
      },
      "execution_count": 6,
      "outputs": [
        {
          "output_type": "execute_result",
          "data": {
            "text/plain": [
              "0"
            ]
          },
          "metadata": {},
          "execution_count": 6
        }
      ]
    },
    {
      "cell_type": "code",
      "source": [
        "# orderlines\n",
        "orderlines_df.duplicated().sum()"
      ],
      "metadata": {
        "colab": {
          "base_uri": "https://localhost:8080/"
        },
        "id": "iaeAQB_3whli",
        "outputId": "95a6c7a7-80d0-4b1e-c4ce-b055a7edfaa0"
      },
      "execution_count": 7,
      "outputs": [
        {
          "output_type": "execute_result",
          "data": {
            "text/plain": [
              "0"
            ]
          },
          "metadata": {},
          "execution_count": 7
        }
      ]
    },
    {
      "cell_type": "markdown",
      "source": [
        "No duplicate rows in either DataFrame, so no need to delete any rows."
      ],
      "metadata": {
        "id": "3LbnJquF0vRe"
      }
    },
    {
      "cell_type": "markdown",
      "source": [
        "# 2.&nbsp; `.info()`"
      ],
      "metadata": {
        "id": "9lX7YbHlzoEO"
      }
    },
    {
      "cell_type": "code",
      "source": [
        "orders_df.info()"
      ],
      "metadata": {
        "colab": {
          "base_uri": "https://localhost:8080/"
        },
        "id": "_AAsMOTS2L9r",
        "outputId": "18f2d19b-8082-49ba-f4b1-a9c37edfe8c4"
      },
      "execution_count": 8,
      "outputs": [
        {
          "output_type": "stream",
          "name": "stdout",
          "text": [
            "<class 'pandas.core.frame.DataFrame'>\n",
            "RangeIndex: 226909 entries, 0 to 226908\n",
            "Data columns (total 4 columns):\n",
            " #   Column        Non-Null Count   Dtype  \n",
            "---  ------        --------------   -----  \n",
            " 0   order_id      226909 non-null  int64  \n",
            " 1   created_date  226909 non-null  object \n",
            " 2   total_paid    226904 non-null  float64\n",
            " 3   state         226909 non-null  object \n",
            "dtypes: float64(1), int64(1), object(2)\n",
            "memory usage: 6.9+ MB\n"
          ]
        }
      ]
    },
    {
      "cell_type": "markdown",
      "source": [
        "* `total_paid` has 5 missing values\n",
        "* `created_date` should become datetime datatype"
      ],
      "metadata": {
        "id": "Txm3Bv952UCb"
      }
    },
    {
      "cell_type": "code",
      "source": [
        "orderlines_df.info()"
      ],
      "metadata": {
        "colab": {
          "base_uri": "https://localhost:8080/"
        },
        "id": "kvDA-z032Rm2",
        "outputId": "7dfc983b-f810-4091-fa74-e8aceac223b4"
      },
      "execution_count": 9,
      "outputs": [
        {
          "output_type": "stream",
          "name": "stdout",
          "text": [
            "<class 'pandas.core.frame.DataFrame'>\n",
            "RangeIndex: 293983 entries, 0 to 293982\n",
            "Data columns (total 7 columns):\n",
            " #   Column            Non-Null Count   Dtype \n",
            "---  ------            --------------   ----- \n",
            " 0   id                293983 non-null  int64 \n",
            " 1   id_order          293983 non-null  int64 \n",
            " 2   product_id        293983 non-null  int64 \n",
            " 3   product_quantity  293983 non-null  int64 \n",
            " 4   sku               293983 non-null  object\n",
            " 5   unit_price        293983 non-null  object\n",
            " 6   date              293983 non-null  object\n",
            "dtypes: int64(4), object(3)\n",
            "memory usage: 15.7+ MB\n"
          ]
        }
      ]
    },
    {
      "cell_type": "markdown",
      "source": [
        "* `date` should be a datetime datatype\n",
        "* `unit_price` should be a float datatype"
      ],
      "metadata": {
        "id": "iLSpYm1G2sPD"
      }
    },
    {
      "cell_type": "markdown",
      "source": [
        "## 3.&nbsp; Missing values"
      ],
      "metadata": {
        "id": "MlwJt5c-wiQh"
      }
    },
    {
      "cell_type": "markdown",
      "source": [
        "### 3.1.&nbsp; Orders\n",
        "* `total_paid` has 5 missing values"
      ],
      "metadata": {
        "id": "63eKHGzJwkuT"
      }
    },
    {
      "cell_type": "code",
      "source": [
        "print(f\"5 missing values represents {((orders_df.total_paid.isna().sum() / orders_df.shape[0])*100).round(5)}% of the rows in our DataFrame\")"
      ],
      "metadata": {
        "colab": {
          "base_uri": "https://localhost:8080/"
        },
        "id": "Yh81k3ppwl37",
        "outputId": "0a239632-79ab-42df-a534-44c264d64982"
      },
      "execution_count": 10,
      "outputs": [
        {
          "output_type": "stream",
          "name": "stdout",
          "text": [
            "5 missing values represents 0.0022% of the rows in our DataFrame\n"
          ]
        }
      ]
    },
    {
      "cell_type": "markdown",
      "source": [
        "Other quick option: `.value_count(normalize=True)`"
      ],
      "metadata": {
        "id": "8s6q6JScX9QV"
      }
    },
    {
      "cell_type": "code",
      "source": [
        "orders_df.total_paid.isna().value_counts(normalize=True)"
      ],
      "metadata": {
        "colab": {
          "base_uri": "https://localhost:8080/",
          "height": 178
        },
        "id": "PJedh_tXX8jO",
        "outputId": "e3cf63e9-2042-48a7-ebce-32516cc29d13"
      },
      "execution_count": 11,
      "outputs": [
        {
          "output_type": "execute_result",
          "data": {
            "text/plain": [
              "total_paid\n",
              "False    0.999978\n",
              "True     0.000022\n",
              "Name: proportion, dtype: float64"
            ],
            "text/html": [
              "<div>\n",
              "<style scoped>\n",
              "    .dataframe tbody tr th:only-of-type {\n",
              "        vertical-align: middle;\n",
              "    }\n",
              "\n",
              "    .dataframe tbody tr th {\n",
              "        vertical-align: top;\n",
              "    }\n",
              "\n",
              "    .dataframe thead th {\n",
              "        text-align: right;\n",
              "    }\n",
              "</style>\n",
              "<table border=\"1\" class=\"dataframe\">\n",
              "  <thead>\n",
              "    <tr style=\"text-align: right;\">\n",
              "      <th></th>\n",
              "      <th>proportion</th>\n",
              "    </tr>\n",
              "    <tr>\n",
              "      <th>total_paid</th>\n",
              "      <th></th>\n",
              "    </tr>\n",
              "  </thead>\n",
              "  <tbody>\n",
              "    <tr>\n",
              "      <th>False</th>\n",
              "      <td>0.999978</td>\n",
              "    </tr>\n",
              "    <tr>\n",
              "      <th>True</th>\n",
              "      <td>0.000022</td>\n",
              "    </tr>\n",
              "  </tbody>\n",
              "</table>\n",
              "</div><br><label><b>dtype:</b> float64</label>"
            ]
          },
          "metadata": {},
          "execution_count": 11
        }
      ]
    },
    {
      "cell_type": "markdown",
      "source": [
        "As there is such a tiny amount of missing values, these rows will be simply deleted, as there is enough data without them."
      ],
      "metadata": {
        "id": "eMW6J-4v_iVM"
      }
    },
    {
      "cell_type": "code",
      "source": [
        "orders_df = orders_df.loc[~orders.total_paid.isna(), :]"
      ],
      "metadata": {
        "id": "ohcl2Pb2B_Ch"
      },
      "execution_count": 12,
      "outputs": []
    },
    {
      "cell_type": "markdown",
      "source": [
        "If the number of missing values is considerable, the following options are available:\n",
        "+ impute values\n",
        "+ transfer values from other DataFrames if they are available there\n",
        "+ delete values\n",
        "+ or any number of other creative solutions"
      ],
      "metadata": {
        "id": "AIWAR4xI_3jv"
      }
    },
    {
      "cell_type": "markdown",
      "source": [
        "### 3.2.&nbsp; Orderlines\n",
        "There are no missing values in `orderlines`"
      ],
      "metadata": {
        "id": "nziIE3hbwmNa"
      }
    },
    {
      "cell_type": "markdown",
      "source": [
        "## 4.&nbsp; Datatypes"
      ],
      "metadata": {
        "id": "_feog1aCwosJ"
      }
    },
    {
      "cell_type": "markdown",
      "source": [
        "### 4.1.&nbsp; Orders\n",
        "* `created_date` should become datetime datatype"
      ],
      "metadata": {
        "id": "wCJyQYkOwrBE"
      }
    },
    {
      "cell_type": "code",
      "source": [
        "orders_df[\"created_date\"] = pd.to_datetime(orders_df[\"created_date\"])"
      ],
      "metadata": {
        "id": "cF9roGlewr8j"
      },
      "execution_count": 13,
      "outputs": []
    },
    {
      "cell_type": "markdown",
      "source": [
        "### 4.1.&nbsp; Orderlines\n",
        "* `date` should be a datetime datatype\n",
        "* `unit_price` should be a float datatype"
      ],
      "metadata": {
        "id": "osvynBTNwsin"
      }
    },
    {
      "cell_type": "markdown",
      "source": [
        "#### 4.1.1.&nbsp; `date`"
      ],
      "metadata": {
        "id": "PJcuKn8K06Yd"
      }
    },
    {
      "cell_type": "code",
      "source": [
        "orderlines_df[\"date\"] = pd.to_datetime(orderlines_df[\"date\"])"
      ],
      "metadata": {
        "id": "FnXgRKERwtvS"
      },
      "execution_count": 14,
      "outputs": []
    },
    {
      "cell_type": "markdown",
      "source": [
        "#### 4.1.2.&nbsp;`unit_price`"
      ],
      "metadata": {
        "id": "F7i78NDY0-oF"
      }
    },
    {
      "cell_type": "code",
      "source": [
        "orderlines_df[\"unit_price\"] = pd.to_numeric(orderlines_df[\"unit_price\"])"
      ],
      "metadata": {
        "colab": {
          "base_uri": "https://localhost:8080/",
          "height": 419
        },
        "id": "iOFBNmuRDuGU",
        "outputId": "96f60fc4-6667-4de9-ee19-8679bea93b16"
      },
      "execution_count": 15,
      "outputs": [
        {
          "output_type": "error",
          "ename": "ValueError",
          "evalue": "Unable to parse string \"1.137.99\" at position 6",
          "traceback": [
            "\u001b[0;31m---------------------------------------------------------------------------\u001b[0m",
            "\u001b[0;31mValueError\u001b[0m                                Traceback (most recent call last)",
            "\u001b[0;32mlib.pyx\u001b[0m in \u001b[0;36mpandas._libs.lib.maybe_convert_numeric\u001b[0;34m()\u001b[0m\n",
            "\u001b[0;31mValueError\u001b[0m: Unable to parse string \"1.137.99\"",
            "\nDuring handling of the above exception, another exception occurred:\n",
            "\u001b[0;31mValueError\u001b[0m                                Traceback (most recent call last)",
            "\u001b[0;32m<ipython-input-15-d6bd38092a9f>\u001b[0m in \u001b[0;36m<cell line: 0>\u001b[0;34m()\u001b[0m\n\u001b[0;32m----> 1\u001b[0;31m \u001b[0morderlines_df\u001b[0m\u001b[0;34m[\u001b[0m\u001b[0;34m\"unit_price\"\u001b[0m\u001b[0;34m]\u001b[0m \u001b[0;34m=\u001b[0m \u001b[0mpd\u001b[0m\u001b[0;34m.\u001b[0m\u001b[0mto_numeric\u001b[0m\u001b[0;34m(\u001b[0m\u001b[0morderlines_df\u001b[0m\u001b[0;34m[\u001b[0m\u001b[0;34m\"unit_price\"\u001b[0m\u001b[0;34m]\u001b[0m\u001b[0;34m)\u001b[0m\u001b[0;34m\u001b[0m\u001b[0;34m\u001b[0m\u001b[0m\n\u001b[0m",
            "\u001b[0;32m/usr/local/lib/python3.11/dist-packages/pandas/core/tools/numeric.py\u001b[0m in \u001b[0;36mto_numeric\u001b[0;34m(arg, errors, downcast, dtype_backend)\u001b[0m\n\u001b[1;32m    230\u001b[0m         \u001b[0mcoerce_numeric\u001b[0m \u001b[0;34m=\u001b[0m \u001b[0merrors\u001b[0m \u001b[0;32mnot\u001b[0m \u001b[0;32min\u001b[0m \u001b[0;34m(\u001b[0m\u001b[0;34m\"ignore\"\u001b[0m\u001b[0;34m,\u001b[0m \u001b[0;34m\"raise\"\u001b[0m\u001b[0;34m)\u001b[0m\u001b[0;34m\u001b[0m\u001b[0;34m\u001b[0m\u001b[0m\n\u001b[1;32m    231\u001b[0m         \u001b[0;32mtry\u001b[0m\u001b[0;34m:\u001b[0m\u001b[0;34m\u001b[0m\u001b[0;34m\u001b[0m\u001b[0m\n\u001b[0;32m--> 232\u001b[0;31m             values, new_mask = lib.maybe_convert_numeric(  # type: ignore[call-overload]\n\u001b[0m\u001b[1;32m    233\u001b[0m                 \u001b[0mvalues\u001b[0m\u001b[0;34m,\u001b[0m\u001b[0;34m\u001b[0m\u001b[0;34m\u001b[0m\u001b[0m\n\u001b[1;32m    234\u001b[0m                 \u001b[0mset\u001b[0m\u001b[0;34m(\u001b[0m\u001b[0;34m)\u001b[0m\u001b[0;34m,\u001b[0m\u001b[0;34m\u001b[0m\u001b[0;34m\u001b[0m\u001b[0m\n",
            "\u001b[0;32mlib.pyx\u001b[0m in \u001b[0;36mpandas._libs.lib.maybe_convert_numeric\u001b[0;34m()\u001b[0m\n",
            "\u001b[0;31mValueError\u001b[0m: Unable to parse string \"1.137.99\" at position 6"
          ]
        }
      ]
    },
    {
      "cell_type": "markdown",
      "source": [
        "Converting `unit_price` to a numeric data type leads to `ValueError`, which describes that Pandas does not understand the number `1.137.99`. This is probably because numbers cannot have 2 decimal points."
      ],
      "metadata": {
        "id": "xEqhP5RFSmRi"
      }
    },
    {
      "cell_type": "code",
      "source": [
        "orderlines_df.unit_price.str.contains(\"\\d+\\.\\d+\\.\\d+\").value_counts() # cheking how man prices contain 2 decimal points"
      ],
      "metadata": {
        "id": "ONy-oCt0SkrR",
        "colab": {
          "base_uri": "https://localhost:8080/",
          "height": 178
        },
        "outputId": "1510dc4d-ac2a-43a6-b5e4-d53a35daaa85"
      },
      "execution_count": 17,
      "outputs": [
        {
          "output_type": "execute_result",
          "data": {
            "text/plain": [
              "unit_price\n",
              "False    257814\n",
              "True      36169\n",
              "Name: count, dtype: int64"
            ],
            "text/html": [
              "<div>\n",
              "<style scoped>\n",
              "    .dataframe tbody tr th:only-of-type {\n",
              "        vertical-align: middle;\n",
              "    }\n",
              "\n",
              "    .dataframe tbody tr th {\n",
              "        vertical-align: top;\n",
              "    }\n",
              "\n",
              "    .dataframe thead th {\n",
              "        text-align: right;\n",
              "    }\n",
              "</style>\n",
              "<table border=\"1\" class=\"dataframe\">\n",
              "  <thead>\n",
              "    <tr style=\"text-align: right;\">\n",
              "      <th></th>\n",
              "      <th>count</th>\n",
              "    </tr>\n",
              "    <tr>\n",
              "      <th>unit_price</th>\n",
              "      <th></th>\n",
              "    </tr>\n",
              "  </thead>\n",
              "  <tbody>\n",
              "    <tr>\n",
              "      <th>False</th>\n",
              "      <td>257814</td>\n",
              "    </tr>\n",
              "    <tr>\n",
              "      <th>True</th>\n",
              "      <td>36169</td>\n",
              "    </tr>\n",
              "  </tbody>\n",
              "</table>\n",
              "</div><br><label><b>dtype:</b> int64</label>"
            ]
          },
          "metadata": {},
          "execution_count": 17
        }
      ]
    },
    {
      "cell_type": "markdown",
      "source": [
        "Looks like over 36000 rows in `orderlines` are affected by this problem. Let's work out how much that is as a percentage of our total data."
      ],
      "metadata": {
        "id": "HSUPvFJU6Jv-"
      }
    },
    {
      "cell_type": "code",
      "source": [
        "two_dot_percentage = ((orderlines_df.unit_price.str.contains(\"\\d+\\.\\d+\\.\\d+\").value_counts()[1] / orderlines_df.shape[0])*100).round(2)\n",
        "print(f\"The 2 dot problem represents {two_dot_percentage}% of the rows in our DataFrame\")"
      ],
      "metadata": {
        "id": "r75Rm1EgVjpi",
        "colab": {
          "base_uri": "https://localhost:8080/"
        },
        "outputId": "e6250db7-28a8-4d39-b6a5-27e7b06c481e"
      },
      "execution_count": 18,
      "outputs": [
        {
          "output_type": "stream",
          "name": "stdout",
          "text": [
            "The 2 dot problem represents 12.3% of the rows in our DataFrame\n"
          ]
        },
        {
          "output_type": "stream",
          "name": "stderr",
          "text": [
            "<ipython-input-18-d7cb20f99e43>:1: FutureWarning: Series.__getitem__ treating keys as positions is deprecated. In a future version, integer keys will always be treated as labels (consistent with DataFrame behavior). To access a value by position, use `ser.iloc[pos]`\n",
            "  two_dot_percentage = ((orderlines_df.unit_price.str.contains(\"\\d+\\.\\d+\\.\\d+\").value_counts()[1] / orderlines_df.shape[0])*100).round(2)\n"
          ]
        }
      ]
    },
    {
      "cell_type": "markdown",
      "source": [
        "This is a somewhat difficult decision, as 12.3% is a considerable amount of data... and it could even be that a larger part of the data could be lost in the end. For this project, the rows will be deleted as we only have 2 weeks for this project and I would like to show quick, accurate results.\n",
        "\n",
        "Each line of “Orderlines” represents a product in an order. For example, if order number 175 contains 3 different products, then order 175 would have 3 lines in “orderlines”, one line for each product. If 2 of these products have “normal” prices (14.99, 15.85) and 1 has a price with 2 decimal places (1.137.99), the entire order must be removed and not just the affected line. If only the line with 2 decimal places were removed, a later analysis of products and prices could be misleading.\n",
        "\n",
        "Therefore, the order numbers associated with the rows with 2 decimal places must be found and then all associated rows removed."
      ],
      "metadata": {
        "id": "5Kp9_4pqeu5J"
      }
    },
    {
      "cell_type": "code",
      "source": [
        "two_dot_order_ids_list = orderlines_df.loc[orderlines_df.unit_price.str.contains(\"\\d+\\.\\d+\\.\\d+\"), \"id_order\"]\n",
        "\n",
        "orderlines_df = orderlines_df.loc[~orderlines_df.id_order.isin(two_dot_order_ids_list)]"
      ],
      "metadata": {
        "id": "wQnSe-n1WCqv"
      },
      "execution_count": 19,
      "outputs": []
    },
    {
      "cell_type": "code",
      "source": [
        "orderlines_df.shape[0]"
      ],
      "metadata": {
        "id": "k-GLzXuV0Ioj",
        "colab": {
          "base_uri": "https://localhost:8080/"
        },
        "outputId": "abd9fcbe-297e-4216-ebe3-f9fe8b360c1a"
      },
      "execution_count": 20,
      "outputs": [
        {
          "output_type": "execute_result",
          "data": {
            "text/plain": [
              "216250"
            ]
          },
          "metadata": {},
          "execution_count": 20
        }
      ]
    },
    {
      "cell_type": "markdown",
      "source": [
        "There are still 216250 rows in orderlines to work with. This should be more than enough for the evaluation.\n",
        "\n",
        "Now that all of the 2 decimal point prices have been removed, it's time to try again converting the column `unit_price` to the correct datatype."
      ],
      "metadata": {
        "id": "2pd5t4110iz3"
      }
    },
    {
      "cell_type": "code",
      "source": [
        "orderlines_df[\"unit_price\"] = pd.to_numeric(orderlines_df[\"unit_price\"])\n",
        "orderlines_df.info()"
      ],
      "metadata": {
        "id": "Q4eDTAPs1HMZ",
        "colab": {
          "base_uri": "https://localhost:8080/"
        },
        "outputId": "d2bb1bc1-f2c1-4f39-a84f-d39489613001"
      },
      "execution_count": 23,
      "outputs": [
        {
          "output_type": "stream",
          "name": "stdout",
          "text": [
            "<class 'pandas.core.frame.DataFrame'>\n",
            "Index: 216250 entries, 0 to 293982\n",
            "Data columns (total 7 columns):\n",
            " #   Column            Non-Null Count   Dtype         \n",
            "---  ------            --------------   -----         \n",
            " 0   id                216250 non-null  int64         \n",
            " 1   id_order          216250 non-null  int64         \n",
            " 2   product_id        216250 non-null  int64         \n",
            " 3   product_quantity  216250 non-null  int64         \n",
            " 4   sku               216250 non-null  object        \n",
            " 5   unit_price        216250 non-null  float64       \n",
            " 6   date              216250 non-null  datetime64[ns]\n",
            "dtypes: datetime64[ns](1), float64(1), int64(4), object(1)\n",
            "memory usage: 13.2+ MB\n"
          ]
        }
      ]
    },
    {
      "cell_type": "markdown",
      "source": [
        "# Clean the `products` DataFrame\n"
      ],
      "metadata": {
        "id": "1zGAzgIX8_-D"
      }
    },
    {
      "cell_type": "code",
      "source": [
        "# products.csv\n",
        "url = \"https://drive.google.com/file/d/1afxwDXfl-7cQ_qLwyDitfcCx3u7WMvkU/view?usp=sharing\"\n",
        "path = \"https://drive.google.com/uc?export=download&id=\"+url.split(\"/\")[-2]\n",
        "products = pd.read_csv(path)"
      ],
      "metadata": {
        "id": "LtYqdFsa9KTS"
      },
      "execution_count": 24,
      "outputs": []
    },
    {
      "cell_type": "markdown",
      "source": [
        "First creating a copy of the `products` DataFrames. This way any changes won't affect the original DataFrames."
      ],
      "metadata": {
        "id": "QyZASGwpzGT-"
      }
    },
    {
      "cell_type": "code",
      "source": [
        "products_df = products.copy()"
      ],
      "metadata": {
        "id": "-Vb3zvDwapQA"
      },
      "execution_count": 25,
      "outputs": []
    },
    {
      "cell_type": "code",
      "source": [
        "products_df.head()"
      ],
      "metadata": {
        "id": "UW3zYoni9Vcy",
        "colab": {
          "base_uri": "https://localhost:8080/",
          "height": 223
        },
        "outputId": "1f9f2824-6922-40c1-f635-f7f5c27f7863"
      },
      "execution_count": 26,
      "outputs": [
        {
          "output_type": "execute_result",
          "data": {
            "text/plain": [
              "       sku                                           name  \\\n",
              "0  RAI0007              Silver Rain Design mStand Support   \n",
              "1  APP0023              Apple Mac Keyboard Keypad Spanish   \n",
              "2  APP0025               Mighty Mouse Apple Mouse for Mac   \n",
              "3  APP0072  Apple Dock to USB Cable iPhone and iPod white   \n",
              "4  KIN0007    Mac Memory Kingston 2GB 667MHz DDR2 SO-DIMM   \n",
              "\n",
              "                                                            desc  price  \\\n",
              "0                   Aluminum support compatible with all MacBook  59.99   \n",
              "1                      USB ultrathin keyboard Apple Mac Spanish.     59   \n",
              "2                                         mouse Apple USB cable.     59   \n",
              "3                          IPhone dock and USB Cable Apple iPod.     25   \n",
              "4  2GB RAM Mac mini and iMac (2006/07) MacBook Pro (2006/07/08).  34.99   \n",
              "\n",
              "  promo_price  in_stock      type  \n",
              "0     499.899         1      8696  \n",
              "1     589.996         0  13855401  \n",
              "2     569.898         0      1387  \n",
              "3     229.997         0      1230  \n",
              "4       31.99         1      1364  "
            ],
            "text/html": [
              "\n",
              "  <div id=\"df-99a89a33-c6c1-4686-bafa-730970b6b65f\" class=\"colab-df-container\">\n",
              "    <div>\n",
              "<style scoped>\n",
              "    .dataframe tbody tr th:only-of-type {\n",
              "        vertical-align: middle;\n",
              "    }\n",
              "\n",
              "    .dataframe tbody tr th {\n",
              "        vertical-align: top;\n",
              "    }\n",
              "\n",
              "    .dataframe thead th {\n",
              "        text-align: right;\n",
              "    }\n",
              "</style>\n",
              "<table border=\"1\" class=\"dataframe\">\n",
              "  <thead>\n",
              "    <tr style=\"text-align: right;\">\n",
              "      <th></th>\n",
              "      <th>sku</th>\n",
              "      <th>name</th>\n",
              "      <th>desc</th>\n",
              "      <th>price</th>\n",
              "      <th>promo_price</th>\n",
              "      <th>in_stock</th>\n",
              "      <th>type</th>\n",
              "    </tr>\n",
              "  </thead>\n",
              "  <tbody>\n",
              "    <tr>\n",
              "      <th>0</th>\n",
              "      <td>RAI0007</td>\n",
              "      <td>Silver Rain Design mStand Support</td>\n",
              "      <td>Aluminum support compatible with all MacBook</td>\n",
              "      <td>59.99</td>\n",
              "      <td>499.899</td>\n",
              "      <td>1</td>\n",
              "      <td>8696</td>\n",
              "    </tr>\n",
              "    <tr>\n",
              "      <th>1</th>\n",
              "      <td>APP0023</td>\n",
              "      <td>Apple Mac Keyboard Keypad Spanish</td>\n",
              "      <td>USB ultrathin keyboard Apple Mac Spanish.</td>\n",
              "      <td>59</td>\n",
              "      <td>589.996</td>\n",
              "      <td>0</td>\n",
              "      <td>13855401</td>\n",
              "    </tr>\n",
              "    <tr>\n",
              "      <th>2</th>\n",
              "      <td>APP0025</td>\n",
              "      <td>Mighty Mouse Apple Mouse for Mac</td>\n",
              "      <td>mouse Apple USB cable.</td>\n",
              "      <td>59</td>\n",
              "      <td>569.898</td>\n",
              "      <td>0</td>\n",
              "      <td>1387</td>\n",
              "    </tr>\n",
              "    <tr>\n",
              "      <th>3</th>\n",
              "      <td>APP0072</td>\n",
              "      <td>Apple Dock to USB Cable iPhone and iPod white</td>\n",
              "      <td>IPhone dock and USB Cable Apple iPod.</td>\n",
              "      <td>25</td>\n",
              "      <td>229.997</td>\n",
              "      <td>0</td>\n",
              "      <td>1230</td>\n",
              "    </tr>\n",
              "    <tr>\n",
              "      <th>4</th>\n",
              "      <td>KIN0007</td>\n",
              "      <td>Mac Memory Kingston 2GB 667MHz DDR2 SO-DIMM</td>\n",
              "      <td>2GB RAM Mac mini and iMac (2006/07) MacBook Pro (2006/07/08).</td>\n",
              "      <td>34.99</td>\n",
              "      <td>31.99</td>\n",
              "      <td>1</td>\n",
              "      <td>1364</td>\n",
              "    </tr>\n",
              "  </tbody>\n",
              "</table>\n",
              "</div>\n",
              "    <div class=\"colab-df-buttons\">\n",
              "\n",
              "  <div class=\"colab-df-container\">\n",
              "    <button class=\"colab-df-convert\" onclick=\"convertToInteractive('df-99a89a33-c6c1-4686-bafa-730970b6b65f')\"\n",
              "            title=\"Convert this dataframe to an interactive table.\"\n",
              "            style=\"display:none;\">\n",
              "\n",
              "  <svg xmlns=\"http://www.w3.org/2000/svg\" height=\"24px\" viewBox=\"0 -960 960 960\">\n",
              "    <path d=\"M120-120v-720h720v720H120Zm60-500h600v-160H180v160Zm220 220h160v-160H400v160Zm0 220h160v-160H400v160ZM180-400h160v-160H180v160Zm440 0h160v-160H620v160ZM180-180h160v-160H180v160Zm440 0h160v-160H620v160Z\"/>\n",
              "  </svg>\n",
              "    </button>\n",
              "\n",
              "  <style>\n",
              "    .colab-df-container {\n",
              "      display:flex;\n",
              "      gap: 12px;\n",
              "    }\n",
              "\n",
              "    .colab-df-convert {\n",
              "      background-color: #E8F0FE;\n",
              "      border: none;\n",
              "      border-radius: 50%;\n",
              "      cursor: pointer;\n",
              "      display: none;\n",
              "      fill: #1967D2;\n",
              "      height: 32px;\n",
              "      padding: 0 0 0 0;\n",
              "      width: 32px;\n",
              "    }\n",
              "\n",
              "    .colab-df-convert:hover {\n",
              "      background-color: #E2EBFA;\n",
              "      box-shadow: 0px 1px 2px rgba(60, 64, 67, 0.3), 0px 1px 3px 1px rgba(60, 64, 67, 0.15);\n",
              "      fill: #174EA6;\n",
              "    }\n",
              "\n",
              "    .colab-df-buttons div {\n",
              "      margin-bottom: 4px;\n",
              "    }\n",
              "\n",
              "    [theme=dark] .colab-df-convert {\n",
              "      background-color: #3B4455;\n",
              "      fill: #D2E3FC;\n",
              "    }\n",
              "\n",
              "    [theme=dark] .colab-df-convert:hover {\n",
              "      background-color: #434B5C;\n",
              "      box-shadow: 0px 1px 3px 1px rgba(0, 0, 0, 0.15);\n",
              "      filter: drop-shadow(0px 1px 2px rgba(0, 0, 0, 0.3));\n",
              "      fill: #FFFFFF;\n",
              "    }\n",
              "  </style>\n",
              "\n",
              "    <script>\n",
              "      const buttonEl =\n",
              "        document.querySelector('#df-99a89a33-c6c1-4686-bafa-730970b6b65f button.colab-df-convert');\n",
              "      buttonEl.style.display =\n",
              "        google.colab.kernel.accessAllowed ? 'block' : 'none';\n",
              "\n",
              "      async function convertToInteractive(key) {\n",
              "        const element = document.querySelector('#df-99a89a33-c6c1-4686-bafa-730970b6b65f');\n",
              "        const dataTable =\n",
              "          await google.colab.kernel.invokeFunction('convertToInteractive',\n",
              "                                                    [key], {});\n",
              "        if (!dataTable) return;\n",
              "\n",
              "        const docLinkHtml = 'Like what you see? Visit the ' +\n",
              "          '<a target=\"_blank\" href=https://colab.research.google.com/notebooks/data_table.ipynb>data table notebook</a>'\n",
              "          + ' to learn more about interactive tables.';\n",
              "        element.innerHTML = '';\n",
              "        dataTable['output_type'] = 'display_data';\n",
              "        await google.colab.output.renderOutput(dataTable, element);\n",
              "        const docLink = document.createElement('div');\n",
              "        docLink.innerHTML = docLinkHtml;\n",
              "        element.appendChild(docLink);\n",
              "      }\n",
              "    </script>\n",
              "  </div>\n",
              "\n",
              "\n",
              "<div id=\"df-1f5900a6-f7f5-4f68-95d7-739fd68e0dcd\">\n",
              "  <button class=\"colab-df-quickchart\" onclick=\"quickchart('df-1f5900a6-f7f5-4f68-95d7-739fd68e0dcd')\"\n",
              "            title=\"Suggest charts\"\n",
              "            style=\"display:none;\">\n",
              "\n",
              "<svg xmlns=\"http://www.w3.org/2000/svg\" height=\"24px\"viewBox=\"0 0 24 24\"\n",
              "     width=\"24px\">\n",
              "    <g>\n",
              "        <path d=\"M19 3H5c-1.1 0-2 .9-2 2v14c0 1.1.9 2 2 2h14c1.1 0 2-.9 2-2V5c0-1.1-.9-2-2-2zM9 17H7v-7h2v7zm4 0h-2V7h2v10zm4 0h-2v-4h2v4z\"/>\n",
              "    </g>\n",
              "</svg>\n",
              "  </button>\n",
              "\n",
              "<style>\n",
              "  .colab-df-quickchart {\n",
              "      --bg-color: #E8F0FE;\n",
              "      --fill-color: #1967D2;\n",
              "      --hover-bg-color: #E2EBFA;\n",
              "      --hover-fill-color: #174EA6;\n",
              "      --disabled-fill-color: #AAA;\n",
              "      --disabled-bg-color: #DDD;\n",
              "  }\n",
              "\n",
              "  [theme=dark] .colab-df-quickchart {\n",
              "      --bg-color: #3B4455;\n",
              "      --fill-color: #D2E3FC;\n",
              "      --hover-bg-color: #434B5C;\n",
              "      --hover-fill-color: #FFFFFF;\n",
              "      --disabled-bg-color: #3B4455;\n",
              "      --disabled-fill-color: #666;\n",
              "  }\n",
              "\n",
              "  .colab-df-quickchart {\n",
              "    background-color: var(--bg-color);\n",
              "    border: none;\n",
              "    border-radius: 50%;\n",
              "    cursor: pointer;\n",
              "    display: none;\n",
              "    fill: var(--fill-color);\n",
              "    height: 32px;\n",
              "    padding: 0;\n",
              "    width: 32px;\n",
              "  }\n",
              "\n",
              "  .colab-df-quickchart:hover {\n",
              "    background-color: var(--hover-bg-color);\n",
              "    box-shadow: 0 1px 2px rgba(60, 64, 67, 0.3), 0 1px 3px 1px rgba(60, 64, 67, 0.15);\n",
              "    fill: var(--button-hover-fill-color);\n",
              "  }\n",
              "\n",
              "  .colab-df-quickchart-complete:disabled,\n",
              "  .colab-df-quickchart-complete:disabled:hover {\n",
              "    background-color: var(--disabled-bg-color);\n",
              "    fill: var(--disabled-fill-color);\n",
              "    box-shadow: none;\n",
              "  }\n",
              "\n",
              "  .colab-df-spinner {\n",
              "    border: 2px solid var(--fill-color);\n",
              "    border-color: transparent;\n",
              "    border-bottom-color: var(--fill-color);\n",
              "    animation:\n",
              "      spin 1s steps(1) infinite;\n",
              "  }\n",
              "\n",
              "  @keyframes spin {\n",
              "    0% {\n",
              "      border-color: transparent;\n",
              "      border-bottom-color: var(--fill-color);\n",
              "      border-left-color: var(--fill-color);\n",
              "    }\n",
              "    20% {\n",
              "      border-color: transparent;\n",
              "      border-left-color: var(--fill-color);\n",
              "      border-top-color: var(--fill-color);\n",
              "    }\n",
              "    30% {\n",
              "      border-color: transparent;\n",
              "      border-left-color: var(--fill-color);\n",
              "      border-top-color: var(--fill-color);\n",
              "      border-right-color: var(--fill-color);\n",
              "    }\n",
              "    40% {\n",
              "      border-color: transparent;\n",
              "      border-right-color: var(--fill-color);\n",
              "      border-top-color: var(--fill-color);\n",
              "    }\n",
              "    60% {\n",
              "      border-color: transparent;\n",
              "      border-right-color: var(--fill-color);\n",
              "    }\n",
              "    80% {\n",
              "      border-color: transparent;\n",
              "      border-right-color: var(--fill-color);\n",
              "      border-bottom-color: var(--fill-color);\n",
              "    }\n",
              "    90% {\n",
              "      border-color: transparent;\n",
              "      border-bottom-color: var(--fill-color);\n",
              "    }\n",
              "  }\n",
              "</style>\n",
              "\n",
              "  <script>\n",
              "    async function quickchart(key) {\n",
              "      const quickchartButtonEl =\n",
              "        document.querySelector('#' + key + ' button');\n",
              "      quickchartButtonEl.disabled = true;  // To prevent multiple clicks.\n",
              "      quickchartButtonEl.classList.add('colab-df-spinner');\n",
              "      try {\n",
              "        const charts = await google.colab.kernel.invokeFunction(\n",
              "            'suggestCharts', [key], {});\n",
              "      } catch (error) {\n",
              "        console.error('Error during call to suggestCharts:', error);\n",
              "      }\n",
              "      quickchartButtonEl.classList.remove('colab-df-spinner');\n",
              "      quickchartButtonEl.classList.add('colab-df-quickchart-complete');\n",
              "    }\n",
              "    (() => {\n",
              "      let quickchartButtonEl =\n",
              "        document.querySelector('#df-1f5900a6-f7f5-4f68-95d7-739fd68e0dcd button');\n",
              "      quickchartButtonEl.style.display =\n",
              "        google.colab.kernel.accessAllowed ? 'block' : 'none';\n",
              "    })();\n",
              "  </script>\n",
              "</div>\n",
              "\n",
              "    </div>\n",
              "  </div>\n"
            ],
            "application/vnd.google.colaboratory.intrinsic+json": {
              "type": "dataframe",
              "variable_name": "products_df",
              "summary": "{\n  \"name\": \"products_df\",\n  \"rows\": 19326,\n  \"fields\": [\n    {\n      \"column\": \"sku\",\n      \"properties\": {\n        \"dtype\": \"string\",\n        \"num_unique_values\": 10579,\n        \"samples\": [\n          \"PUR0153\",\n          \"XDO0039\",\n          \"LIF0132\"\n        ],\n        \"semantic_type\": \"\",\n        \"description\": \"\"\n      }\n    },\n    {\n      \"column\": \"name\",\n      \"properties\": {\n        \"dtype\": \"string\",\n        \"num_unique_values\": 10373,\n        \"samples\": [\n          \"iKettle Red teapot Case\",\n          \"Apple iPhone 6 Plus 64GB Space Gray\",\n          \"Support Kukaclip car + Funda iPhone 5 / 5S Black\"\n        ],\n        \"semantic_type\": \"\",\n        \"description\": \"\"\n      }\n    },\n    {\n      \"column\": \"desc\",\n      \"properties\": {\n        \"dtype\": \"category\",\n        \"num_unique_values\": 7098,\n        \"samples\": [\n          \"Protective Case for iPad Air 2 and iPad Pro 97\",\n          \"IMac desktop computer 27 inch 5K Retina i5 3.3GHz 256GB Flash RAM 16GB (MK482Y / A).\",\n          \"Create and schedule your Android Meebot of Ubtech from your iPhone or iPad\"\n        ],\n        \"semantic_type\": \"\",\n        \"description\": \"\"\n      }\n    },\n    {\n      \"column\": \"price\",\n      \"properties\": {\n        \"dtype\": \"category\",\n        \"num_unique_values\": 2690,\n        \"samples\": [\n          \"83.281.154\",\n          \"758.07\",\n          \"294\"\n        ],\n        \"semantic_type\": \"\",\n        \"description\": \"\"\n      }\n    },\n    {\n      \"column\": \"promo_price\",\n      \"properties\": {\n        \"dtype\": \"category\",\n        \"num_unique_values\": 4614,\n        \"samples\": [\n          \"382.796\",\n          \"40.795\",\n          \"1.729.901\"\n        ],\n        \"semantic_type\": \"\",\n        \"description\": \"\"\n      }\n    },\n    {\n      \"column\": \"in_stock\",\n      \"properties\": {\n        \"dtype\": \"number\",\n        \"std\": 0,\n        \"min\": 0,\n        \"max\": 1,\n        \"num_unique_values\": 2,\n        \"samples\": [\n          0,\n          1\n        ],\n        \"semantic_type\": \"\",\n        \"description\": \"\"\n      }\n    },\n    {\n      \"column\": \"type\",\n      \"properties\": {\n        \"dtype\": \"category\",\n        \"num_unique_values\": 126,\n        \"samples\": [\n          \"2434\",\n          \"12755395\"\n        ],\n        \"semantic_type\": \"\",\n        \"description\": \"\"\n      }\n    }\n  ]\n}"
            }
          },
          "metadata": {},
          "execution_count": 26
        }
      ]
    },
    {
      "cell_type": "code",
      "source": [
        "products_df.info()"
      ],
      "metadata": {
        "id": "per_bjhcO0_L",
        "colab": {
          "base_uri": "https://localhost:8080/"
        },
        "outputId": "aa2115c1-38d5-4fcd-c75b-9b1e2e8d857b"
      },
      "execution_count": 27,
      "outputs": [
        {
          "output_type": "stream",
          "name": "stdout",
          "text": [
            "<class 'pandas.core.frame.DataFrame'>\n",
            "RangeIndex: 19326 entries, 0 to 19325\n",
            "Data columns (total 7 columns):\n",
            " #   Column       Non-Null Count  Dtype \n",
            "---  ------       --------------  ----- \n",
            " 0   sku          19326 non-null  object\n",
            " 1   name         19326 non-null  object\n",
            " 2   desc         19319 non-null  object\n",
            " 3   price        19280 non-null  object\n",
            " 4   promo_price  19326 non-null  object\n",
            " 5   in_stock     19326 non-null  int64 \n",
            " 6   type         19276 non-null  object\n",
            "dtypes: int64(1), object(6)\n",
            "memory usage: 1.0+ MB\n"
          ]
        }
      ]
    },
    {
      "cell_type": "markdown",
      "source": [
        "These will be the next steps:\n",
        "* Duplicates\n",
        "* Missing values\n",
        "* Datatypes\n"
      ],
      "metadata": {
        "id": "eJJELJjD9l3W"
      }
    },
    {
      "cell_type": "markdown",
      "source": [
        "## Duplicates"
      ],
      "metadata": {
        "id": "DyTfC-WY-IWe"
      }
    },
    {
      "cell_type": "code",
      "source": [
        "products_df.duplicated().sum()"
      ],
      "metadata": {
        "id": "7WzmgCuz9X1x",
        "colab": {
          "base_uri": "https://localhost:8080/"
        },
        "outputId": "3beba82f-2518-42a1-9cc6-b8de4ec5cd7a"
      },
      "execution_count": 28,
      "outputs": [
        {
          "output_type": "execute_result",
          "data": {
            "text/plain": [
              "8746"
            ]
          },
          "metadata": {},
          "execution_count": 28
        }
      ]
    },
    {
      "cell_type": "markdown",
      "source": [
        "First getting rid of the duplicates."
      ],
      "metadata": {
        "id": "goe2v94N-Oyk"
      }
    },
    {
      "cell_type": "code",
      "source": [
        "products_df = products_df.drop_duplicates()"
      ],
      "metadata": {
        "id": "aP-EeieW-N5i"
      },
      "execution_count": 29,
      "outputs": []
    },
    {
      "cell_type": "code",
      "source": [
        "products_df.duplicated().sum()"
      ],
      "metadata": {
        "colab": {
          "base_uri": "https://localhost:8080/"
        },
        "id": "i8kUJuWqbVXG",
        "outputId": "c36b26d9-1524-468d-aa9f-56f827986f20"
      },
      "execution_count": 31,
      "outputs": [
        {
          "output_type": "execute_result",
          "data": {
            "text/plain": [
              "0"
            ]
          },
          "metadata": {},
          "execution_count": 31
        }
      ]
    },
    {
      "cell_type": "markdown",
      "source": [
        "## `.info()`"
      ],
      "metadata": {
        "id": "kAgpknOR-zAg"
      }
    },
    {
      "cell_type": "code",
      "source": [
        "products_df.info()"
      ],
      "metadata": {
        "id": "MXZXRvUa_GTW",
        "colab": {
          "base_uri": "https://localhost:8080/"
        },
        "outputId": "2027f2d1-4260-40df-f8a3-e5ae6aba13a3"
      },
      "execution_count": 32,
      "outputs": [
        {
          "output_type": "stream",
          "name": "stdout",
          "text": [
            "<class 'pandas.core.frame.DataFrame'>\n",
            "Index: 10580 entries, 0 to 19325\n",
            "Data columns (total 7 columns):\n",
            " #   Column       Non-Null Count  Dtype \n",
            "---  ------       --------------  ----- \n",
            " 0   sku          10580 non-null  object\n",
            " 1   name         10580 non-null  object\n",
            " 2   desc         10573 non-null  object\n",
            " 3   price        10534 non-null  object\n",
            " 4   promo_price  10580 non-null  object\n",
            " 5   in_stock     10580 non-null  int64 \n",
            " 6   type         10530 non-null  object\n",
            "dtypes: int64(1), object(6)\n",
            "memory usage: 661.2+ KB\n"
          ]
        }
      ]
    },
    {
      "cell_type": "markdown",
      "source": [
        "### Missing values\n",
        "`.info()` above shows that there are missing values in column `desc` and `price`"
      ],
      "metadata": {
        "id": "XTGqkqtm--ln"
      }
    },
    {
      "cell_type": "markdown",
      "source": [
        "#### `desc`"
      ],
      "metadata": {
        "id": "LnW3DuWh_ZFr"
      }
    },
    {
      "cell_type": "code",
      "source": [
        "products_df[\"desc\"].isna().sum()"
      ],
      "metadata": {
        "id": "1cS0Zz9kSNrr",
        "colab": {
          "base_uri": "https://localhost:8080/"
        },
        "outputId": "c570dadc-3b25-4f71-8532-9df51b20e036"
      },
      "execution_count": 33,
      "outputs": [
        {
          "output_type": "execute_result",
          "data": {
            "text/plain": [
              "7"
            ]
          },
          "metadata": {},
          "execution_count": 33
        }
      ]
    },
    {
      "cell_type": "markdown",
      "source": [
        "7 is a very small number to have missing --> closer look below"
      ],
      "metadata": {
        "id": "tiRskHsWlrqC"
      }
    },
    {
      "cell_type": "code",
      "source": [
        "products_df.loc[products_df['desc'].isna(), :]"
      ],
      "metadata": {
        "id": "eK9_QN6H-klR",
        "colab": {
          "base_uri": "https://localhost:8080/",
          "height": 269
        },
        "outputId": "adb42ced-6e4a-4a0e-b964-611ab22c3bab"
      },
      "execution_count": 35,
      "outputs": [
        {
          "output_type": "execute_result",
          "data": {
            "text/plain": [
              "             sku  \\\n",
              "16126  WDT0211-A   \n",
              "16128  APP1622-A   \n",
              "17843    PAC2334   \n",
              "18152  KAN0034-A   \n",
              "18490    HTE0025   \n",
              "18612    OTT0200   \n",
              "18690  HOW0001-A   \n",
              "\n",
              "                                                                                name  \\\n",
              "16126                    Open - Purple 2TB WD 35 \"PC Security Mac hard drive and NAS   \n",
              "16128                      Open - Apple Smart Keyboard Pro Keyboard Folio iPad 9.7 \"   \n",
              "17843                                         Synology DS718 + NAS Server | 10GB RAM   \n",
              "18152                       Open - Kanex USB-C Gigabit Ethernet Adapter MacBook 12 \"   \n",
              "18490                    Hyper Pearl 1600mAh battery Mini USB Mirror and Comic Blond   \n",
              "18612                                OtterBox External Battery Power Pack 20000 mAHr   \n",
              "18690  Open - Honeywell thermostat Lyric zonificador T6 Intelligent Wireless (cable)   \n",
              "\n",
              "      desc      price promo_price  in_stock      type  \n",
              "16126  NaN        107     814.659         0      1298  \n",
              "16128  NaN  1.568.206   1.568.206         0      1298  \n",
              "17843  NaN     566.35   5.659.896         0  12175397  \n",
              "18152  NaN      29.99     237.925         0      1298  \n",
              "18490  NaN      24.99       22.99         1      1515  \n",
              "18612  NaN      79.99       56.99         1      1515  \n",
              "18690  NaN     199.99   1.441.174         0  11905404  "
            ],
            "text/html": [
              "\n",
              "  <div id=\"df-662aa17e-3e17-4f70-a14a-9f1c74f88aa1\" class=\"colab-df-container\">\n",
              "    <div>\n",
              "<style scoped>\n",
              "    .dataframe tbody tr th:only-of-type {\n",
              "        vertical-align: middle;\n",
              "    }\n",
              "\n",
              "    .dataframe tbody tr th {\n",
              "        vertical-align: top;\n",
              "    }\n",
              "\n",
              "    .dataframe thead th {\n",
              "        text-align: right;\n",
              "    }\n",
              "</style>\n",
              "<table border=\"1\" class=\"dataframe\">\n",
              "  <thead>\n",
              "    <tr style=\"text-align: right;\">\n",
              "      <th></th>\n",
              "      <th>sku</th>\n",
              "      <th>name</th>\n",
              "      <th>desc</th>\n",
              "      <th>price</th>\n",
              "      <th>promo_price</th>\n",
              "      <th>in_stock</th>\n",
              "      <th>type</th>\n",
              "    </tr>\n",
              "  </thead>\n",
              "  <tbody>\n",
              "    <tr>\n",
              "      <th>16126</th>\n",
              "      <td>WDT0211-A</td>\n",
              "      <td>Open - Purple 2TB WD 35 \"PC Security Mac hard drive and NAS</td>\n",
              "      <td>NaN</td>\n",
              "      <td>107</td>\n",
              "      <td>814.659</td>\n",
              "      <td>0</td>\n",
              "      <td>1298</td>\n",
              "    </tr>\n",
              "    <tr>\n",
              "      <th>16128</th>\n",
              "      <td>APP1622-A</td>\n",
              "      <td>Open - Apple Smart Keyboard Pro Keyboard Folio iPad 9.7 \"</td>\n",
              "      <td>NaN</td>\n",
              "      <td>1.568.206</td>\n",
              "      <td>1.568.206</td>\n",
              "      <td>0</td>\n",
              "      <td>1298</td>\n",
              "    </tr>\n",
              "    <tr>\n",
              "      <th>17843</th>\n",
              "      <td>PAC2334</td>\n",
              "      <td>Synology DS718 + NAS Server | 10GB RAM</td>\n",
              "      <td>NaN</td>\n",
              "      <td>566.35</td>\n",
              "      <td>5.659.896</td>\n",
              "      <td>0</td>\n",
              "      <td>12175397</td>\n",
              "    </tr>\n",
              "    <tr>\n",
              "      <th>18152</th>\n",
              "      <td>KAN0034-A</td>\n",
              "      <td>Open - Kanex USB-C Gigabit Ethernet Adapter MacBook 12 \"</td>\n",
              "      <td>NaN</td>\n",
              "      <td>29.99</td>\n",
              "      <td>237.925</td>\n",
              "      <td>0</td>\n",
              "      <td>1298</td>\n",
              "    </tr>\n",
              "    <tr>\n",
              "      <th>18490</th>\n",
              "      <td>HTE0025</td>\n",
              "      <td>Hyper Pearl 1600mAh battery Mini USB Mirror and Comic Blond</td>\n",
              "      <td>NaN</td>\n",
              "      <td>24.99</td>\n",
              "      <td>22.99</td>\n",
              "      <td>1</td>\n",
              "      <td>1515</td>\n",
              "    </tr>\n",
              "    <tr>\n",
              "      <th>18612</th>\n",
              "      <td>OTT0200</td>\n",
              "      <td>OtterBox External Battery Power Pack 20000 mAHr</td>\n",
              "      <td>NaN</td>\n",
              "      <td>79.99</td>\n",
              "      <td>56.99</td>\n",
              "      <td>1</td>\n",
              "      <td>1515</td>\n",
              "    </tr>\n",
              "    <tr>\n",
              "      <th>18690</th>\n",
              "      <td>HOW0001-A</td>\n",
              "      <td>Open - Honeywell thermostat Lyric zonificador T6 Intelligent Wireless (cable)</td>\n",
              "      <td>NaN</td>\n",
              "      <td>199.99</td>\n",
              "      <td>1.441.174</td>\n",
              "      <td>0</td>\n",
              "      <td>11905404</td>\n",
              "    </tr>\n",
              "  </tbody>\n",
              "</table>\n",
              "</div>\n",
              "    <div class=\"colab-df-buttons\">\n",
              "\n",
              "  <div class=\"colab-df-container\">\n",
              "    <button class=\"colab-df-convert\" onclick=\"convertToInteractive('df-662aa17e-3e17-4f70-a14a-9f1c74f88aa1')\"\n",
              "            title=\"Convert this dataframe to an interactive table.\"\n",
              "            style=\"display:none;\">\n",
              "\n",
              "  <svg xmlns=\"http://www.w3.org/2000/svg\" height=\"24px\" viewBox=\"0 -960 960 960\">\n",
              "    <path d=\"M120-120v-720h720v720H120Zm60-500h600v-160H180v160Zm220 220h160v-160H400v160Zm0 220h160v-160H400v160ZM180-400h160v-160H180v160Zm440 0h160v-160H620v160ZM180-180h160v-160H180v160Zm440 0h160v-160H620v160Z\"/>\n",
              "  </svg>\n",
              "    </button>\n",
              "\n",
              "  <style>\n",
              "    .colab-df-container {\n",
              "      display:flex;\n",
              "      gap: 12px;\n",
              "    }\n",
              "\n",
              "    .colab-df-convert {\n",
              "      background-color: #E8F0FE;\n",
              "      border: none;\n",
              "      border-radius: 50%;\n",
              "      cursor: pointer;\n",
              "      display: none;\n",
              "      fill: #1967D2;\n",
              "      height: 32px;\n",
              "      padding: 0 0 0 0;\n",
              "      width: 32px;\n",
              "    }\n",
              "\n",
              "    .colab-df-convert:hover {\n",
              "      background-color: #E2EBFA;\n",
              "      box-shadow: 0px 1px 2px rgba(60, 64, 67, 0.3), 0px 1px 3px 1px rgba(60, 64, 67, 0.15);\n",
              "      fill: #174EA6;\n",
              "    }\n",
              "\n",
              "    .colab-df-buttons div {\n",
              "      margin-bottom: 4px;\n",
              "    }\n",
              "\n",
              "    [theme=dark] .colab-df-convert {\n",
              "      background-color: #3B4455;\n",
              "      fill: #D2E3FC;\n",
              "    }\n",
              "\n",
              "    [theme=dark] .colab-df-convert:hover {\n",
              "      background-color: #434B5C;\n",
              "      box-shadow: 0px 1px 3px 1px rgba(0, 0, 0, 0.15);\n",
              "      filter: drop-shadow(0px 1px 2px rgba(0, 0, 0, 0.3));\n",
              "      fill: #FFFFFF;\n",
              "    }\n",
              "  </style>\n",
              "\n",
              "    <script>\n",
              "      const buttonEl =\n",
              "        document.querySelector('#df-662aa17e-3e17-4f70-a14a-9f1c74f88aa1 button.colab-df-convert');\n",
              "      buttonEl.style.display =\n",
              "        google.colab.kernel.accessAllowed ? 'block' : 'none';\n",
              "\n",
              "      async function convertToInteractive(key) {\n",
              "        const element = document.querySelector('#df-662aa17e-3e17-4f70-a14a-9f1c74f88aa1');\n",
              "        const dataTable =\n",
              "          await google.colab.kernel.invokeFunction('convertToInteractive',\n",
              "                                                    [key], {});\n",
              "        if (!dataTable) return;\n",
              "\n",
              "        const docLinkHtml = 'Like what you see? Visit the ' +\n",
              "          '<a target=\"_blank\" href=https://colab.research.google.com/notebooks/data_table.ipynb>data table notebook</a>'\n",
              "          + ' to learn more about interactive tables.';\n",
              "        element.innerHTML = '';\n",
              "        dataTable['output_type'] = 'display_data';\n",
              "        await google.colab.output.renderOutput(dataTable, element);\n",
              "        const docLink = document.createElement('div');\n",
              "        docLink.innerHTML = docLinkHtml;\n",
              "        element.appendChild(docLink);\n",
              "      }\n",
              "    </script>\n",
              "  </div>\n",
              "\n",
              "\n",
              "<div id=\"df-63bf950c-a09d-4d9d-a287-7aa0ed3aec00\">\n",
              "  <button class=\"colab-df-quickchart\" onclick=\"quickchart('df-63bf950c-a09d-4d9d-a287-7aa0ed3aec00')\"\n",
              "            title=\"Suggest charts\"\n",
              "            style=\"display:none;\">\n",
              "\n",
              "<svg xmlns=\"http://www.w3.org/2000/svg\" height=\"24px\"viewBox=\"0 0 24 24\"\n",
              "     width=\"24px\">\n",
              "    <g>\n",
              "        <path d=\"M19 3H5c-1.1 0-2 .9-2 2v14c0 1.1.9 2 2 2h14c1.1 0 2-.9 2-2V5c0-1.1-.9-2-2-2zM9 17H7v-7h2v7zm4 0h-2V7h2v10zm4 0h-2v-4h2v4z\"/>\n",
              "    </g>\n",
              "</svg>\n",
              "  </button>\n",
              "\n",
              "<style>\n",
              "  .colab-df-quickchart {\n",
              "      --bg-color: #E8F0FE;\n",
              "      --fill-color: #1967D2;\n",
              "      --hover-bg-color: #E2EBFA;\n",
              "      --hover-fill-color: #174EA6;\n",
              "      --disabled-fill-color: #AAA;\n",
              "      --disabled-bg-color: #DDD;\n",
              "  }\n",
              "\n",
              "  [theme=dark] .colab-df-quickchart {\n",
              "      --bg-color: #3B4455;\n",
              "      --fill-color: #D2E3FC;\n",
              "      --hover-bg-color: #434B5C;\n",
              "      --hover-fill-color: #FFFFFF;\n",
              "      --disabled-bg-color: #3B4455;\n",
              "      --disabled-fill-color: #666;\n",
              "  }\n",
              "\n",
              "  .colab-df-quickchart {\n",
              "    background-color: var(--bg-color);\n",
              "    border: none;\n",
              "    border-radius: 50%;\n",
              "    cursor: pointer;\n",
              "    display: none;\n",
              "    fill: var(--fill-color);\n",
              "    height: 32px;\n",
              "    padding: 0;\n",
              "    width: 32px;\n",
              "  }\n",
              "\n",
              "  .colab-df-quickchart:hover {\n",
              "    background-color: var(--hover-bg-color);\n",
              "    box-shadow: 0 1px 2px rgba(60, 64, 67, 0.3), 0 1px 3px 1px rgba(60, 64, 67, 0.15);\n",
              "    fill: var(--button-hover-fill-color);\n",
              "  }\n",
              "\n",
              "  .colab-df-quickchart-complete:disabled,\n",
              "  .colab-df-quickchart-complete:disabled:hover {\n",
              "    background-color: var(--disabled-bg-color);\n",
              "    fill: var(--disabled-fill-color);\n",
              "    box-shadow: none;\n",
              "  }\n",
              "\n",
              "  .colab-df-spinner {\n",
              "    border: 2px solid var(--fill-color);\n",
              "    border-color: transparent;\n",
              "    border-bottom-color: var(--fill-color);\n",
              "    animation:\n",
              "      spin 1s steps(1) infinite;\n",
              "  }\n",
              "\n",
              "  @keyframes spin {\n",
              "    0% {\n",
              "      border-color: transparent;\n",
              "      border-bottom-color: var(--fill-color);\n",
              "      border-left-color: var(--fill-color);\n",
              "    }\n",
              "    20% {\n",
              "      border-color: transparent;\n",
              "      border-left-color: var(--fill-color);\n",
              "      border-top-color: var(--fill-color);\n",
              "    }\n",
              "    30% {\n",
              "      border-color: transparent;\n",
              "      border-left-color: var(--fill-color);\n",
              "      border-top-color: var(--fill-color);\n",
              "      border-right-color: var(--fill-color);\n",
              "    }\n",
              "    40% {\n",
              "      border-color: transparent;\n",
              "      border-right-color: var(--fill-color);\n",
              "      border-top-color: var(--fill-color);\n",
              "    }\n",
              "    60% {\n",
              "      border-color: transparent;\n",
              "      border-right-color: var(--fill-color);\n",
              "    }\n",
              "    80% {\n",
              "      border-color: transparent;\n",
              "      border-right-color: var(--fill-color);\n",
              "      border-bottom-color: var(--fill-color);\n",
              "    }\n",
              "    90% {\n",
              "      border-color: transparent;\n",
              "      border-bottom-color: var(--fill-color);\n",
              "    }\n",
              "  }\n",
              "</style>\n",
              "\n",
              "  <script>\n",
              "    async function quickchart(key) {\n",
              "      const quickchartButtonEl =\n",
              "        document.querySelector('#' + key + ' button');\n",
              "      quickchartButtonEl.disabled = true;  // To prevent multiple clicks.\n",
              "      quickchartButtonEl.classList.add('colab-df-spinner');\n",
              "      try {\n",
              "        const charts = await google.colab.kernel.invokeFunction(\n",
              "            'suggestCharts', [key], {});\n",
              "      } catch (error) {\n",
              "        console.error('Error during call to suggestCharts:', error);\n",
              "      }\n",
              "      quickchartButtonEl.classList.remove('colab-df-spinner');\n",
              "      quickchartButtonEl.classList.add('colab-df-quickchart-complete');\n",
              "    }\n",
              "    (() => {\n",
              "      let quickchartButtonEl =\n",
              "        document.querySelector('#df-63bf950c-a09d-4d9d-a287-7aa0ed3aec00 button');\n",
              "      quickchartButtonEl.style.display =\n",
              "        google.colab.kernel.accessAllowed ? 'block' : 'none';\n",
              "    })();\n",
              "  </script>\n",
              "</div>\n",
              "\n",
              "    </div>\n",
              "  </div>\n"
            ],
            "application/vnd.google.colaboratory.intrinsic+json": {
              "type": "dataframe",
              "repr_error": "0"
            }
          },
          "metadata": {},
          "execution_count": 35
        }
      ]
    },
    {
      "cell_type": "markdown",
      "source": [
        "There are two options:\n",
        "* quickly and easily remove these rows.\n",
        "* Or, alternatively, the products names here are quite descriptive, so I'm tempted to just copy them to the description column, so that there is a description if its needed later. --> this will be the way forward"
      ],
      "metadata": {
        "id": "PlFfSOI5_zTB"
      }
    },
    {
      "cell_type": "code",
      "source": [
        "products_df.loc[products_df['desc'].isna(), 'desc'] = products_df.loc[products_df['desc'].isna(), 'name']"
      ],
      "metadata": {
        "id": "Tu_ZH5e0PZ4W"
      },
      "execution_count": 36,
      "outputs": []
    },
    {
      "cell_type": "code",
      "source": [
        "products_df.loc[products_df['desc'].isna(), :]"
      ],
      "metadata": {
        "colab": {
          "base_uri": "https://localhost:8080/",
          "height": 53
        },
        "id": "sGYPGy8xzW0v",
        "outputId": "c548b044-ade4-454f-b4d5-c2762a7d6def"
      },
      "execution_count": 37,
      "outputs": [
        {
          "output_type": "execute_result",
          "data": {
            "text/plain": [
              "Empty DataFrame\n",
              "Columns: [sku, name, desc, price, promo_price, in_stock, type]\n",
              "Index: []"
            ],
            "text/html": [
              "\n",
              "  <div id=\"df-b7d4c763-ba5b-48bc-a777-c76feef7b08c\" class=\"colab-df-container\">\n",
              "    <div>\n",
              "<style scoped>\n",
              "    .dataframe tbody tr th:only-of-type {\n",
              "        vertical-align: middle;\n",
              "    }\n",
              "\n",
              "    .dataframe tbody tr th {\n",
              "        vertical-align: top;\n",
              "    }\n",
              "\n",
              "    .dataframe thead th {\n",
              "        text-align: right;\n",
              "    }\n",
              "</style>\n",
              "<table border=\"1\" class=\"dataframe\">\n",
              "  <thead>\n",
              "    <tr style=\"text-align: right;\">\n",
              "      <th></th>\n",
              "      <th>sku</th>\n",
              "      <th>name</th>\n",
              "      <th>desc</th>\n",
              "      <th>price</th>\n",
              "      <th>promo_price</th>\n",
              "      <th>in_stock</th>\n",
              "      <th>type</th>\n",
              "    </tr>\n",
              "  </thead>\n",
              "  <tbody>\n",
              "  </tbody>\n",
              "</table>\n",
              "</div>\n",
              "    <div class=\"colab-df-buttons\">\n",
              "\n",
              "  <div class=\"colab-df-container\">\n",
              "    <button class=\"colab-df-convert\" onclick=\"convertToInteractive('df-b7d4c763-ba5b-48bc-a777-c76feef7b08c')\"\n",
              "            title=\"Convert this dataframe to an interactive table.\"\n",
              "            style=\"display:none;\">\n",
              "\n",
              "  <svg xmlns=\"http://www.w3.org/2000/svg\" height=\"24px\" viewBox=\"0 -960 960 960\">\n",
              "    <path d=\"M120-120v-720h720v720H120Zm60-500h600v-160H180v160Zm220 220h160v-160H400v160Zm0 220h160v-160H400v160ZM180-400h160v-160H180v160Zm440 0h160v-160H620v160ZM180-180h160v-160H180v160Zm440 0h160v-160H620v160Z\"/>\n",
              "  </svg>\n",
              "    </button>\n",
              "\n",
              "  <style>\n",
              "    .colab-df-container {\n",
              "      display:flex;\n",
              "      gap: 12px;\n",
              "    }\n",
              "\n",
              "    .colab-df-convert {\n",
              "      background-color: #E8F0FE;\n",
              "      border: none;\n",
              "      border-radius: 50%;\n",
              "      cursor: pointer;\n",
              "      display: none;\n",
              "      fill: #1967D2;\n",
              "      height: 32px;\n",
              "      padding: 0 0 0 0;\n",
              "      width: 32px;\n",
              "    }\n",
              "\n",
              "    .colab-df-convert:hover {\n",
              "      background-color: #E2EBFA;\n",
              "      box-shadow: 0px 1px 2px rgba(60, 64, 67, 0.3), 0px 1px 3px 1px rgba(60, 64, 67, 0.15);\n",
              "      fill: #174EA6;\n",
              "    }\n",
              "\n",
              "    .colab-df-buttons div {\n",
              "      margin-bottom: 4px;\n",
              "    }\n",
              "\n",
              "    [theme=dark] .colab-df-convert {\n",
              "      background-color: #3B4455;\n",
              "      fill: #D2E3FC;\n",
              "    }\n",
              "\n",
              "    [theme=dark] .colab-df-convert:hover {\n",
              "      background-color: #434B5C;\n",
              "      box-shadow: 0px 1px 3px 1px rgba(0, 0, 0, 0.15);\n",
              "      filter: drop-shadow(0px 1px 2px rgba(0, 0, 0, 0.3));\n",
              "      fill: #FFFFFF;\n",
              "    }\n",
              "  </style>\n",
              "\n",
              "    <script>\n",
              "      const buttonEl =\n",
              "        document.querySelector('#df-b7d4c763-ba5b-48bc-a777-c76feef7b08c button.colab-df-convert');\n",
              "      buttonEl.style.display =\n",
              "        google.colab.kernel.accessAllowed ? 'block' : 'none';\n",
              "\n",
              "      async function convertToInteractive(key) {\n",
              "        const element = document.querySelector('#df-b7d4c763-ba5b-48bc-a777-c76feef7b08c');\n",
              "        const dataTable =\n",
              "          await google.colab.kernel.invokeFunction('convertToInteractive',\n",
              "                                                    [key], {});\n",
              "        if (!dataTable) return;\n",
              "\n",
              "        const docLinkHtml = 'Like what you see? Visit the ' +\n",
              "          '<a target=\"_blank\" href=https://colab.research.google.com/notebooks/data_table.ipynb>data table notebook</a>'\n",
              "          + ' to learn more about interactive tables.';\n",
              "        element.innerHTML = '';\n",
              "        dataTable['output_type'] = 'display_data';\n",
              "        await google.colab.output.renderOutput(dataTable, element);\n",
              "        const docLink = document.createElement('div');\n",
              "        docLink.innerHTML = docLinkHtml;\n",
              "        element.appendChild(docLink);\n",
              "      }\n",
              "    </script>\n",
              "  </div>\n",
              "\n",
              "\n",
              "    </div>\n",
              "  </div>\n"
            ],
            "application/vnd.google.colaboratory.intrinsic+json": {
              "type": "dataframe",
              "repr_error": "Out of range float values are not JSON compliant: nan"
            }
          },
          "metadata": {},
          "execution_count": 37
        }
      ]
    },
    {
      "cell_type": "markdown",
      "source": [
        "#### `price`"
      ],
      "metadata": {
        "id": "DX9u7jeE_c95"
      }
    },
    {
      "cell_type": "code",
      "source": [
        "products_df.price.isna().sum()"
      ],
      "metadata": {
        "id": "AzID-a2TS6y_",
        "colab": {
          "base_uri": "https://localhost:8080/"
        },
        "outputId": "e76db662-3ddf-48e1-8c70-9f5513397a87"
      },
      "execution_count": 38,
      "outputs": [
        {
          "output_type": "execute_result",
          "data": {
            "text/plain": [
              "46"
            ]
          },
          "metadata": {},
          "execution_count": 38
        }
      ]
    },
    {
      "cell_type": "code",
      "source": [
        "print(f\"The missing values in price are {(products_df.price.isna().value_counts(normalize=True)[1] * 100).round(2)}% of all rows in the DataFrame\")"
      ],
      "metadata": {
        "id": "LRknumaMk9gn",
        "colab": {
          "base_uri": "https://localhost:8080/"
        },
        "outputId": "3c65e170-7f4a-4519-b18e-18b2d7386916"
      },
      "execution_count": 39,
      "outputs": [
        {
          "output_type": "stream",
          "name": "stdout",
          "text": [
            "The missing values in price are 0.43% of all rows in the DataFrame\n"
          ]
        },
        {
          "output_type": "stream",
          "name": "stderr",
          "text": [
            "<ipython-input-39-149a8976a30c>:1: FutureWarning: Series.__getitem__ treating keys as positions is deprecated. In a future version, integer keys will always be treated as labels (consistent with DataFrame behavior). To access a value by position, use `ser.iloc[pos]`\n",
            "  print(f\"The missing values in price are {(products_df.price.isna().value_counts(normalize=True)[1] * 100).round(2)}% of all rows in the DataFrame\")\n"
          ]
        }
      ]
    },
    {
      "cell_type": "markdown",
      "source": [
        "Way forward:\n",
        "+ simply delete these rows to ensure that the numbers are trustworthy in the final DataFrame because\n",
        "\n",
        "*Afterall, the price is very important when investigating discounts*"
      ],
      "metadata": {
        "id": "WVAC9q6Zldyu"
      }
    },
    {
      "cell_type": "markdown",
      "source": [
        "Option 1: `.loc`"
      ],
      "metadata": {
        "id": "W7Bv1QXrTVbR"
      }
    },
    {
      "cell_type": "code",
      "source": [
        "products_df = products_df.loc[~products['price'].isna()]"
      ],
      "metadata": {
        "id": "aJIuqC1LQL8u"
      },
      "execution_count": 35,
      "outputs": []
    },
    {
      "cell_type": "markdown",
      "source": [
        "Option 2: `.dropna()`"
      ],
      "metadata": {
        "id": "5iShhiyRTcCz"
      }
    },
    {
      "cell_type": "code",
      "source": [
        "# products_df = products_df.dropna(subset=['price'])"
      ],
      "metadata": {
        "id": "2_S5lPV3QcnR"
      },
      "execution_count": null,
      "outputs": []
    },
    {
      "cell_type": "markdown",
      "source": [
        "### Data types\n",
        "\n",
        "Output of `.info()` shows that both `price` and `promo_price` have been stored as objects and not as a numerical datatypes.\n",
        "\n",
        "Other problems: both columns have some prices with 3 decimal places and others with 2 decimal points - the latter will prevent me from converting the datatype to numerical, so first I have to investigate and solve these problems."
      ],
      "metadata": {
        "id": "4x6xeGDu_B0N"
      }
    },
    {
      "cell_type": "markdown",
      "source": [
        "#### `price`"
      ],
      "metadata": {
        "id": "u0CsTv1WnMie"
      }
    },
    {
      "cell_type": "markdown",
      "source": [
        "First, let's see how many values are affected by the 2-decimal-dot problems or 3 decimal places."
      ],
      "metadata": {
        "id": "2mIc7YWdva5I"
      }
    },
    {
      "cell_type": "code",
      "source": [
        "price_problems_number = products_df.loc[(products_df.price.astype(str).str.contains(\"\\d+\\.\\d+\\.\\d+\"))|(products_df.price.astype(str).str.contains(\"\\d+\\.\\d{3,}\")), :].shape[0]\n",
        "price_problems_number"
      ],
      "metadata": {
        "id": "bShFL27Nq3Da",
        "colab": {
          "base_uri": "https://localhost:8080/"
        },
        "outputId": "86c154f9-fd9e-4f45-86be-f9f3c4081fb5"
      },
      "execution_count": 40,
      "outputs": [
        {
          "output_type": "execute_result",
          "data": {
            "text/plain": [
              "542"
            ]
          },
          "metadata": {},
          "execution_count": 40
        }
      ]
    },
    {
      "cell_type": "code",
      "source": [
        "print(f\"The column price has in total {price_problems_number} wrong values. This is {round(((price_problems_number / products_df.shape[0]) * 100), 2)}% of the rows of the DataFrame\")"
      ],
      "metadata": {
        "id": "R-HG2ur6eOiP",
        "colab": {
          "base_uri": "https://localhost:8080/"
        },
        "outputId": "8b39556c-f9d6-4c84-82a6-ae18da217129"
      },
      "execution_count": 42,
      "outputs": [
        {
          "output_type": "stream",
          "name": "stdout",
          "text": [
            "The column price has in total 542 wrong values. This is 5.12% of the rows of the DataFrame\n"
          ]
        }
      ]
    },
    {
      "cell_type": "markdown",
      "source": [
        "5.12% is a reasonable amount of our data. However, the price column will be important to understanding discounts, so I'd like it to be very trustworthy as I am basing business decisions on it. Therefore, I'll delete these rows"
      ],
      "metadata": {
        "id": "p9QV50j3orpP"
      }
    },
    {
      "cell_type": "code",
      "source": [
        "products_df = products_df.loc[(~products_df.price.astype(str).str.contains(\"\\d+\\.\\d+\\.\\d+\"))&(~products_df.price.astype(str).str.contains(\"\\d+\\.\\d{3,}\")), :]"
      ],
      "metadata": {
        "id": "3xkK12Mspand"
      },
      "execution_count": 43,
      "outputs": []
    },
    {
      "cell_type": "code",
      "source": [
        "products_df"
      ],
      "metadata": {
        "id": "h8R_vq6-VZ1X",
        "colab": {
          "base_uri": "https://localhost:8080/",
          "height": 545
        },
        "outputId": "1e49bd46-4915-439f-d252-795f1a3232d0"
      },
      "execution_count": 44,
      "outputs": [
        {
          "output_type": "execute_result",
          "data": {
            "text/plain": [
              "           sku                                           name  \\\n",
              "0      RAI0007              Silver Rain Design mStand Support   \n",
              "1      APP0023              Apple Mac Keyboard Keypad Spanish   \n",
              "2      APP0025               Mighty Mouse Apple Mouse for Mac   \n",
              "3      APP0072  Apple Dock to USB Cable iPhone and iPod white   \n",
              "4      KIN0007    Mac Memory Kingston 2GB 667MHz DDR2 SO-DIMM   \n",
              "...        ...                                            ...   \n",
              "19321  BEL0376        Belkin Travel Support Apple Watch Black   \n",
              "19322  THU0060   Enroute Thule 14L Backpack MacBook 13 \"Black   \n",
              "19323  THU0061    Enroute Thule 14L Backpack MacBook 13 \"Blue   \n",
              "19324  THU0062     Enroute Thule 14L Backpack MacBook 13 \"Red   \n",
              "19325  THU0063   Enroute Thule 14L Backpack MacBook 13 \"Green   \n",
              "\n",
              "                                                                                                desc  \\\n",
              "0                                                       Aluminum support compatible with all MacBook   \n",
              "1                                                          USB ultrathin keyboard Apple Mac Spanish.   \n",
              "2                                                                             mouse Apple USB cable.   \n",
              "3                                                              IPhone dock and USB Cable Apple iPod.   \n",
              "4                                      2GB RAM Mac mini and iMac (2006/07) MacBook Pro (2006/07/08).   \n",
              "...                                                                                              ...   \n",
              "19321                          compact and portable stand vertically or horizontally for Apple Watch   \n",
              "19322  Backpack with capacity of 14 liter compartments MacBook up to 13 inches up to 10 inches Cases   \n",
              "19323  Backpack with capacity of 14 liter compartments MacBook up to 13 inches up to 10 inches Cases   \n",
              "19324  Backpack with capacity of 14 liter compartments MacBook up to 13 inches up to 10 inches Cases   \n",
              "19325  Backpack with capacity of 14 liter compartments MacBook up to 13 inches up to 10 inches Cases   \n",
              "\n",
              "       price promo_price  in_stock      type  \n",
              "0      59.99     499.899         1      8696  \n",
              "1         59     589.996         0  13855401  \n",
              "2         59     569.898         0      1387  \n",
              "3         25     229.997         0      1230  \n",
              "4      34.99       31.99         1      1364  \n",
              "...      ...         ...       ...       ...  \n",
              "19321  29.99     269.903         1     12282  \n",
              "19322  69.95     649.903         1      1392  \n",
              "19323  69.95     649.903         1      1392  \n",
              "19324  69.95     649.903         0      1392  \n",
              "19325  69.95     649.903         1      1392  \n",
              "\n",
              "[10038 rows x 7 columns]"
            ],
            "text/html": [
              "\n",
              "  <div id=\"df-277229b1-aaed-4d7e-94f6-1c59df996540\" class=\"colab-df-container\">\n",
              "    <div>\n",
              "<style scoped>\n",
              "    .dataframe tbody tr th:only-of-type {\n",
              "        vertical-align: middle;\n",
              "    }\n",
              "\n",
              "    .dataframe tbody tr th {\n",
              "        vertical-align: top;\n",
              "    }\n",
              "\n",
              "    .dataframe thead th {\n",
              "        text-align: right;\n",
              "    }\n",
              "</style>\n",
              "<table border=\"1\" class=\"dataframe\">\n",
              "  <thead>\n",
              "    <tr style=\"text-align: right;\">\n",
              "      <th></th>\n",
              "      <th>sku</th>\n",
              "      <th>name</th>\n",
              "      <th>desc</th>\n",
              "      <th>price</th>\n",
              "      <th>promo_price</th>\n",
              "      <th>in_stock</th>\n",
              "      <th>type</th>\n",
              "    </tr>\n",
              "  </thead>\n",
              "  <tbody>\n",
              "    <tr>\n",
              "      <th>0</th>\n",
              "      <td>RAI0007</td>\n",
              "      <td>Silver Rain Design mStand Support</td>\n",
              "      <td>Aluminum support compatible with all MacBook</td>\n",
              "      <td>59.99</td>\n",
              "      <td>499.899</td>\n",
              "      <td>1</td>\n",
              "      <td>8696</td>\n",
              "    </tr>\n",
              "    <tr>\n",
              "      <th>1</th>\n",
              "      <td>APP0023</td>\n",
              "      <td>Apple Mac Keyboard Keypad Spanish</td>\n",
              "      <td>USB ultrathin keyboard Apple Mac Spanish.</td>\n",
              "      <td>59</td>\n",
              "      <td>589.996</td>\n",
              "      <td>0</td>\n",
              "      <td>13855401</td>\n",
              "    </tr>\n",
              "    <tr>\n",
              "      <th>2</th>\n",
              "      <td>APP0025</td>\n",
              "      <td>Mighty Mouse Apple Mouse for Mac</td>\n",
              "      <td>mouse Apple USB cable.</td>\n",
              "      <td>59</td>\n",
              "      <td>569.898</td>\n",
              "      <td>0</td>\n",
              "      <td>1387</td>\n",
              "    </tr>\n",
              "    <tr>\n",
              "      <th>3</th>\n",
              "      <td>APP0072</td>\n",
              "      <td>Apple Dock to USB Cable iPhone and iPod white</td>\n",
              "      <td>IPhone dock and USB Cable Apple iPod.</td>\n",
              "      <td>25</td>\n",
              "      <td>229.997</td>\n",
              "      <td>0</td>\n",
              "      <td>1230</td>\n",
              "    </tr>\n",
              "    <tr>\n",
              "      <th>4</th>\n",
              "      <td>KIN0007</td>\n",
              "      <td>Mac Memory Kingston 2GB 667MHz DDR2 SO-DIMM</td>\n",
              "      <td>2GB RAM Mac mini and iMac (2006/07) MacBook Pro (2006/07/08).</td>\n",
              "      <td>34.99</td>\n",
              "      <td>31.99</td>\n",
              "      <td>1</td>\n",
              "      <td>1364</td>\n",
              "    </tr>\n",
              "    <tr>\n",
              "      <th>...</th>\n",
              "      <td>...</td>\n",
              "      <td>...</td>\n",
              "      <td>...</td>\n",
              "      <td>...</td>\n",
              "      <td>...</td>\n",
              "      <td>...</td>\n",
              "      <td>...</td>\n",
              "    </tr>\n",
              "    <tr>\n",
              "      <th>19321</th>\n",
              "      <td>BEL0376</td>\n",
              "      <td>Belkin Travel Support Apple Watch Black</td>\n",
              "      <td>compact and portable stand vertically or horizontally for Apple Watch</td>\n",
              "      <td>29.99</td>\n",
              "      <td>269.903</td>\n",
              "      <td>1</td>\n",
              "      <td>12282</td>\n",
              "    </tr>\n",
              "    <tr>\n",
              "      <th>19322</th>\n",
              "      <td>THU0060</td>\n",
              "      <td>Enroute Thule 14L Backpack MacBook 13 \"Black</td>\n",
              "      <td>Backpack with capacity of 14 liter compartments MacBook up to 13 inches up to 10 inches Cases</td>\n",
              "      <td>69.95</td>\n",
              "      <td>649.903</td>\n",
              "      <td>1</td>\n",
              "      <td>1392</td>\n",
              "    </tr>\n",
              "    <tr>\n",
              "      <th>19323</th>\n",
              "      <td>THU0061</td>\n",
              "      <td>Enroute Thule 14L Backpack MacBook 13 \"Blue</td>\n",
              "      <td>Backpack with capacity of 14 liter compartments MacBook up to 13 inches up to 10 inches Cases</td>\n",
              "      <td>69.95</td>\n",
              "      <td>649.903</td>\n",
              "      <td>1</td>\n",
              "      <td>1392</td>\n",
              "    </tr>\n",
              "    <tr>\n",
              "      <th>19324</th>\n",
              "      <td>THU0062</td>\n",
              "      <td>Enroute Thule 14L Backpack MacBook 13 \"Red</td>\n",
              "      <td>Backpack with capacity of 14 liter compartments MacBook up to 13 inches up to 10 inches Cases</td>\n",
              "      <td>69.95</td>\n",
              "      <td>649.903</td>\n",
              "      <td>0</td>\n",
              "      <td>1392</td>\n",
              "    </tr>\n",
              "    <tr>\n",
              "      <th>19325</th>\n",
              "      <td>THU0063</td>\n",
              "      <td>Enroute Thule 14L Backpack MacBook 13 \"Green</td>\n",
              "      <td>Backpack with capacity of 14 liter compartments MacBook up to 13 inches up to 10 inches Cases</td>\n",
              "      <td>69.95</td>\n",
              "      <td>649.903</td>\n",
              "      <td>1</td>\n",
              "      <td>1392</td>\n",
              "    </tr>\n",
              "  </tbody>\n",
              "</table>\n",
              "<p>10038 rows × 7 columns</p>\n",
              "</div>\n",
              "    <div class=\"colab-df-buttons\">\n",
              "\n",
              "  <div class=\"colab-df-container\">\n",
              "    <button class=\"colab-df-convert\" onclick=\"convertToInteractive('df-277229b1-aaed-4d7e-94f6-1c59df996540')\"\n",
              "            title=\"Convert this dataframe to an interactive table.\"\n",
              "            style=\"display:none;\">\n",
              "\n",
              "  <svg xmlns=\"http://www.w3.org/2000/svg\" height=\"24px\" viewBox=\"0 -960 960 960\">\n",
              "    <path d=\"M120-120v-720h720v720H120Zm60-500h600v-160H180v160Zm220 220h160v-160H400v160Zm0 220h160v-160H400v160ZM180-400h160v-160H180v160Zm440 0h160v-160H620v160ZM180-180h160v-160H180v160Zm440 0h160v-160H620v160Z\"/>\n",
              "  </svg>\n",
              "    </button>\n",
              "\n",
              "  <style>\n",
              "    .colab-df-container {\n",
              "      display:flex;\n",
              "      gap: 12px;\n",
              "    }\n",
              "\n",
              "    .colab-df-convert {\n",
              "      background-color: #E8F0FE;\n",
              "      border: none;\n",
              "      border-radius: 50%;\n",
              "      cursor: pointer;\n",
              "      display: none;\n",
              "      fill: #1967D2;\n",
              "      height: 32px;\n",
              "      padding: 0 0 0 0;\n",
              "      width: 32px;\n",
              "    }\n",
              "\n",
              "    .colab-df-convert:hover {\n",
              "      background-color: #E2EBFA;\n",
              "      box-shadow: 0px 1px 2px rgba(60, 64, 67, 0.3), 0px 1px 3px 1px rgba(60, 64, 67, 0.15);\n",
              "      fill: #174EA6;\n",
              "    }\n",
              "\n",
              "    .colab-df-buttons div {\n",
              "      margin-bottom: 4px;\n",
              "    }\n",
              "\n",
              "    [theme=dark] .colab-df-convert {\n",
              "      background-color: #3B4455;\n",
              "      fill: #D2E3FC;\n",
              "    }\n",
              "\n",
              "    [theme=dark] .colab-df-convert:hover {\n",
              "      background-color: #434B5C;\n",
              "      box-shadow: 0px 1px 3px 1px rgba(0, 0, 0, 0.15);\n",
              "      filter: drop-shadow(0px 1px 2px rgba(0, 0, 0, 0.3));\n",
              "      fill: #FFFFFF;\n",
              "    }\n",
              "  </style>\n",
              "\n",
              "    <script>\n",
              "      const buttonEl =\n",
              "        document.querySelector('#df-277229b1-aaed-4d7e-94f6-1c59df996540 button.colab-df-convert');\n",
              "      buttonEl.style.display =\n",
              "        google.colab.kernel.accessAllowed ? 'block' : 'none';\n",
              "\n",
              "      async function convertToInteractive(key) {\n",
              "        const element = document.querySelector('#df-277229b1-aaed-4d7e-94f6-1c59df996540');\n",
              "        const dataTable =\n",
              "          await google.colab.kernel.invokeFunction('convertToInteractive',\n",
              "                                                    [key], {});\n",
              "        if (!dataTable) return;\n",
              "\n",
              "        const docLinkHtml = 'Like what you see? Visit the ' +\n",
              "          '<a target=\"_blank\" href=https://colab.research.google.com/notebooks/data_table.ipynb>data table notebook</a>'\n",
              "          + ' to learn more about interactive tables.';\n",
              "        element.innerHTML = '';\n",
              "        dataTable['output_type'] = 'display_data';\n",
              "        await google.colab.output.renderOutput(dataTable, element);\n",
              "        const docLink = document.createElement('div');\n",
              "        docLink.innerHTML = docLinkHtml;\n",
              "        element.appendChild(docLink);\n",
              "      }\n",
              "    </script>\n",
              "  </div>\n",
              "\n",
              "\n",
              "<div id=\"df-aed70dec-0265-4f2e-8cf2-24138fc02c8c\">\n",
              "  <button class=\"colab-df-quickchart\" onclick=\"quickchart('df-aed70dec-0265-4f2e-8cf2-24138fc02c8c')\"\n",
              "            title=\"Suggest charts\"\n",
              "            style=\"display:none;\">\n",
              "\n",
              "<svg xmlns=\"http://www.w3.org/2000/svg\" height=\"24px\"viewBox=\"0 0 24 24\"\n",
              "     width=\"24px\">\n",
              "    <g>\n",
              "        <path d=\"M19 3H5c-1.1 0-2 .9-2 2v14c0 1.1.9 2 2 2h14c1.1 0 2-.9 2-2V5c0-1.1-.9-2-2-2zM9 17H7v-7h2v7zm4 0h-2V7h2v10zm4 0h-2v-4h2v4z\"/>\n",
              "    </g>\n",
              "</svg>\n",
              "  </button>\n",
              "\n",
              "<style>\n",
              "  .colab-df-quickchart {\n",
              "      --bg-color: #E8F0FE;\n",
              "      --fill-color: #1967D2;\n",
              "      --hover-bg-color: #E2EBFA;\n",
              "      --hover-fill-color: #174EA6;\n",
              "      --disabled-fill-color: #AAA;\n",
              "      --disabled-bg-color: #DDD;\n",
              "  }\n",
              "\n",
              "  [theme=dark] .colab-df-quickchart {\n",
              "      --bg-color: #3B4455;\n",
              "      --fill-color: #D2E3FC;\n",
              "      --hover-bg-color: #434B5C;\n",
              "      --hover-fill-color: #FFFFFF;\n",
              "      --disabled-bg-color: #3B4455;\n",
              "      --disabled-fill-color: #666;\n",
              "  }\n",
              "\n",
              "  .colab-df-quickchart {\n",
              "    background-color: var(--bg-color);\n",
              "    border: none;\n",
              "    border-radius: 50%;\n",
              "    cursor: pointer;\n",
              "    display: none;\n",
              "    fill: var(--fill-color);\n",
              "    height: 32px;\n",
              "    padding: 0;\n",
              "    width: 32px;\n",
              "  }\n",
              "\n",
              "  .colab-df-quickchart:hover {\n",
              "    background-color: var(--hover-bg-color);\n",
              "    box-shadow: 0 1px 2px rgba(60, 64, 67, 0.3), 0 1px 3px 1px rgba(60, 64, 67, 0.15);\n",
              "    fill: var(--button-hover-fill-color);\n",
              "  }\n",
              "\n",
              "  .colab-df-quickchart-complete:disabled,\n",
              "  .colab-df-quickchart-complete:disabled:hover {\n",
              "    background-color: var(--disabled-bg-color);\n",
              "    fill: var(--disabled-fill-color);\n",
              "    box-shadow: none;\n",
              "  }\n",
              "\n",
              "  .colab-df-spinner {\n",
              "    border: 2px solid var(--fill-color);\n",
              "    border-color: transparent;\n",
              "    border-bottom-color: var(--fill-color);\n",
              "    animation:\n",
              "      spin 1s steps(1) infinite;\n",
              "  }\n",
              "\n",
              "  @keyframes spin {\n",
              "    0% {\n",
              "      border-color: transparent;\n",
              "      border-bottom-color: var(--fill-color);\n",
              "      border-left-color: var(--fill-color);\n",
              "    }\n",
              "    20% {\n",
              "      border-color: transparent;\n",
              "      border-left-color: var(--fill-color);\n",
              "      border-top-color: var(--fill-color);\n",
              "    }\n",
              "    30% {\n",
              "      border-color: transparent;\n",
              "      border-left-color: var(--fill-color);\n",
              "      border-top-color: var(--fill-color);\n",
              "      border-right-color: var(--fill-color);\n",
              "    }\n",
              "    40% {\n",
              "      border-color: transparent;\n",
              "      border-right-color: var(--fill-color);\n",
              "      border-top-color: var(--fill-color);\n",
              "    }\n",
              "    60% {\n",
              "      border-color: transparent;\n",
              "      border-right-color: var(--fill-color);\n",
              "    }\n",
              "    80% {\n",
              "      border-color: transparent;\n",
              "      border-right-color: var(--fill-color);\n",
              "      border-bottom-color: var(--fill-color);\n",
              "    }\n",
              "    90% {\n",
              "      border-color: transparent;\n",
              "      border-bottom-color: var(--fill-color);\n",
              "    }\n",
              "  }\n",
              "</style>\n",
              "\n",
              "  <script>\n",
              "    async function quickchart(key) {\n",
              "      const quickchartButtonEl =\n",
              "        document.querySelector('#' + key + ' button');\n",
              "      quickchartButtonEl.disabled = true;  // To prevent multiple clicks.\n",
              "      quickchartButtonEl.classList.add('colab-df-spinner');\n",
              "      try {\n",
              "        const charts = await google.colab.kernel.invokeFunction(\n",
              "            'suggestCharts', [key], {});\n",
              "      } catch (error) {\n",
              "        console.error('Error during call to suggestCharts:', error);\n",
              "      }\n",
              "      quickchartButtonEl.classList.remove('colab-df-spinner');\n",
              "      quickchartButtonEl.classList.add('colab-df-quickchart-complete');\n",
              "    }\n",
              "    (() => {\n",
              "      let quickchartButtonEl =\n",
              "        document.querySelector('#df-aed70dec-0265-4f2e-8cf2-24138fc02c8c button');\n",
              "      quickchartButtonEl.style.display =\n",
              "        google.colab.kernel.accessAllowed ? 'block' : 'none';\n",
              "    })();\n",
              "  </script>\n",
              "</div>\n",
              "\n",
              "  <div id=\"id_b124caec-81ad-45f7-96b2-49d609eb9eaf\">\n",
              "    <style>\n",
              "      .colab-df-generate {\n",
              "        background-color: #E8F0FE;\n",
              "        border: none;\n",
              "        border-radius: 50%;\n",
              "        cursor: pointer;\n",
              "        display: none;\n",
              "        fill: #1967D2;\n",
              "        height: 32px;\n",
              "        padding: 0 0 0 0;\n",
              "        width: 32px;\n",
              "      }\n",
              "\n",
              "      .colab-df-generate:hover {\n",
              "        background-color: #E2EBFA;\n",
              "        box-shadow: 0px 1px 2px rgba(60, 64, 67, 0.3), 0px 1px 3px 1px rgba(60, 64, 67, 0.15);\n",
              "        fill: #174EA6;\n",
              "      }\n",
              "\n",
              "      [theme=dark] .colab-df-generate {\n",
              "        background-color: #3B4455;\n",
              "        fill: #D2E3FC;\n",
              "      }\n",
              "\n",
              "      [theme=dark] .colab-df-generate:hover {\n",
              "        background-color: #434B5C;\n",
              "        box-shadow: 0px 1px 3px 1px rgba(0, 0, 0, 0.15);\n",
              "        filter: drop-shadow(0px 1px 2px rgba(0, 0, 0, 0.3));\n",
              "        fill: #FFFFFF;\n",
              "      }\n",
              "    </style>\n",
              "    <button class=\"colab-df-generate\" onclick=\"generateWithVariable('products_df')\"\n",
              "            title=\"Generate code using this dataframe.\"\n",
              "            style=\"display:none;\">\n",
              "\n",
              "  <svg xmlns=\"http://www.w3.org/2000/svg\" height=\"24px\"viewBox=\"0 0 24 24\"\n",
              "       width=\"24px\">\n",
              "    <path d=\"M7,19H8.4L18.45,9,17,7.55,7,17.6ZM5,21V16.75L18.45,3.32a2,2,0,0,1,2.83,0l1.4,1.43a1.91,1.91,0,0,1,.58,1.4,1.91,1.91,0,0,1-.58,1.4L9.25,21ZM18.45,9,17,7.55Zm-12,3A5.31,5.31,0,0,0,4.9,8.1,5.31,5.31,0,0,0,1,6.5,5.31,5.31,0,0,0,4.9,4.9,5.31,5.31,0,0,0,6.5,1,5.31,5.31,0,0,0,8.1,4.9,5.31,5.31,0,0,0,12,6.5,5.46,5.46,0,0,0,6.5,12Z\"/>\n",
              "  </svg>\n",
              "    </button>\n",
              "    <script>\n",
              "      (() => {\n",
              "      const buttonEl =\n",
              "        document.querySelector('#id_b124caec-81ad-45f7-96b2-49d609eb9eaf button.colab-df-generate');\n",
              "      buttonEl.style.display =\n",
              "        google.colab.kernel.accessAllowed ? 'block' : 'none';\n",
              "\n",
              "      buttonEl.onclick = () => {\n",
              "        google.colab.notebook.generateWithVariable('products_df');\n",
              "      }\n",
              "      })();\n",
              "    </script>\n",
              "  </div>\n",
              "\n",
              "    </div>\n",
              "  </div>\n"
            ],
            "application/vnd.google.colaboratory.intrinsic+json": {
              "type": "dataframe",
              "variable_name": "products_df",
              "summary": "{\n  \"name\": \"products_df\",\n  \"rows\": 10038,\n  \"fields\": [\n    {\n      \"column\": \"sku\",\n      \"properties\": {\n        \"dtype\": \"string\",\n        \"num_unique_values\": 10037,\n        \"samples\": [\n          \"AP20402\",\n          \"REP0401\",\n          \"PAC1407\"\n        ],\n        \"semantic_type\": \"\",\n        \"description\": \"\"\n      }\n    },\n    {\n      \"column\": \"name\",\n      \"properties\": {\n        \"dtype\": \"string\",\n        \"num_unique_values\": 9880,\n        \"samples\": [\n          \"Apple MacBook Pro 13 \\\"Core i5 with Touch Bar 31GHz | 8GB RAM | 512GB PCIe SSD Gray Space\",\n          \"Crucial SSD expansion kit MX300 525GB + 16GB 1333MHz RAM + Datadoubler for MacBook Pro 2011\",\n          \"Housing Flex Elektro Tucano iPhone 6 / 6S Transparent / Gold\"\n        ],\n        \"semantic_type\": \"\",\n        \"description\": \"\"\n      }\n    },\n    {\n      \"column\": \"desc\",\n      \"properties\": {\n        \"dtype\": \"string\",\n        \"num_unique_values\": 6790,\n        \"samples\": [\n          \"Neoprene sleeve for iPad Pro 129 inches\",\n          \"Pack QNAP TS-451 + with 8GB of RAM memory + 12TB (4x3TB) IronWolf Seagate Hard Drive Desktop for Mac and PC.\",\n          \"Apple MacBook Pro 133 inches (MD101Y / A) with extension Processor.\"\n        ],\n        \"semantic_type\": \"\",\n        \"description\": \"\"\n      }\n    },\n    {\n      \"column\": \"price\",\n      \"properties\": {\n        \"dtype\": \"category\",\n        \"num_unique_values\": 2332,\n        \"samples\": [\n          \"3486.57\",\n          \"831.33\",\n          \"8379\"\n        ],\n        \"semantic_type\": \"\",\n        \"description\": \"\"\n      }\n    },\n    {\n      \"column\": \"promo_price\",\n      \"properties\": {\n        \"dtype\": \"category\",\n        \"num_unique_values\": 4373,\n        \"samples\": [\n          \"1306.99\",\n          \"112.808\",\n          \"9.069.906\"\n        ],\n        \"semantic_type\": \"\",\n        \"description\": \"\"\n      }\n    },\n    {\n      \"column\": \"in_stock\",\n      \"properties\": {\n        \"dtype\": \"number\",\n        \"std\": 0,\n        \"min\": 0,\n        \"max\": 1,\n        \"num_unique_values\": 2,\n        \"samples\": [\n          0,\n          1\n        ],\n        \"semantic_type\": \"\",\n        \"description\": \"\"\n      }\n    },\n    {\n      \"column\": \"type\",\n      \"properties\": {\n        \"dtype\": \"category\",\n        \"num_unique_values\": 125,\n        \"samples\": [\n          \"12635403\",\n          \"13555403\"\n        ],\n        \"semantic_type\": \"\",\n        \"description\": \"\"\n      }\n    }\n  ]\n}"
            }
          },
          "metadata": {},
          "execution_count": 44
        }
      ]
    },
    {
      "cell_type": "markdown",
      "source": [
        "To complete our task, let's convert the column to a numeric datatype"
      ],
      "metadata": {
        "id": "Y_3K0v8wvMP1"
      }
    },
    {
      "cell_type": "code",
      "source": [
        "products_df[\"price\"] = pd.to_numeric(products_df[\"price\"])"
      ],
      "metadata": {
        "id": "3evkDaafvFUq",
        "colab": {
          "base_uri": "https://localhost:8080/"
        },
        "outputId": "61299974-97a2-4e19-cdd9-a0ad97887bd0"
      },
      "execution_count": 46,
      "outputs": [
        {
          "output_type": "stream",
          "name": "stderr",
          "text": [
            "<ipython-input-46-f97981956831>:1: SettingWithCopyWarning: \n",
            "A value is trying to be set on a copy of a slice from a DataFrame.\n",
            "Try using .loc[row_indexer,col_indexer] = value instead\n",
            "\n",
            "See the caveats in the documentation: https://pandas.pydata.org/pandas-docs/stable/user_guide/indexing.html#returning-a-view-versus-a-copy\n",
            "  products_df[\"price\"] = pd.to_numeric(products_df[\"price\"])\n"
          ]
        }
      ]
    },
    {
      "cell_type": "code",
      "source": [
        "products_df.info()"
      ],
      "metadata": {
        "colab": {
          "base_uri": "https://localhost:8080/"
        },
        "id": "h2BjVDJ31yiB",
        "outputId": "66c6270b-aaf9-4e6f-eb43-82a517e35164"
      },
      "execution_count": 47,
      "outputs": [
        {
          "output_type": "stream",
          "name": "stdout",
          "text": [
            "<class 'pandas.core.frame.DataFrame'>\n",
            "Index: 10038 entries, 0 to 19325\n",
            "Data columns (total 7 columns):\n",
            " #   Column       Non-Null Count  Dtype  \n",
            "---  ------       --------------  -----  \n",
            " 0   sku          10038 non-null  object \n",
            " 1   name         10038 non-null  object \n",
            " 2   desc         10038 non-null  object \n",
            " 3   price        9992 non-null   float64\n",
            " 4   promo_price  10038 non-null  object \n",
            " 5   in_stock     10038 non-null  int64  \n",
            " 6   type         9992 non-null   object \n",
            "dtypes: float64(1), int64(1), object(5)\n",
            "memory usage: 627.4+ KB\n"
          ]
        }
      ]
    },
    {
      "cell_type": "markdown",
      "source": [
        "#### `promo_price`"
      ],
      "metadata": {
        "id": "9GcbI2upeG3M"
      }
    },
    {
      "cell_type": "markdown",
      "source": [
        "Again, let's begin by seeing how many values are affected by the 2-decimal-dots problem, or the 3 decimal-places problem"
      ],
      "metadata": {
        "id": "NQq3M2zGvzS5"
      }
    },
    {
      "cell_type": "code",
      "source": [
        "promo_problems_number = products_df.loc[(products_df.promo_price.astype(str).str.contains(\"\\d+\\.\\d+\\.\\d+\"))|(products_df.promo_price.astype(str).str.contains(\"\\d+\\.\\d{3,}\")), :].shape[0]\n",
        "promo_problems_number"
      ],
      "metadata": {
        "id": "vI4ueHibtK1P",
        "colab": {
          "base_uri": "https://localhost:8080/"
        },
        "outputId": "ff5bf278-d47c-473e-f1b4-6565c6d21477"
      },
      "execution_count": 48,
      "outputs": [
        {
          "output_type": "execute_result",
          "data": {
            "text/plain": [
              "9275"
            ]
          },
          "metadata": {},
          "execution_count": 48
        }
      ]
    },
    {
      "cell_type": "code",
      "source": [
        "print(f\"The column promo_price has in total {promo_problems_number} wrong values. This is {round(((promo_problems_number / products_df.shape[0]) * 100), 2)}% of the rows of the DataFrame\")"
      ],
      "metadata": {
        "id": "Jxpd8nVptKxs",
        "colab": {
          "base_uri": "https://localhost:8080/"
        },
        "outputId": "956c61bc-7733-4d9d-e1de-5d083fe7b781"
      },
      "execution_count": 49,
      "outputs": [
        {
          "output_type": "stream",
          "name": "stdout",
          "text": [
            "The column promo_price has in total 9275 wrong values. This is 92.4% of the rows of the DataFrame\n"
          ]
        }
      ]
    },
    {
      "cell_type": "markdown",
      "source": [
        "That's a lot of wrong data. Let's have a quick investigate to check that's correct. I'll make a DataFrame by copy-pasting the code I used above and then look at a large sample to check that all the numbers in the `promo_price` column really have either 2 decimal points or 3 decimal places."
      ],
      "metadata": {
        "id": "dnEM5lBruU0U"
      }
    },
    {
      "cell_type": "code",
      "source": [
        "promo_price_df = products_df.loc[(products_df.promo_price.astype(str).str.contains(\"\\d+\\.\\d+\\.\\d+\"))|(products_df.promo_price.astype(str).str.contains(\"\\d+\\.\\d{3,}\")), :]\n",
        "promo_price_df.sample(50)"
      ],
      "metadata": {
        "id": "6S88DpsRtaM0",
        "colab": {
          "base_uri": "https://localhost:8080/",
          "height": 1000
        },
        "outputId": "4dbf1d90-ebb4-4343-cf0a-0721ffe59ad0"
      },
      "execution_count": 50,
      "outputs": [
        {
          "output_type": "execute_result",
          "data": {
            "text/plain": [
              "             sku  \\\n",
              "12142    MOP0075   \n",
              "13623    MUJ0018   \n",
              "1616     OLL0018   \n",
              "15953    AP20079   \n",
              "363      APP0434   \n",
              "18708  APP2506-A   \n",
              "7657     PAC1623   \n",
              "18372    BEL0340   \n",
              "11800    OWC0183   \n",
              "11325    XDO0026   \n",
              "450      NTE0032   \n",
              "660      DLK0048   \n",
              "11893  LOG0153-A   \n",
              "14690    SEA0105   \n",
              "17689    LGE0069   \n",
              "987      OWC0108   \n",
              "886      WAC0138   \n",
              "12913    BEL0262   \n",
              "2004     PAC0741   \n",
              "13684  DLK0093-A   \n",
              "18217    WDT0405   \n",
              "15949  QNA0210-A   \n",
              "18310    DLK0140   \n",
              "14957  IKM0045-A   \n",
              "11508    PAC1264   \n",
              "13305    OTT0147   \n",
              "17889    PAC2264   \n",
              "17716    LAC0247   \n",
              "19118    OWC0280   \n",
              "11246    PAC1342   \n",
              "11767    APP1479   \n",
              "11741    PAC1381   \n",
              "290      DLK0008   \n",
              "15326    PHI0064   \n",
              "19165  LGE0062-A   \n",
              "10036    PAC1589   \n",
              "16519    APP2291   \n",
              "12936    SAM0111   \n",
              "13456    MOS0201   \n",
              "13085  LEX0022-A   \n",
              "12822  SAN0095-A   \n",
              "2059     SEA0072   \n",
              "2602     DEN0009   \n",
              "15375    REP0277   \n",
              "1348     PUR0131   \n",
              "12735    PAC1471   \n",
              "18858    IFX0179   \n",
              "10881    PAC1206   \n",
              "835      BOO0070   \n",
              "13406    APP1687   \n",
              "\n",
              "                                                                                                 name  \\\n",
              "12142                                   Mophie Power Reserve micro USB External Battery 1350mAh Black   \n",
              "13623                                               Mujjo iPhone Leather Case Leather Champagne 8/7/6   \n",
              "1616                                Olloclip 4-in-1 lens iPhone 6 / 6S and 6 / 6S Plus Silver / Black   \n",
              "15953                       Like new - Apple MacBook Pro Retina 13 \"i5 27 GHz | 8GB RAM | 128GB Flash   \n",
              "363                                                        Apple 5W USB power adapter iPhone and iPod   \n",
              "18708                                          Open - Silicon Case Cover Apple iPhone 8/7 Cobalt Blue   \n",
              "7657               Apple iMac 27 \"Core i5 3.3GHz Retina 5K | 16GB RAM | 2TB SSD | Radeon R9 M395X 4GB   \n",
              "18372                                                 Belkin Cable HDMI High Speed ​​with Ethernet 5m   \n",
              "11800  SSD expansion kit OWC Aura Pro 6G 480GB Retina MacBook Pro / Macbook Air 11 \"and 13\" 2013-2015   \n",
              "11325                                              X-Doria Dash Folio iPad Case Simple Pro 129 \"White   \n",
              "450                                                        NewerTech MiniDisplay Port to HDMI Adapter   \n",
              "660                                                  D-Link DSL-3580L Router ADSL 2+ WiFi AC 1200Mbps   \n",
              "11893                                        (Open) AnyAngle Logitech iPad Air Case with Stand 2 Gray   \n",
              "14690                                                      IronWolf Seagate Hard Drive 8TB SATA NAS 3   \n",
              "17689                                                       LG 34UM59-P Monitor 34 \"sRGB 99% QHD HDMI   \n",
              "987                           Installation Kit OWC SSD / HDD 25 \"Mac mini (2011/2012 Upper Bay Drive)   \n",
              "886                                                                           Wacom Cintiq 22HD Touch   \n",
              "12913                                               MIXIT Belkin Dual USB Power Bank 4000mAh Red 2.4A   \n",
              "2004                       Kingston V300 SSD expansion kit 480GB + 16GB 1600Mhz RAM for Mac mini 2012   \n",
              "13684                                                     (Open) D-Link DAP-1330 Amplifier N300 Wi-Fi   \n",
              "18217                                                                    WD 4TB MyPassport Ultra Gold   \n",
              "15949                                  Open - QNAP NAS server TS-453Bmini | 4GB RAM | 4-bay | HDMI 4K   \n",
              "18310                                                     D-Link DCS-936L camera HD Wi-Fi Day / Night   \n",
              "14957          Open - IK Multimedia iRig Keys USB controller 25 25 mini keys for Mac iPad iPhone iPod   \n",
              "11508                                             Samsung SSD 850 expansion kit EVO 1TB iMac 27 \"2011   \n",
              "13305                                             Otterbox iPhone Case Symmetry 8 Plus / 7 Plus Black   \n",
              "17889                                         Synology DS918 + NAS Server | 4GB | 24TB (4x6TB) WD Red   \n",
              "17716                                                  Lacie 8big Rack System 64TB RAID Thunderbolt 2   \n",
              "19118                                               OWC Envoy Pro EX 250GB SSD M.2 PCIe Thunderbolt 3   \n",
              "11246                                                   Pack QNAP TS-453A | 8GB RAM | WD 16TB Network   \n",
              "11767                                                                          Apple iPhone 16GB Gold   \n",
              "11741                                                               Pack QNAP TS-228 | WD 6TB Network   \n",
              "290                                                          D-Link DCS-932L Wireless IP Camera Cloud   \n",
              "15326                                  Philips Hue Starter Kit 3 bulbs white light and color + Bridge   \n",
              "19165                                                Open - Lg-B 32UD59 MONITOR DCI-P3 95% 4K DP HDMI   \n",
              "10036              Apple iMac 27 \"Core i5 3.2GHz Retina 5K | 8GB RAM | 512GB SSD | AMD Radeon R9 M390   \n",
              "16519                         Apple MacBook Pro 13 \"Core i5 Touch Bar 33GHz | 16GB | 256GB SSD Silver   \n",
              "12936                                           BAR Samsung 128GB USB 3.0 Flash Drive Up to 130Mb / s   \n",
              "13456                                                  Moshi iGlaze Case iPhone 8 Plus / 7 Plus Black   \n",
              "13085                                     (Open) Lexar JumpDrive Lightning USB 3.0 M20i Pendrive 64GB   \n",
              "12822                                       (Open) SanDisk Ultra SDHC 32GB SD 80MB / s Class 10 UHS-I   \n",
              "2059                              Seagate Backup Plus Slim External Hard Drive 2TB 2.5 \"USB 3.0 Black   \n",
              "2602                                                        Denon Envaya Mini (DSB 100) Black Speaker   \n",
              "15375                                                                  Headset calls iPhone 5s repair   \n",
              "1348                                         Puro Booklet Slim founded with support iPad Air 2 Silver   \n",
              "12735                                           OWC ThunderBay 4 Thunderbolt 2 | Seagate Desktop 12TB   \n",
              "18858                                                               iFixit iPhone Battery Part 7 plus   \n",
              "10881                      Crucial BX200 expansion kit 240GB + SSD installation kit iMac 27 \"Mid 2011   \n",
              "835                                                   Booq Boa Shift Backpack Macbook / Pro 15 \"Black   \n",
              "13406                                                   Apple iPhone Leather Case Cover 7 Brown Candy   \n",
              "\n",
              "                                                                                                                                                      desc  \\\n",
              "12142                                                                        small compact external battery and portable device with USB port and microUSB   \n",
              "13623                                                                                                 ultrathin Case for iPhone vegetable tanned leather 7   \n",
              "1616                                                                         Wide angle fisheye macro macro x10 and x15 for iPhone 6 / 6S and 6 / 6S Plus.   \n",
              "15953                                                                            Computer Refurbished MacBook Pro 13-inch i5 27GHz | 8GB RAM | 128GB Flash   \n",
              "363                                                                                               USB Power Adapter 5W 1A for iPhone iPod and Apple Watch.   \n",
              "18708                                                                                        Ultrathin silicone case and microfiber premium for iPhone 8/7   \n",
              "7657                                               Desktop computer iMac 27-inch 3.3GHz Core i5 5K Retina | 16GB RAM | 2TB SSD | R9 M395X 4GB (MK482Y / A)   \n",
              "18372                                                                                                 Belkin Cable High Speed ​​HDMI - Ethernet 5m for Mac   \n",
              "11800  Kit expansion SSD 480GB MacBook Retina 13 inches and 15 inches Late 2013 to 2015 and Mid Ipads 11 inches and 13 inches Mid 2013 to 2015 Early tools   \n",
              "11325                                                                       Leather case and polycarbonate sheet format and support for 129-inch iPad Pro.   \n",
              "450                                                                                                                     Adapter mini Display Port to HDMI.   \n",
              "660                                                                                                Wireless router AC and Gateway 1200 Mbps transfer rate.   \n",
              "11893                                                                                                     Cover with multiposition support for iPad Air 2.   \n",
              "14690                                        NAS hard drive designed for systems with interface SATA 6Gb / s and rotation speed of 7200 rpm for Mac and PC   \n",
              "17689                                                                   superwide 34-inch monitor image quality IPS sRGB and 99% for crisp, lifelike color   \n",
              "987                                                                       Installation Kit SSD / Hard for Mac mini (2011-2012 with Upper Bay Drive) Disco.   \n",
              "886                                                               graphic display multitouch 22-inch H-IPS LCD technology and precision pen for Mac and PC   \n",
              "12913                                                                                                        External Battery Dual USB for iPhone and iPad   \n",
              "2004                                                                                 SSD upgrade kit 480GB + 16GB 1600Mhz RAM for Mac mini Late 2012 tools   \n",
              "13684                                                                                                              Wifi network amplifier power indicator.   \n",
              "18217                                                                             4TB External Hard Drive USB 3.0 with Mac and PC light for compact design   \n",
              "15949                                                          NAS with HDMI 4K (3840x2160) output 4-core processor for home and small business Mac and PC   \n",
              "18310                                                                Mobile surveillance camera from 720p resolution lens and 120 degree night vision mode   \n",
              "14957                                                                                             Mini keyboard with 25 keys for Mac iPhone iPad and iPod.   \n",
              "11508                                                                                                  1TB SSD upgrade kit for 27-inch Mid 2011 iMac tools   \n",
              "13305                                                                                   resistant cover and thin beveled edges for iPhone 8 Plus or 7-Plus   \n",
              "17889                                             NAS server of the Plus Series for companies seeking high performance and the ability to scale memory and   \n",
              "17716                                                                     64TB RAID system Thunderbolt 2 (20Gb / s) 8-bay rackmount format 5 year warranty   \n",
              "19118                                                                                                     outer box with SSD M.2 inch 250GB for Mac and PC   \n",
              "11246                                                    Pack NAS QNAP TS-453A with 8GB of RAM memory + 16TB (4x4TB) Network WD Hard Drive for Mac and PC.   \n",
              "11767                                                                                                                 New iPhone SE with 4 inch 16GB free.   \n",
              "11741                                                                                                         NAS + 6TB (2x3TB) WD Network for Mac and PC.   \n",
              "290                                                                                              Wireless network camera day and night home with my DLink.   \n",
              "15326                                                                                          Kit 3 white light bulbs and color light controller Bridge +   \n",
              "19165                                                                        Monitor Refurbished LG 32UD59-B 4K resolution HDMI and DisplayPort 95% DCI-P3   \n",
              "10036                                       Desktop computer iMac 27-inch 3.2GHz Core i5 5K Retina | 8GB RAM | 512GB SSD | AMD Radeon R9 M390 (MK472Y / A)   \n",
              "16519                                                                 New MacBook Pro 13-inch Core i5 Touch Bar 33 GHz with 16GB of RAM and 256GB PCIe SSD   \n",
              "12936                                                                   128GB USB 3.0 flash drive with ultra fast speed and metallic design for Mac and PC   \n",
              "13456                                                       rigid case with compact design and shock protection and rasguÌ ± os for iPhone 8 Plus / 7 Plus   \n",
              "13085                                                                                     Pendrive USB 3.0 connector lightning and 64GB for iPhone / iPad.   \n",
              "12822                                                                                                                       SDHC Memory Card 32GB 80MB / s   \n",
              "2059                                                                    lightweight external hard drive and 25-inch ultra-thin 2TB USB 3.0 for Mac and PC.   \n",
              "2602                                                                                       Waterproof Wireless Speaker for iPhone iPad and iPod Bluetooth.   \n",
              "15375                                                                                               Repair service including parts and labor for iPhone 5s   \n",
              "1348                                                                                                                 Smart Case with Stand for iPad Air 2.   \n",
              "12735                                                                           OWC ThunderBay 4 + 12TB (4x3TB) Seagate Hard Drives Desktop for Mac and PC   \n",
              "18858                                                                                                       Replacement AC Adapter for Apple iPhone 7 Plus   \n",
              "10881                                                                                Crucial SSD 240GB + SSD BX200 installation kit iMac 27-inch Mid 2011.   \n",
              "835                                                                            Lightweight backpack extremely functional and spacious 15-inch MacBook Pro.   \n",
              "13406                                                                                           ultrathin leather case and microfiber premium for iPhone 7   \n",
              "\n",
              "         price promo_price  in_stock      type  \n",
              "12142    44.00     149.895         1      1515  \n",
              "13623    39.90     359.902         1  11865403  \n",
              "1616     79.99     639.896         1  11905404  \n",
              "15953  1499.00  11.555.936         0  2,17E+11  \n",
              "363      25.00     240.004         1  14365395  \n",
              "18708    39.00     314.664         0  11865403  \n",
              "7657   4609.00  35.749.898         0  5,74E+15  \n",
              "18372    29.99     269.903         1      1325  \n",
              "11800   568.99   4.945.839         0  12215397  \n",
              "11325    34.99     249.901         0  12635403  \n",
              "450      29.99     149.895         1      1325  \n",
              "660     113.99   1.139.905         0      1334  \n",
              "11893    71.99     454.705         0      1298  \n",
              "14690   359.99   2.209.944         1  12655397  \n",
              "17689   399.00   3.599.895         1      1296  \n",
              "987      44.99     399.905         1  12755395  \n",
              "886    1999.00  18.699.897         0      1405  \n",
              "12913    29.99     179.903         0      1515  \n",
              "2004    369.56   3.345.844         0      1433  \n",
              "13684    26.90     246.458         0      1298  \n",
              "18217   199.99   1.569.951         0  11935397  \n",
              "15949   519.09   4.568.056         1      1298  \n",
              "18310   109.99     909.896         0      9094  \n",
              "14957    73.19     475.444         0      1298  \n",
              "11508   450.98   3.255.844         1      1433  \n",
              "13305    39.99     249.901         1  11865403  \n",
              "17889  1609.99  13.383.677         0  12175397  \n",
              "17716  4849.00   3.999.995         0  11935397  \n",
              "19118   338.99   3.277.951         0  11935397  \n",
              "11246  1376.59   1.203.368         0  12175397  \n",
              "11767   489.00   4.903.307         0       NaN  \n",
              "11741   398.99   3.451.791         0  12175397  \n",
              "290      79.99     489.929         0      9094  \n",
              "15326   199.95   1.799.875         0  11905404  \n",
              "19165   499.00   4.496.556         1      1296  \n",
              "10036  2689.00  24.739.902         0  5,74E+15  \n",
              "16519  2359.00  22.170.044         0  1,02E+12  \n",
              "12936    44.01     372.801         0  11935397  \n",
              "13456    35.00     269.903         0  11865403  \n",
              "13085    99.99     395.963         0  42945397  \n",
              "12822    10.99      84.936         0      1298  \n",
              "2059    109.99     997.935         0  11935397  \n",
              "2602    129.00     899.901         0      5398  \n",
              "15375    49.99     499.899         0  1,44E+11  \n",
              "1348     44.95     299.959         0  12635403  \n",
              "12735  1149.99   9.093.682         0  11935397  \n",
              "18858    47.99     407.915         1  21485407  \n",
              "10881   126.98   1.099.902         0      1433  \n",
              "835     150.00   1.429.893         0      1392  \n",
              "13406    55.00     460.006         0  11865403  "
            ],
            "text/html": [
              "\n",
              "  <div id=\"df-ab5a9c60-b16d-40af-932c-d80bfefdcc86\" class=\"colab-df-container\">\n",
              "    <div>\n",
              "<style scoped>\n",
              "    .dataframe tbody tr th:only-of-type {\n",
              "        vertical-align: middle;\n",
              "    }\n",
              "\n",
              "    .dataframe tbody tr th {\n",
              "        vertical-align: top;\n",
              "    }\n",
              "\n",
              "    .dataframe thead th {\n",
              "        text-align: right;\n",
              "    }\n",
              "</style>\n",
              "<table border=\"1\" class=\"dataframe\">\n",
              "  <thead>\n",
              "    <tr style=\"text-align: right;\">\n",
              "      <th></th>\n",
              "      <th>sku</th>\n",
              "      <th>name</th>\n",
              "      <th>desc</th>\n",
              "      <th>price</th>\n",
              "      <th>promo_price</th>\n",
              "      <th>in_stock</th>\n",
              "      <th>type</th>\n",
              "    </tr>\n",
              "  </thead>\n",
              "  <tbody>\n",
              "    <tr>\n",
              "      <th>12142</th>\n",
              "      <td>MOP0075</td>\n",
              "      <td>Mophie Power Reserve micro USB External Battery 1350mAh Black</td>\n",
              "      <td>small compact external battery and portable device with USB port and microUSB</td>\n",
              "      <td>44.00</td>\n",
              "      <td>149.895</td>\n",
              "      <td>1</td>\n",
              "      <td>1515</td>\n",
              "    </tr>\n",
              "    <tr>\n",
              "      <th>13623</th>\n",
              "      <td>MUJ0018</td>\n",
              "      <td>Mujjo iPhone Leather Case Leather Champagne 8/7/6</td>\n",
              "      <td>ultrathin Case for iPhone vegetable tanned leather 7</td>\n",
              "      <td>39.90</td>\n",
              "      <td>359.902</td>\n",
              "      <td>1</td>\n",
              "      <td>11865403</td>\n",
              "    </tr>\n",
              "    <tr>\n",
              "      <th>1616</th>\n",
              "      <td>OLL0018</td>\n",
              "      <td>Olloclip 4-in-1 lens iPhone 6 / 6S and 6 / 6S Plus Silver / Black</td>\n",
              "      <td>Wide angle fisheye macro macro x10 and x15 for iPhone 6 / 6S and 6 / 6S Plus.</td>\n",
              "      <td>79.99</td>\n",
              "      <td>639.896</td>\n",
              "      <td>1</td>\n",
              "      <td>11905404</td>\n",
              "    </tr>\n",
              "    <tr>\n",
              "      <th>15953</th>\n",
              "      <td>AP20079</td>\n",
              "      <td>Like new - Apple MacBook Pro Retina 13 \"i5 27 GHz | 8GB RAM | 128GB Flash</td>\n",
              "      <td>Computer Refurbished MacBook Pro 13-inch i5 27GHz | 8GB RAM | 128GB Flash</td>\n",
              "      <td>1499.00</td>\n",
              "      <td>11.555.936</td>\n",
              "      <td>0</td>\n",
              "      <td>2,17E+11</td>\n",
              "    </tr>\n",
              "    <tr>\n",
              "      <th>363</th>\n",
              "      <td>APP0434</td>\n",
              "      <td>Apple 5W USB power adapter iPhone and iPod</td>\n",
              "      <td>USB Power Adapter 5W 1A for iPhone iPod and Apple Watch.</td>\n",
              "      <td>25.00</td>\n",
              "      <td>240.004</td>\n",
              "      <td>1</td>\n",
              "      <td>14365395</td>\n",
              "    </tr>\n",
              "    <tr>\n",
              "      <th>18708</th>\n",
              "      <td>APP2506-A</td>\n",
              "      <td>Open - Silicon Case Cover Apple iPhone 8/7 Cobalt Blue</td>\n",
              "      <td>Ultrathin silicone case and microfiber premium for iPhone 8/7</td>\n",
              "      <td>39.00</td>\n",
              "      <td>314.664</td>\n",
              "      <td>0</td>\n",
              "      <td>11865403</td>\n",
              "    </tr>\n",
              "    <tr>\n",
              "      <th>7657</th>\n",
              "      <td>PAC1623</td>\n",
              "      <td>Apple iMac 27 \"Core i5 3.3GHz Retina 5K | 16GB RAM | 2TB SSD | Radeon R9 M395X 4GB</td>\n",
              "      <td>Desktop computer iMac 27-inch 3.3GHz Core i5 5K Retina | 16GB RAM | 2TB SSD | R9 M395X 4GB (MK482Y / A)</td>\n",
              "      <td>4609.00</td>\n",
              "      <td>35.749.898</td>\n",
              "      <td>0</td>\n",
              "      <td>5,74E+15</td>\n",
              "    </tr>\n",
              "    <tr>\n",
              "      <th>18372</th>\n",
              "      <td>BEL0340</td>\n",
              "      <td>Belkin Cable HDMI High Speed ​​with Ethernet 5m</td>\n",
              "      <td>Belkin Cable High Speed ​​HDMI - Ethernet 5m for Mac</td>\n",
              "      <td>29.99</td>\n",
              "      <td>269.903</td>\n",
              "      <td>1</td>\n",
              "      <td>1325</td>\n",
              "    </tr>\n",
              "    <tr>\n",
              "      <th>11800</th>\n",
              "      <td>OWC0183</td>\n",
              "      <td>SSD expansion kit OWC Aura Pro 6G 480GB Retina MacBook Pro / Macbook Air 11 \"and 13\" 2013-2015</td>\n",
              "      <td>Kit expansion SSD 480GB MacBook Retina 13 inches and 15 inches Late 2013 to 2015 and Mid Ipads 11 inches and 13 inches Mid 2013 to 2015 Early tools</td>\n",
              "      <td>568.99</td>\n",
              "      <td>4.945.839</td>\n",
              "      <td>0</td>\n",
              "      <td>12215397</td>\n",
              "    </tr>\n",
              "    <tr>\n",
              "      <th>11325</th>\n",
              "      <td>XDO0026</td>\n",
              "      <td>X-Doria Dash Folio iPad Case Simple Pro 129 \"White</td>\n",
              "      <td>Leather case and polycarbonate sheet format and support for 129-inch iPad Pro.</td>\n",
              "      <td>34.99</td>\n",
              "      <td>249.901</td>\n",
              "      <td>0</td>\n",
              "      <td>12635403</td>\n",
              "    </tr>\n",
              "    <tr>\n",
              "      <th>450</th>\n",
              "      <td>NTE0032</td>\n",
              "      <td>NewerTech MiniDisplay Port to HDMI Adapter</td>\n",
              "      <td>Adapter mini Display Port to HDMI.</td>\n",
              "      <td>29.99</td>\n",
              "      <td>149.895</td>\n",
              "      <td>1</td>\n",
              "      <td>1325</td>\n",
              "    </tr>\n",
              "    <tr>\n",
              "      <th>660</th>\n",
              "      <td>DLK0048</td>\n",
              "      <td>D-Link DSL-3580L Router ADSL 2+ WiFi AC 1200Mbps</td>\n",
              "      <td>Wireless router AC and Gateway 1200 Mbps transfer rate.</td>\n",
              "      <td>113.99</td>\n",
              "      <td>1.139.905</td>\n",
              "      <td>0</td>\n",
              "      <td>1334</td>\n",
              "    </tr>\n",
              "    <tr>\n",
              "      <th>11893</th>\n",
              "      <td>LOG0153-A</td>\n",
              "      <td>(Open) AnyAngle Logitech iPad Air Case with Stand 2 Gray</td>\n",
              "      <td>Cover with multiposition support for iPad Air 2.</td>\n",
              "      <td>71.99</td>\n",
              "      <td>454.705</td>\n",
              "      <td>0</td>\n",
              "      <td>1298</td>\n",
              "    </tr>\n",
              "    <tr>\n",
              "      <th>14690</th>\n",
              "      <td>SEA0105</td>\n",
              "      <td>IronWolf Seagate Hard Drive 8TB SATA NAS 3</td>\n",
              "      <td>NAS hard drive designed for systems with interface SATA 6Gb / s and rotation speed of 7200 rpm for Mac and PC</td>\n",
              "      <td>359.99</td>\n",
              "      <td>2.209.944</td>\n",
              "      <td>1</td>\n",
              "      <td>12655397</td>\n",
              "    </tr>\n",
              "    <tr>\n",
              "      <th>17689</th>\n",
              "      <td>LGE0069</td>\n",
              "      <td>LG 34UM59-P Monitor 34 \"sRGB 99% QHD HDMI</td>\n",
              "      <td>superwide 34-inch monitor image quality IPS sRGB and 99% for crisp, lifelike color</td>\n",
              "      <td>399.00</td>\n",
              "      <td>3.599.895</td>\n",
              "      <td>1</td>\n",
              "      <td>1296</td>\n",
              "    </tr>\n",
              "    <tr>\n",
              "      <th>987</th>\n",
              "      <td>OWC0108</td>\n",
              "      <td>Installation Kit OWC SSD / HDD 25 \"Mac mini (2011/2012 Upper Bay Drive)</td>\n",
              "      <td>Installation Kit SSD / Hard for Mac mini (2011-2012 with Upper Bay Drive) Disco.</td>\n",
              "      <td>44.99</td>\n",
              "      <td>399.905</td>\n",
              "      <td>1</td>\n",
              "      <td>12755395</td>\n",
              "    </tr>\n",
              "    <tr>\n",
              "      <th>886</th>\n",
              "      <td>WAC0138</td>\n",
              "      <td>Wacom Cintiq 22HD Touch</td>\n",
              "      <td>graphic display multitouch 22-inch H-IPS LCD technology and precision pen for Mac and PC</td>\n",
              "      <td>1999.00</td>\n",
              "      <td>18.699.897</td>\n",
              "      <td>0</td>\n",
              "      <td>1405</td>\n",
              "    </tr>\n",
              "    <tr>\n",
              "      <th>12913</th>\n",
              "      <td>BEL0262</td>\n",
              "      <td>MIXIT Belkin Dual USB Power Bank 4000mAh Red 2.4A</td>\n",
              "      <td>External Battery Dual USB for iPhone and iPad</td>\n",
              "      <td>29.99</td>\n",
              "      <td>179.903</td>\n",
              "      <td>0</td>\n",
              "      <td>1515</td>\n",
              "    </tr>\n",
              "    <tr>\n",
              "      <th>2004</th>\n",
              "      <td>PAC0741</td>\n",
              "      <td>Kingston V300 SSD expansion kit 480GB + 16GB 1600Mhz RAM for Mac mini 2012</td>\n",
              "      <td>SSD upgrade kit 480GB + 16GB 1600Mhz RAM for Mac mini Late 2012 tools</td>\n",
              "      <td>369.56</td>\n",
              "      <td>3.345.844</td>\n",
              "      <td>0</td>\n",
              "      <td>1433</td>\n",
              "    </tr>\n",
              "    <tr>\n",
              "      <th>13684</th>\n",
              "      <td>DLK0093-A</td>\n",
              "      <td>(Open) D-Link DAP-1330 Amplifier N300 Wi-Fi</td>\n",
              "      <td>Wifi network amplifier power indicator.</td>\n",
              "      <td>26.90</td>\n",
              "      <td>246.458</td>\n",
              "      <td>0</td>\n",
              "      <td>1298</td>\n",
              "    </tr>\n",
              "    <tr>\n",
              "      <th>18217</th>\n",
              "      <td>WDT0405</td>\n",
              "      <td>WD 4TB MyPassport Ultra Gold</td>\n",
              "      <td>4TB External Hard Drive USB 3.0 with Mac and PC light for compact design</td>\n",
              "      <td>199.99</td>\n",
              "      <td>1.569.951</td>\n",
              "      <td>0</td>\n",
              "      <td>11935397</td>\n",
              "    </tr>\n",
              "    <tr>\n",
              "      <th>15949</th>\n",
              "      <td>QNA0210-A</td>\n",
              "      <td>Open - QNAP NAS server TS-453Bmini | 4GB RAM | 4-bay | HDMI 4K</td>\n",
              "      <td>NAS with HDMI 4K (3840x2160) output 4-core processor for home and small business Mac and PC</td>\n",
              "      <td>519.09</td>\n",
              "      <td>4.568.056</td>\n",
              "      <td>1</td>\n",
              "      <td>1298</td>\n",
              "    </tr>\n",
              "    <tr>\n",
              "      <th>18310</th>\n",
              "      <td>DLK0140</td>\n",
              "      <td>D-Link DCS-936L camera HD Wi-Fi Day / Night</td>\n",
              "      <td>Mobile surveillance camera from 720p resolution lens and 120 degree night vision mode</td>\n",
              "      <td>109.99</td>\n",
              "      <td>909.896</td>\n",
              "      <td>0</td>\n",
              "      <td>9094</td>\n",
              "    </tr>\n",
              "    <tr>\n",
              "      <th>14957</th>\n",
              "      <td>IKM0045-A</td>\n",
              "      <td>Open - IK Multimedia iRig Keys USB controller 25 25 mini keys for Mac iPad iPhone iPod</td>\n",
              "      <td>Mini keyboard with 25 keys for Mac iPhone iPad and iPod.</td>\n",
              "      <td>73.19</td>\n",
              "      <td>475.444</td>\n",
              "      <td>0</td>\n",
              "      <td>1298</td>\n",
              "    </tr>\n",
              "    <tr>\n",
              "      <th>11508</th>\n",
              "      <td>PAC1264</td>\n",
              "      <td>Samsung SSD 850 expansion kit EVO 1TB iMac 27 \"2011</td>\n",
              "      <td>1TB SSD upgrade kit for 27-inch Mid 2011 iMac tools</td>\n",
              "      <td>450.98</td>\n",
              "      <td>3.255.844</td>\n",
              "      <td>1</td>\n",
              "      <td>1433</td>\n",
              "    </tr>\n",
              "    <tr>\n",
              "      <th>13305</th>\n",
              "      <td>OTT0147</td>\n",
              "      <td>Otterbox iPhone Case Symmetry 8 Plus / 7 Plus Black</td>\n",
              "      <td>resistant cover and thin beveled edges for iPhone 8 Plus or 7-Plus</td>\n",
              "      <td>39.99</td>\n",
              "      <td>249.901</td>\n",
              "      <td>1</td>\n",
              "      <td>11865403</td>\n",
              "    </tr>\n",
              "    <tr>\n",
              "      <th>17889</th>\n",
              "      <td>PAC2264</td>\n",
              "      <td>Synology DS918 + NAS Server | 4GB | 24TB (4x6TB) WD Red</td>\n",
              "      <td>NAS server of the Plus Series for companies seeking high performance and the ability to scale memory and</td>\n",
              "      <td>1609.99</td>\n",
              "      <td>13.383.677</td>\n",
              "      <td>0</td>\n",
              "      <td>12175397</td>\n",
              "    </tr>\n",
              "    <tr>\n",
              "      <th>17716</th>\n",
              "      <td>LAC0247</td>\n",
              "      <td>Lacie 8big Rack System 64TB RAID Thunderbolt 2</td>\n",
              "      <td>64TB RAID system Thunderbolt 2 (20Gb / s) 8-bay rackmount format 5 year warranty</td>\n",
              "      <td>4849.00</td>\n",
              "      <td>3.999.995</td>\n",
              "      <td>0</td>\n",
              "      <td>11935397</td>\n",
              "    </tr>\n",
              "    <tr>\n",
              "      <th>19118</th>\n",
              "      <td>OWC0280</td>\n",
              "      <td>OWC Envoy Pro EX 250GB SSD M.2 PCIe Thunderbolt 3</td>\n",
              "      <td>outer box with SSD M.2 inch 250GB for Mac and PC</td>\n",
              "      <td>338.99</td>\n",
              "      <td>3.277.951</td>\n",
              "      <td>0</td>\n",
              "      <td>11935397</td>\n",
              "    </tr>\n",
              "    <tr>\n",
              "      <th>11246</th>\n",
              "      <td>PAC1342</td>\n",
              "      <td>Pack QNAP TS-453A | 8GB RAM | WD 16TB Network</td>\n",
              "      <td>Pack NAS QNAP TS-453A with 8GB of RAM memory + 16TB (4x4TB) Network WD Hard Drive for Mac and PC.</td>\n",
              "      <td>1376.59</td>\n",
              "      <td>1.203.368</td>\n",
              "      <td>0</td>\n",
              "      <td>12175397</td>\n",
              "    </tr>\n",
              "    <tr>\n",
              "      <th>11767</th>\n",
              "      <td>APP1479</td>\n",
              "      <td>Apple iPhone 16GB Gold</td>\n",
              "      <td>New iPhone SE with 4 inch 16GB free.</td>\n",
              "      <td>489.00</td>\n",
              "      <td>4.903.307</td>\n",
              "      <td>0</td>\n",
              "      <td>NaN</td>\n",
              "    </tr>\n",
              "    <tr>\n",
              "      <th>11741</th>\n",
              "      <td>PAC1381</td>\n",
              "      <td>Pack QNAP TS-228 | WD 6TB Network</td>\n",
              "      <td>NAS + 6TB (2x3TB) WD Network for Mac and PC.</td>\n",
              "      <td>398.99</td>\n",
              "      <td>3.451.791</td>\n",
              "      <td>0</td>\n",
              "      <td>12175397</td>\n",
              "    </tr>\n",
              "    <tr>\n",
              "      <th>290</th>\n",
              "      <td>DLK0008</td>\n",
              "      <td>D-Link DCS-932L Wireless IP Camera Cloud</td>\n",
              "      <td>Wireless network camera day and night home with my DLink.</td>\n",
              "      <td>79.99</td>\n",
              "      <td>489.929</td>\n",
              "      <td>0</td>\n",
              "      <td>9094</td>\n",
              "    </tr>\n",
              "    <tr>\n",
              "      <th>15326</th>\n",
              "      <td>PHI0064</td>\n",
              "      <td>Philips Hue Starter Kit 3 bulbs white light and color + Bridge</td>\n",
              "      <td>Kit 3 white light bulbs and color light controller Bridge +</td>\n",
              "      <td>199.95</td>\n",
              "      <td>1.799.875</td>\n",
              "      <td>0</td>\n",
              "      <td>11905404</td>\n",
              "    </tr>\n",
              "    <tr>\n",
              "      <th>19165</th>\n",
              "      <td>LGE0062-A</td>\n",
              "      <td>Open - Lg-B 32UD59 MONITOR DCI-P3 95% 4K DP HDMI</td>\n",
              "      <td>Monitor Refurbished LG 32UD59-B 4K resolution HDMI and DisplayPort 95% DCI-P3</td>\n",
              "      <td>499.00</td>\n",
              "      <td>4.496.556</td>\n",
              "      <td>1</td>\n",
              "      <td>1296</td>\n",
              "    </tr>\n",
              "    <tr>\n",
              "      <th>10036</th>\n",
              "      <td>PAC1589</td>\n",
              "      <td>Apple iMac 27 \"Core i5 3.2GHz Retina 5K | 8GB RAM | 512GB SSD | AMD Radeon R9 M390</td>\n",
              "      <td>Desktop computer iMac 27-inch 3.2GHz Core i5 5K Retina | 8GB RAM | 512GB SSD | AMD Radeon R9 M390 (MK472Y / A)</td>\n",
              "      <td>2689.00</td>\n",
              "      <td>24.739.902</td>\n",
              "      <td>0</td>\n",
              "      <td>5,74E+15</td>\n",
              "    </tr>\n",
              "    <tr>\n",
              "      <th>16519</th>\n",
              "      <td>APP2291</td>\n",
              "      <td>Apple MacBook Pro 13 \"Core i5 Touch Bar 33GHz | 16GB | 256GB SSD Silver</td>\n",
              "      <td>New MacBook Pro 13-inch Core i5 Touch Bar 33 GHz with 16GB of RAM and 256GB PCIe SSD</td>\n",
              "      <td>2359.00</td>\n",
              "      <td>22.170.044</td>\n",
              "      <td>0</td>\n",
              "      <td>1,02E+12</td>\n",
              "    </tr>\n",
              "    <tr>\n",
              "      <th>12936</th>\n",
              "      <td>SAM0111</td>\n",
              "      <td>BAR Samsung 128GB USB 3.0 Flash Drive Up to 130Mb / s</td>\n",
              "      <td>128GB USB 3.0 flash drive with ultra fast speed and metallic design for Mac and PC</td>\n",
              "      <td>44.01</td>\n",
              "      <td>372.801</td>\n",
              "      <td>0</td>\n",
              "      <td>11935397</td>\n",
              "    </tr>\n",
              "    <tr>\n",
              "      <th>13456</th>\n",
              "      <td>MOS0201</td>\n",
              "      <td>Moshi iGlaze Case iPhone 8 Plus / 7 Plus Black</td>\n",
              "      <td>rigid case with compact design and shock protection and rasguÌ ± os for iPhone 8 Plus / 7 Plus</td>\n",
              "      <td>35.00</td>\n",
              "      <td>269.903</td>\n",
              "      <td>0</td>\n",
              "      <td>11865403</td>\n",
              "    </tr>\n",
              "    <tr>\n",
              "      <th>13085</th>\n",
              "      <td>LEX0022-A</td>\n",
              "      <td>(Open) Lexar JumpDrive Lightning USB 3.0 M20i Pendrive 64GB</td>\n",
              "      <td>Pendrive USB 3.0 connector lightning and 64GB for iPhone / iPad.</td>\n",
              "      <td>99.99</td>\n",
              "      <td>395.963</td>\n",
              "      <td>0</td>\n",
              "      <td>42945397</td>\n",
              "    </tr>\n",
              "    <tr>\n",
              "      <th>12822</th>\n",
              "      <td>SAN0095-A</td>\n",
              "      <td>(Open) SanDisk Ultra SDHC 32GB SD 80MB / s Class 10 UHS-I</td>\n",
              "      <td>SDHC Memory Card 32GB 80MB / s</td>\n",
              "      <td>10.99</td>\n",
              "      <td>84.936</td>\n",
              "      <td>0</td>\n",
              "      <td>1298</td>\n",
              "    </tr>\n",
              "    <tr>\n",
              "      <th>2059</th>\n",
              "      <td>SEA0072</td>\n",
              "      <td>Seagate Backup Plus Slim External Hard Drive 2TB 2.5 \"USB 3.0 Black</td>\n",
              "      <td>lightweight external hard drive and 25-inch ultra-thin 2TB USB 3.0 for Mac and PC.</td>\n",
              "      <td>109.99</td>\n",
              "      <td>997.935</td>\n",
              "      <td>0</td>\n",
              "      <td>11935397</td>\n",
              "    </tr>\n",
              "    <tr>\n",
              "      <th>2602</th>\n",
              "      <td>DEN0009</td>\n",
              "      <td>Denon Envaya Mini (DSB 100) Black Speaker</td>\n",
              "      <td>Waterproof Wireless Speaker for iPhone iPad and iPod Bluetooth.</td>\n",
              "      <td>129.00</td>\n",
              "      <td>899.901</td>\n",
              "      <td>0</td>\n",
              "      <td>5398</td>\n",
              "    </tr>\n",
              "    <tr>\n",
              "      <th>15375</th>\n",
              "      <td>REP0277</td>\n",
              "      <td>Headset calls iPhone 5s repair</td>\n",
              "      <td>Repair service including parts and labor for iPhone 5s</td>\n",
              "      <td>49.99</td>\n",
              "      <td>499.899</td>\n",
              "      <td>0</td>\n",
              "      <td>1,44E+11</td>\n",
              "    </tr>\n",
              "    <tr>\n",
              "      <th>1348</th>\n",
              "      <td>PUR0131</td>\n",
              "      <td>Puro Booklet Slim founded with support iPad Air 2 Silver</td>\n",
              "      <td>Smart Case with Stand for iPad Air 2.</td>\n",
              "      <td>44.95</td>\n",
              "      <td>299.959</td>\n",
              "      <td>0</td>\n",
              "      <td>12635403</td>\n",
              "    </tr>\n",
              "    <tr>\n",
              "      <th>12735</th>\n",
              "      <td>PAC1471</td>\n",
              "      <td>OWC ThunderBay 4 Thunderbolt 2 | Seagate Desktop 12TB</td>\n",
              "      <td>OWC ThunderBay 4 + 12TB (4x3TB) Seagate Hard Drives Desktop for Mac and PC</td>\n",
              "      <td>1149.99</td>\n",
              "      <td>9.093.682</td>\n",
              "      <td>0</td>\n",
              "      <td>11935397</td>\n",
              "    </tr>\n",
              "    <tr>\n",
              "      <th>18858</th>\n",
              "      <td>IFX0179</td>\n",
              "      <td>iFixit iPhone Battery Part 7 plus</td>\n",
              "      <td>Replacement AC Adapter for Apple iPhone 7 Plus</td>\n",
              "      <td>47.99</td>\n",
              "      <td>407.915</td>\n",
              "      <td>1</td>\n",
              "      <td>21485407</td>\n",
              "    </tr>\n",
              "    <tr>\n",
              "      <th>10881</th>\n",
              "      <td>PAC1206</td>\n",
              "      <td>Crucial BX200 expansion kit 240GB + SSD installation kit iMac 27 \"Mid 2011</td>\n",
              "      <td>Crucial SSD 240GB + SSD BX200 installation kit iMac 27-inch Mid 2011.</td>\n",
              "      <td>126.98</td>\n",
              "      <td>1.099.902</td>\n",
              "      <td>0</td>\n",
              "      <td>1433</td>\n",
              "    </tr>\n",
              "    <tr>\n",
              "      <th>835</th>\n",
              "      <td>BOO0070</td>\n",
              "      <td>Booq Boa Shift Backpack Macbook / Pro 15 \"Black</td>\n",
              "      <td>Lightweight backpack extremely functional and spacious 15-inch MacBook Pro.</td>\n",
              "      <td>150.00</td>\n",
              "      <td>1.429.893</td>\n",
              "      <td>0</td>\n",
              "      <td>1392</td>\n",
              "    </tr>\n",
              "    <tr>\n",
              "      <th>13406</th>\n",
              "      <td>APP1687</td>\n",
              "      <td>Apple iPhone Leather Case Cover 7 Brown Candy</td>\n",
              "      <td>ultrathin leather case and microfiber premium for iPhone 7</td>\n",
              "      <td>55.00</td>\n",
              "      <td>460.006</td>\n",
              "      <td>0</td>\n",
              "      <td>11865403</td>\n",
              "    </tr>\n",
              "  </tbody>\n",
              "</table>\n",
              "</div>\n",
              "    <div class=\"colab-df-buttons\">\n",
              "\n",
              "  <div class=\"colab-df-container\">\n",
              "    <button class=\"colab-df-convert\" onclick=\"convertToInteractive('df-ab5a9c60-b16d-40af-932c-d80bfefdcc86')\"\n",
              "            title=\"Convert this dataframe to an interactive table.\"\n",
              "            style=\"display:none;\">\n",
              "\n",
              "  <svg xmlns=\"http://www.w3.org/2000/svg\" height=\"24px\" viewBox=\"0 -960 960 960\">\n",
              "    <path d=\"M120-120v-720h720v720H120Zm60-500h600v-160H180v160Zm220 220h160v-160H400v160Zm0 220h160v-160H400v160ZM180-400h160v-160H180v160Zm440 0h160v-160H620v160ZM180-180h160v-160H180v160Zm440 0h160v-160H620v160Z\"/>\n",
              "  </svg>\n",
              "    </button>\n",
              "\n",
              "  <style>\n",
              "    .colab-df-container {\n",
              "      display:flex;\n",
              "      gap: 12px;\n",
              "    }\n",
              "\n",
              "    .colab-df-convert {\n",
              "      background-color: #E8F0FE;\n",
              "      border: none;\n",
              "      border-radius: 50%;\n",
              "      cursor: pointer;\n",
              "      display: none;\n",
              "      fill: #1967D2;\n",
              "      height: 32px;\n",
              "      padding: 0 0 0 0;\n",
              "      width: 32px;\n",
              "    }\n",
              "\n",
              "    .colab-df-convert:hover {\n",
              "      background-color: #E2EBFA;\n",
              "      box-shadow: 0px 1px 2px rgba(60, 64, 67, 0.3), 0px 1px 3px 1px rgba(60, 64, 67, 0.15);\n",
              "      fill: #174EA6;\n",
              "    }\n",
              "\n",
              "    .colab-df-buttons div {\n",
              "      margin-bottom: 4px;\n",
              "    }\n",
              "\n",
              "    [theme=dark] .colab-df-convert {\n",
              "      background-color: #3B4455;\n",
              "      fill: #D2E3FC;\n",
              "    }\n",
              "\n",
              "    [theme=dark] .colab-df-convert:hover {\n",
              "      background-color: #434B5C;\n",
              "      box-shadow: 0px 1px 3px 1px rgba(0, 0, 0, 0.15);\n",
              "      filter: drop-shadow(0px 1px 2px rgba(0, 0, 0, 0.3));\n",
              "      fill: #FFFFFF;\n",
              "    }\n",
              "  </style>\n",
              "\n",
              "    <script>\n",
              "      const buttonEl =\n",
              "        document.querySelector('#df-ab5a9c60-b16d-40af-932c-d80bfefdcc86 button.colab-df-convert');\n",
              "      buttonEl.style.display =\n",
              "        google.colab.kernel.accessAllowed ? 'block' : 'none';\n",
              "\n",
              "      async function convertToInteractive(key) {\n",
              "        const element = document.querySelector('#df-ab5a9c60-b16d-40af-932c-d80bfefdcc86');\n",
              "        const dataTable =\n",
              "          await google.colab.kernel.invokeFunction('convertToInteractive',\n",
              "                                                    [key], {});\n",
              "        if (!dataTable) return;\n",
              "\n",
              "        const docLinkHtml = 'Like what you see? Visit the ' +\n",
              "          '<a target=\"_blank\" href=https://colab.research.google.com/notebooks/data_table.ipynb>data table notebook</a>'\n",
              "          + ' to learn more about interactive tables.';\n",
              "        element.innerHTML = '';\n",
              "        dataTable['output_type'] = 'display_data';\n",
              "        await google.colab.output.renderOutput(dataTable, element);\n",
              "        const docLink = document.createElement('div');\n",
              "        docLink.innerHTML = docLinkHtml;\n",
              "        element.appendChild(docLink);\n",
              "      }\n",
              "    </script>\n",
              "  </div>\n",
              "\n",
              "\n",
              "<div id=\"df-8f94c11c-887d-41d7-9a8d-62e006a0592f\">\n",
              "  <button class=\"colab-df-quickchart\" onclick=\"quickchart('df-8f94c11c-887d-41d7-9a8d-62e006a0592f')\"\n",
              "            title=\"Suggest charts\"\n",
              "            style=\"display:none;\">\n",
              "\n",
              "<svg xmlns=\"http://www.w3.org/2000/svg\" height=\"24px\"viewBox=\"0 0 24 24\"\n",
              "     width=\"24px\">\n",
              "    <g>\n",
              "        <path d=\"M19 3H5c-1.1 0-2 .9-2 2v14c0 1.1.9 2 2 2h14c1.1 0 2-.9 2-2V5c0-1.1-.9-2-2-2zM9 17H7v-7h2v7zm4 0h-2V7h2v10zm4 0h-2v-4h2v4z\"/>\n",
              "    </g>\n",
              "</svg>\n",
              "  </button>\n",
              "\n",
              "<style>\n",
              "  .colab-df-quickchart {\n",
              "      --bg-color: #E8F0FE;\n",
              "      --fill-color: #1967D2;\n",
              "      --hover-bg-color: #E2EBFA;\n",
              "      --hover-fill-color: #174EA6;\n",
              "      --disabled-fill-color: #AAA;\n",
              "      --disabled-bg-color: #DDD;\n",
              "  }\n",
              "\n",
              "  [theme=dark] .colab-df-quickchart {\n",
              "      --bg-color: #3B4455;\n",
              "      --fill-color: #D2E3FC;\n",
              "      --hover-bg-color: #434B5C;\n",
              "      --hover-fill-color: #FFFFFF;\n",
              "      --disabled-bg-color: #3B4455;\n",
              "      --disabled-fill-color: #666;\n",
              "  }\n",
              "\n",
              "  .colab-df-quickchart {\n",
              "    background-color: var(--bg-color);\n",
              "    border: none;\n",
              "    border-radius: 50%;\n",
              "    cursor: pointer;\n",
              "    display: none;\n",
              "    fill: var(--fill-color);\n",
              "    height: 32px;\n",
              "    padding: 0;\n",
              "    width: 32px;\n",
              "  }\n",
              "\n",
              "  .colab-df-quickchart:hover {\n",
              "    background-color: var(--hover-bg-color);\n",
              "    box-shadow: 0 1px 2px rgba(60, 64, 67, 0.3), 0 1px 3px 1px rgba(60, 64, 67, 0.15);\n",
              "    fill: var(--button-hover-fill-color);\n",
              "  }\n",
              "\n",
              "  .colab-df-quickchart-complete:disabled,\n",
              "  .colab-df-quickchart-complete:disabled:hover {\n",
              "    background-color: var(--disabled-bg-color);\n",
              "    fill: var(--disabled-fill-color);\n",
              "    box-shadow: none;\n",
              "  }\n",
              "\n",
              "  .colab-df-spinner {\n",
              "    border: 2px solid var(--fill-color);\n",
              "    border-color: transparent;\n",
              "    border-bottom-color: var(--fill-color);\n",
              "    animation:\n",
              "      spin 1s steps(1) infinite;\n",
              "  }\n",
              "\n",
              "  @keyframes spin {\n",
              "    0% {\n",
              "      border-color: transparent;\n",
              "      border-bottom-color: var(--fill-color);\n",
              "      border-left-color: var(--fill-color);\n",
              "    }\n",
              "    20% {\n",
              "      border-color: transparent;\n",
              "      border-left-color: var(--fill-color);\n",
              "      border-top-color: var(--fill-color);\n",
              "    }\n",
              "    30% {\n",
              "      border-color: transparent;\n",
              "      border-left-color: var(--fill-color);\n",
              "      border-top-color: var(--fill-color);\n",
              "      border-right-color: var(--fill-color);\n",
              "    }\n",
              "    40% {\n",
              "      border-color: transparent;\n",
              "      border-right-color: var(--fill-color);\n",
              "      border-top-color: var(--fill-color);\n",
              "    }\n",
              "    60% {\n",
              "      border-color: transparent;\n",
              "      border-right-color: var(--fill-color);\n",
              "    }\n",
              "    80% {\n",
              "      border-color: transparent;\n",
              "      border-right-color: var(--fill-color);\n",
              "      border-bottom-color: var(--fill-color);\n",
              "    }\n",
              "    90% {\n",
              "      border-color: transparent;\n",
              "      border-bottom-color: var(--fill-color);\n",
              "    }\n",
              "  }\n",
              "</style>\n",
              "\n",
              "  <script>\n",
              "    async function quickchart(key) {\n",
              "      const quickchartButtonEl =\n",
              "        document.querySelector('#' + key + ' button');\n",
              "      quickchartButtonEl.disabled = true;  // To prevent multiple clicks.\n",
              "      quickchartButtonEl.classList.add('colab-df-spinner');\n",
              "      try {\n",
              "        const charts = await google.colab.kernel.invokeFunction(\n",
              "            'suggestCharts', [key], {});\n",
              "      } catch (error) {\n",
              "        console.error('Error during call to suggestCharts:', error);\n",
              "      }\n",
              "      quickchartButtonEl.classList.remove('colab-df-spinner');\n",
              "      quickchartButtonEl.classList.add('colab-df-quickchart-complete');\n",
              "    }\n",
              "    (() => {\n",
              "      let quickchartButtonEl =\n",
              "        document.querySelector('#df-8f94c11c-887d-41d7-9a8d-62e006a0592f button');\n",
              "      quickchartButtonEl.style.display =\n",
              "        google.colab.kernel.accessAllowed ? 'block' : 'none';\n",
              "    })();\n",
              "  </script>\n",
              "</div>\n",
              "\n",
              "    </div>\n",
              "  </div>\n"
            ],
            "application/vnd.google.colaboratory.intrinsic+json": {
              "type": "dataframe",
              "summary": "{\n  \"name\": \"promo_price_df\",\n  \"rows\": 50,\n  \"fields\": [\n    {\n      \"column\": \"sku\",\n      \"properties\": {\n        \"dtype\": \"string\",\n        \"num_unique_values\": 50,\n        \"samples\": [\n          \"SEA0105\",\n          \"LEX0022-A\",\n          \"APP1479\"\n        ],\n        \"semantic_type\": \"\",\n        \"description\": \"\"\n      }\n    },\n    {\n      \"column\": \"name\",\n      \"properties\": {\n        \"dtype\": \"string\",\n        \"num_unique_values\": 50,\n        \"samples\": [\n          \"IronWolf Seagate Hard Drive 8TB SATA NAS 3\",\n          \"(Open) Lexar JumpDrive Lightning USB 3.0 M20i Pendrive 64GB\",\n          \"Apple iPhone 16GB Gold\"\n        ],\n        \"semantic_type\": \"\",\n        \"description\": \"\"\n      }\n    },\n    {\n      \"column\": \"desc\",\n      \"properties\": {\n        \"dtype\": \"string\",\n        \"num_unique_values\": 50,\n        \"samples\": [\n          \"NAS hard drive designed for systems with interface SATA 6Gb / s and rotation speed of 7200 rpm for Mac and PC\",\n          \"Pendrive USB 3.0 connector lightning and 64GB for iPhone / iPad.\",\n          \"New iPhone SE with 4 inch 16GB free.\"\n        ],\n        \"semantic_type\": \"\",\n        \"description\": \"\"\n      }\n    },\n    {\n      \"column\": \"price\",\n      \"properties\": {\n        \"dtype\": \"number\",\n        \"std\": 1062.2219002595746,\n        \"min\": 10.99,\n        \"max\": 4849.0,\n        \"num_unique_values\": 46,\n        \"samples\": [\n          49.99,\n          4849.0,\n          338.99\n        ],\n        \"semantic_type\": \"\",\n        \"description\": \"\"\n      }\n    },\n    {\n      \"column\": \"promo_price\",\n      \"properties\": {\n        \"dtype\": \"string\",\n        \"num_unique_values\": 47,\n        \"samples\": [\n          \"1.203.368\",\n          \"899.901\",\n          \"3.277.951\"\n        ],\n        \"semantic_type\": \"\",\n        \"description\": \"\"\n      }\n    },\n    {\n      \"column\": \"in_stock\",\n      \"properties\": {\n        \"dtype\": \"number\",\n        \"std\": 0,\n        \"min\": 0,\n        \"max\": 1,\n        \"num_unique_values\": 2,\n        \"samples\": [\n          0,\n          1\n        ],\n        \"semantic_type\": \"\",\n        \"description\": \"\"\n      }\n    },\n    {\n      \"column\": \"type\",\n      \"properties\": {\n        \"dtype\": \"string\",\n        \"num_unique_values\": 25,\n        \"samples\": [\n          \"12635403\",\n          \"11935397\"\n        ],\n        \"semantic_type\": \"\",\n        \"description\": \"\"\n      }\n    }\n  ]\n}"
            }
          },
          "metadata": {},
          "execution_count": 50
        }
      ]
    },
    {
      "cell_type": "markdown",
      "source": [
        "So I was correct, over 90% of the data in this column is corrupt. There's no point deleting all of these rows, then I would barely have a products table. Instead, as it's only this column that appears to be very untrustworthy, I will delete the column."
      ],
      "metadata": {
        "id": "0Hfgo84xu_VS"
      }
    },
    {
      "cell_type": "code",
      "source": [
        "products_cl = products_df.drop(columns=[\"promo_price\"])"
      ],
      "metadata": {
        "id": "OalyJ-8atij8"
      },
      "execution_count": 51,
      "outputs": []
    },
    {
      "cell_type": "code",
      "source": [
        "products_cl.info()"
      ],
      "metadata": {
        "id": "mJQtVYS-Knyf",
        "colab": {
          "base_uri": "https://localhost:8080/"
        },
        "outputId": "05081c4f-c935-46f7-88da-915860cb8b33"
      },
      "execution_count": 52,
      "outputs": [
        {
          "output_type": "stream",
          "name": "stdout",
          "text": [
            "<class 'pandas.core.frame.DataFrame'>\n",
            "Index: 10038 entries, 0 to 19325\n",
            "Data columns (total 6 columns):\n",
            " #   Column    Non-Null Count  Dtype  \n",
            "---  ------    --------------  -----  \n",
            " 0   sku       10038 non-null  object \n",
            " 1   name      10038 non-null  object \n",
            " 2   desc      10038 non-null  object \n",
            " 3   price     9992 non-null   float64\n",
            " 4   in_stock  10038 non-null  int64  \n",
            " 5   type      9992 non-null   object \n",
            "dtypes: float64(1), int64(1), object(4)\n",
            "memory usage: 549.0+ KB\n"
          ]
        }
      ]
    },
    {
      "cell_type": "markdown",
      "source": [
        "Obviously, there's now no need to convert `promo_price` to a numerical datatype\n",
        "\n",
        "Last step:\n",
        "+ Saving the cleaned version of the DataFrames"
      ],
      "metadata": {
        "id": "vyyISxnQ1YVG"
      }
    },
    {
      "cell_type": "code",
      "source": [
        "from google.colab import files\n",
        "\n",
        "orders_df.to_csv(\"orders_cl.csv\", index=False)\n",
        "files.download(\"orders_cl.csv\")\n",
        "\n",
        "orderlines_df.to_csv(\"orderlines_cl.csv\", index=False)\n",
        "files.download(\"orderlines_cl.csv\")\n",
        "\n",
        "products_cl.to_csv(\"products_cl.csv\", index=False)\n",
        "files.download(\"products_cl.csv\")"
      ],
      "metadata": {
        "id": "6M4Jxfz-8G2b",
        "colab": {
          "base_uri": "https://localhost:8080/",
          "height": 17
        },
        "outputId": "3c042c8d-a80a-44ec-db64-0dc653e7717e"
      },
      "execution_count": 53,
      "outputs": [
        {
          "output_type": "display_data",
          "data": {
            "text/plain": [
              "<IPython.core.display.Javascript object>"
            ],
            "application/javascript": [
              "\n",
              "    async function download(id, filename, size) {\n",
              "      if (!google.colab.kernel.accessAllowed) {\n",
              "        return;\n",
              "      }\n",
              "      const div = document.createElement('div');\n",
              "      const label = document.createElement('label');\n",
              "      label.textContent = `Downloading \"${filename}\": `;\n",
              "      div.appendChild(label);\n",
              "      const progress = document.createElement('progress');\n",
              "      progress.max = size;\n",
              "      div.appendChild(progress);\n",
              "      document.body.appendChild(div);\n",
              "\n",
              "      const buffers = [];\n",
              "      let downloaded = 0;\n",
              "\n",
              "      const channel = await google.colab.kernel.comms.open(id);\n",
              "      // Send a message to notify the kernel that we're ready.\n",
              "      channel.send({})\n",
              "\n",
              "      for await (const message of channel.messages) {\n",
              "        // Send a message to notify the kernel that we're ready.\n",
              "        channel.send({})\n",
              "        if (message.buffers) {\n",
              "          for (const buffer of message.buffers) {\n",
              "            buffers.push(buffer);\n",
              "            downloaded += buffer.byteLength;\n",
              "            progress.value = downloaded;\n",
              "          }\n",
              "        }\n",
              "      }\n",
              "      const blob = new Blob(buffers, {type: 'application/binary'});\n",
              "      const a = document.createElement('a');\n",
              "      a.href = window.URL.createObjectURL(blob);\n",
              "      a.download = filename;\n",
              "      div.appendChild(a);\n",
              "      a.click();\n",
              "      div.remove();\n",
              "    }\n",
              "  "
            ]
          },
          "metadata": {}
        },
        {
          "output_type": "display_data",
          "data": {
            "text/plain": [
              "<IPython.core.display.Javascript object>"
            ],
            "application/javascript": [
              "download(\"download_d587d4d6-8721-4205-9423-4697ff35ae82\", \"orders_cl.csv\", 10596743)"
            ]
          },
          "metadata": {}
        },
        {
          "output_type": "display_data",
          "data": {
            "text/plain": [
              "<IPython.core.display.Javascript object>"
            ],
            "application/javascript": [
              "\n",
              "    async function download(id, filename, size) {\n",
              "      if (!google.colab.kernel.accessAllowed) {\n",
              "        return;\n",
              "      }\n",
              "      const div = document.createElement('div');\n",
              "      const label = document.createElement('label');\n",
              "      label.textContent = `Downloading \"${filename}\": `;\n",
              "      div.appendChild(label);\n",
              "      const progress = document.createElement('progress');\n",
              "      progress.max = size;\n",
              "      div.appendChild(progress);\n",
              "      document.body.appendChild(div);\n",
              "\n",
              "      const buffers = [];\n",
              "      let downloaded = 0;\n",
              "\n",
              "      const channel = await google.colab.kernel.comms.open(id);\n",
              "      // Send a message to notify the kernel that we're ready.\n",
              "      channel.send({})\n",
              "\n",
              "      for await (const message of channel.messages) {\n",
              "        // Send a message to notify the kernel that we're ready.\n",
              "        channel.send({})\n",
              "        if (message.buffers) {\n",
              "          for (const buffer of message.buffers) {\n",
              "            buffers.push(buffer);\n",
              "            downloaded += buffer.byteLength;\n",
              "            progress.value = downloaded;\n",
              "          }\n",
              "        }\n",
              "      }\n",
              "      const blob = new Blob(buffers, {type: 'application/binary'});\n",
              "      const a = document.createElement('a');\n",
              "      a.href = window.URL.createObjectURL(blob);\n",
              "      a.download = filename;\n",
              "      div.appendChild(a);\n",
              "      a.click();\n",
              "      div.remove();\n",
              "    }\n",
              "  "
            ]
          },
          "metadata": {}
        },
        {
          "output_type": "display_data",
          "data": {
            "text/plain": [
              "<IPython.core.display.Javascript object>"
            ],
            "application/javascript": [
              "download(\"download_733ea2d1-8a8d-400a-8703-80d298bc81fa\", \"orderlines_cl.csv\", 11513408)"
            ]
          },
          "metadata": {}
        },
        {
          "output_type": "display_data",
          "data": {
            "text/plain": [
              "<IPython.core.display.Javascript object>"
            ],
            "application/javascript": [
              "\n",
              "    async function download(id, filename, size) {\n",
              "      if (!google.colab.kernel.accessAllowed) {\n",
              "        return;\n",
              "      }\n",
              "      const div = document.createElement('div');\n",
              "      const label = document.createElement('label');\n",
              "      label.textContent = `Downloading \"${filename}\": `;\n",
              "      div.appendChild(label);\n",
              "      const progress = document.createElement('progress');\n",
              "      progress.max = size;\n",
              "      div.appendChild(progress);\n",
              "      document.body.appendChild(div);\n",
              "\n",
              "      const buffers = [];\n",
              "      let downloaded = 0;\n",
              "\n",
              "      const channel = await google.colab.kernel.comms.open(id);\n",
              "      // Send a message to notify the kernel that we're ready.\n",
              "      channel.send({})\n",
              "\n",
              "      for await (const message of channel.messages) {\n",
              "        // Send a message to notify the kernel that we're ready.\n",
              "        channel.send({})\n",
              "        if (message.buffers) {\n",
              "          for (const buffer of message.buffers) {\n",
              "            buffers.push(buffer);\n",
              "            downloaded += buffer.byteLength;\n",
              "            progress.value = downloaded;\n",
              "          }\n",
              "        }\n",
              "      }\n",
              "      const blob = new Blob(buffers, {type: 'application/binary'});\n",
              "      const a = document.createElement('a');\n",
              "      a.href = window.URL.createObjectURL(blob);\n",
              "      a.download = filename;\n",
              "      div.appendChild(a);\n",
              "      a.click();\n",
              "      div.remove();\n",
              "    }\n",
              "  "
            ]
          },
          "metadata": {}
        },
        {
          "output_type": "display_data",
          "data": {
            "text/plain": [
              "<IPython.core.display.Javascript object>"
            ],
            "application/javascript": [
              "download(\"download_28473d6f-e0da-4454-ac0a-13948bb0f795\", \"products_cl.csv\", 1421262)"
            ]
          },
          "metadata": {}
        }
      ]
    }
  ]
}