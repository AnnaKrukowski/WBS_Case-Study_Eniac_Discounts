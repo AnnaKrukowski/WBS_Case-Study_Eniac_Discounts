{
  "nbformat": 4,
  "nbformat_minor": 0,
  "metadata": {
    "colab": {
      "provenance": [],
      "include_colab_link": true
    },
    "kernelspec": {
      "name": "python3",
      "display_name": "Python 3"
    },
    "language_info": {
      "name": "python"
    }
  },
  "cells": [
    {
      "cell_type": "markdown",
      "metadata": {
        "id": "view-in-github",
        "colab_type": "text"
      },
      "source": [
        "<a href=\"https://colab.research.google.com/github/AnnaKrukowski/WBS_Case-Study_Eniac_Discounts/blob/main/20250120_Eniac_data_cleaning_with_pandas.ipynb\" target=\"_parent\"><img src=\"https://colab.research.google.com/assets/colab-badge.svg\" alt=\"Open In Colab\"/></a>"
      ]
    },
    {
      "cell_type": "markdown",
      "source": [
        "# Data Cleaning with Pandas\n",
        "\n",
        "- Few basic data cleaning steps\n",
        "- Focus: `orders` and `orderlines` and `products`datasets\n"
      ],
      "metadata": {
        "id": "kYo4UvcCvkUs"
      }
    },
    {
      "cell_type": "code",
      "execution_count": 2,
      "metadata": {
        "id": "FgRIdUs1vcZ8"
      },
      "outputs": [],
      "source": [
        "import pandas as pd"
      ]
    },
    {
      "cell_type": "code",
      "source": [
        "pd.set_option('display.max_colwidth', None) # to increase the width of the columns"
      ],
      "metadata": {
        "id": "rCFadwwK6Ial"
      },
      "execution_count": 3,
      "outputs": []
    },
    {
      "cell_type": "code",
      "source": [
        "# orders.csv\n",
        "url = \"https://drive.google.com/file/d/1Vu0q91qZw6lqhIqbjoXYvYAQTmVHh6uZ/view?usp=sharing\"\n",
        "path = \"https://drive.google.com/uc?export=download&id=\"+url.split(\"/\")[-2]\n",
        "orders = pd.read_csv(path)\n",
        "\n",
        "# orderlines.csv\n",
        "url = \"https://drive.google.com/file/d/1FYhN_2AzTBFuWcfHaRuKcuCE6CWXsWtG/view?usp=sharing\"\n",
        "path = \"https://drive.google.com/uc?export=download&id=\"+url.split(\"/\")[-2]\n",
        "orderlines = pd.read_csv(path)"
      ],
      "metadata": {
        "id": "_87JoNgVviOG"
      },
      "execution_count": 4,
      "outputs": []
    },
    {
      "cell_type": "markdown",
      "source": [
        "First creating a copy of the `orders` and `orderlines` DataFrames. This way any changes won't affect the original DataFrames."
      ],
      "metadata": {
        "id": "qS6O9HFLUgkU"
      }
    },
    {
      "cell_type": "code",
      "source": [
        "orders_df = orders.copy()"
      ],
      "metadata": {
        "id": "4QdMtar7_lrX"
      },
      "execution_count": 56,
      "outputs": []
    },
    {
      "cell_type": "code",
      "source": [
        "orderlines_df = orderlines.copy()"
      ],
      "metadata": {
        "id": "oka4mnqU_mds"
      },
      "execution_count": 57,
      "outputs": []
    },
    {
      "cell_type": "markdown",
      "source": [
        "One of the best ways to begin data cleaning is by exploring using `.info()`. This will show:\n",
        "* The shape of the DataFrame\n",
        "* The names of the columns\n",
        "* If there are any missing values\n",
        "* The datatypes of the columns"
      ],
      "metadata": {
        "id": "fVLitYX1yhc6"
      }
    },
    {
      "cell_type": "markdown",
      "source": [
        "## 1.&nbsp; Duplicates\n",
        "Checking for duplicates using the pandas [.duplicated()](https://pandas.pydata.org/docs/reference/api/pandas.DataFrame.duplicated.html) method.\n",
        "\n",
        "Deleting these rows using [.drop_duplicates()](https://pandas.pydata.org/docs/reference/api/pandas.DataFrame.drop_duplicates.html)."
      ],
      "metadata": {
        "id": "036ciQ6rwBJm"
      }
    },
    {
      "cell_type": "code",
      "source": [
        "# orders\n",
        "orders_df.duplicated().sum()"
      ],
      "metadata": {
        "colab": {
          "base_uri": "https://localhost:8080/"
        },
        "id": "6dVkoUu7wC-b",
        "outputId": "48a96c0b-e1d4-412a-8cd2-16af63d856ab"
      },
      "execution_count": 58,
      "outputs": [
        {
          "output_type": "execute_result",
          "data": {
            "text/plain": [
              "0"
            ]
          },
          "metadata": {},
          "execution_count": 58
        }
      ]
    },
    {
      "cell_type": "code",
      "source": [
        "# orderlines\n",
        "orderlines_df.duplicated().sum()"
      ],
      "metadata": {
        "colab": {
          "base_uri": "https://localhost:8080/"
        },
        "id": "iaeAQB_3whli",
        "outputId": "e618e7f1-0aa6-4af6-b5d5-7632149ef1ff"
      },
      "execution_count": 59,
      "outputs": [
        {
          "output_type": "execute_result",
          "data": {
            "text/plain": [
              "0"
            ]
          },
          "metadata": {},
          "execution_count": 59
        }
      ]
    },
    {
      "cell_type": "markdown",
      "source": [
        "No duplicate rows in either DataFrame, so no need to delete any rows."
      ],
      "metadata": {
        "id": "3LbnJquF0vRe"
      }
    },
    {
      "cell_type": "markdown",
      "source": [
        "# 2.&nbsp; `.info()`"
      ],
      "metadata": {
        "id": "9lX7YbHlzoEO"
      }
    },
    {
      "cell_type": "code",
      "source": [
        "orders_df.info()"
      ],
      "metadata": {
        "colab": {
          "base_uri": "https://localhost:8080/"
        },
        "id": "_AAsMOTS2L9r",
        "outputId": "9188a2ce-b03c-4fbf-914c-3fc47191355c"
      },
      "execution_count": 60,
      "outputs": [
        {
          "output_type": "stream",
          "name": "stdout",
          "text": [
            "<class 'pandas.core.frame.DataFrame'>\n",
            "RangeIndex: 226909 entries, 0 to 226908\n",
            "Data columns (total 4 columns):\n",
            " #   Column        Non-Null Count   Dtype  \n",
            "---  ------        --------------   -----  \n",
            " 0   order_id      226909 non-null  int64  \n",
            " 1   created_date  226909 non-null  object \n",
            " 2   total_paid    226904 non-null  float64\n",
            " 3   state         226909 non-null  object \n",
            "dtypes: float64(1), int64(1), object(2)\n",
            "memory usage: 6.9+ MB\n"
          ]
        }
      ]
    },
    {
      "cell_type": "markdown",
      "source": [
        "* `total_paid` has 5 missing values\n",
        "* `created_date` should become datetime datatype"
      ],
      "metadata": {
        "id": "Txm3Bv952UCb"
      }
    },
    {
      "cell_type": "code",
      "source": [
        "orderlines_df.info()"
      ],
      "metadata": {
        "colab": {
          "base_uri": "https://localhost:8080/"
        },
        "id": "kvDA-z032Rm2",
        "outputId": "a9aeb931-2449-4497-8139-0cd772fe0cb8"
      },
      "execution_count": 61,
      "outputs": [
        {
          "output_type": "stream",
          "name": "stdout",
          "text": [
            "<class 'pandas.core.frame.DataFrame'>\n",
            "RangeIndex: 293983 entries, 0 to 293982\n",
            "Data columns (total 7 columns):\n",
            " #   Column            Non-Null Count   Dtype \n",
            "---  ------            --------------   ----- \n",
            " 0   id                293983 non-null  int64 \n",
            " 1   id_order          293983 non-null  int64 \n",
            " 2   product_id        293983 non-null  int64 \n",
            " 3   product_quantity  293983 non-null  int64 \n",
            " 4   sku               293983 non-null  object\n",
            " 5   unit_price        293983 non-null  object\n",
            " 6   date              293983 non-null  object\n",
            "dtypes: int64(4), object(3)\n",
            "memory usage: 15.7+ MB\n"
          ]
        }
      ]
    },
    {
      "cell_type": "markdown",
      "source": [
        "* `date` should be a datetime datatype\n",
        "* `unit_price` should be a float datatype"
      ],
      "metadata": {
        "id": "iLSpYm1G2sPD"
      }
    },
    {
      "cell_type": "markdown",
      "source": [
        "## 3.&nbsp; Missing values"
      ],
      "metadata": {
        "id": "MlwJt5c-wiQh"
      }
    },
    {
      "cell_type": "markdown",
      "source": [
        "### 3.1.&nbsp; Orders\n",
        "* `total_paid` has 5 missing values"
      ],
      "metadata": {
        "id": "63eKHGzJwkuT"
      }
    },
    {
      "cell_type": "code",
      "source": [
        "print(f\"5 missing values represents {((orders_df.total_paid.isna().sum() / orders_df.shape[0])*100).round(5)}% of the rows in our DataFrame\")"
      ],
      "metadata": {
        "colab": {
          "base_uri": "https://localhost:8080/"
        },
        "id": "Yh81k3ppwl37",
        "outputId": "82d5c178-32c2-4207-8625-0507e88a5f41"
      },
      "execution_count": 62,
      "outputs": [
        {
          "output_type": "stream",
          "name": "stdout",
          "text": [
            "5 missing values represents 0.0022% of the rows in our DataFrame\n"
          ]
        }
      ]
    },
    {
      "cell_type": "markdown",
      "source": [
        "Other quick option: `.value_count(normalize=True)`"
      ],
      "metadata": {
        "id": "8s6q6JScX9QV"
      }
    },
    {
      "cell_type": "code",
      "source": [
        "orders_df.total_paid.isna().value_counts(normalize=True)"
      ],
      "metadata": {
        "colab": {
          "base_uri": "https://localhost:8080/",
          "height": 178
        },
        "id": "PJedh_tXX8jO",
        "outputId": "77560787-5eef-43d5-e3c0-666e8d7e0a65"
      },
      "execution_count": 63,
      "outputs": [
        {
          "output_type": "execute_result",
          "data": {
            "text/plain": [
              "total_paid\n",
              "False    0.999978\n",
              "True     0.000022\n",
              "Name: proportion, dtype: float64"
            ],
            "text/html": [
              "<div>\n",
              "<style scoped>\n",
              "    .dataframe tbody tr th:only-of-type {\n",
              "        vertical-align: middle;\n",
              "    }\n",
              "\n",
              "    .dataframe tbody tr th {\n",
              "        vertical-align: top;\n",
              "    }\n",
              "\n",
              "    .dataframe thead th {\n",
              "        text-align: right;\n",
              "    }\n",
              "</style>\n",
              "<table border=\"1\" class=\"dataframe\">\n",
              "  <thead>\n",
              "    <tr style=\"text-align: right;\">\n",
              "      <th></th>\n",
              "      <th>proportion</th>\n",
              "    </tr>\n",
              "    <tr>\n",
              "      <th>total_paid</th>\n",
              "      <th></th>\n",
              "    </tr>\n",
              "  </thead>\n",
              "  <tbody>\n",
              "    <tr>\n",
              "      <th>False</th>\n",
              "      <td>0.999978</td>\n",
              "    </tr>\n",
              "    <tr>\n",
              "      <th>True</th>\n",
              "      <td>0.000022</td>\n",
              "    </tr>\n",
              "  </tbody>\n",
              "</table>\n",
              "</div><br><label><b>dtype:</b> float64</label>"
            ]
          },
          "metadata": {},
          "execution_count": 63
        }
      ]
    },
    {
      "cell_type": "markdown",
      "source": [
        "As there is such a tiny amount of missing values, these rows will be simply deleted, as there is enough data without them."
      ],
      "metadata": {
        "id": "eMW6J-4v_iVM"
      }
    },
    {
      "cell_type": "code",
      "source": [
        "orders_df = orders_df.loc[~orders.total_paid.isna(), :]"
      ],
      "metadata": {
        "id": "ohcl2Pb2B_Ch"
      },
      "execution_count": 64,
      "outputs": []
    },
    {
      "cell_type": "markdown",
      "source": [
        "If the number of missing values is considerable, the following options are available:\n",
        "+ impute values\n",
        "+ transfer values from other DataFrames if they are available there\n",
        "+ delete values\n",
        "+ or any number of other creative solutions"
      ],
      "metadata": {
        "id": "AIWAR4xI_3jv"
      }
    },
    {
      "cell_type": "markdown",
      "source": [
        "### 3.2.&nbsp; Orderlines\n",
        "There are no missing values in `orderlines`"
      ],
      "metadata": {
        "id": "nziIE3hbwmNa"
      }
    },
    {
      "cell_type": "markdown",
      "source": [
        "## 4.&nbsp; Datatypes"
      ],
      "metadata": {
        "id": "_feog1aCwosJ"
      }
    },
    {
      "cell_type": "markdown",
      "source": [
        "### 4.1.&nbsp; Orders\n",
        "* `created_date` should become datetime datatype"
      ],
      "metadata": {
        "id": "wCJyQYkOwrBE"
      }
    },
    {
      "cell_type": "code",
      "source": [
        "orders_df[\"created_date\"] = pd.to_datetime(orders_df[\"created_date\"])"
      ],
      "metadata": {
        "id": "cF9roGlewr8j"
      },
      "execution_count": 65,
      "outputs": []
    },
    {
      "cell_type": "markdown",
      "source": [
        "### 4.1.&nbsp; Orderlines\n",
        "* `date` should be a datetime datatype\n",
        "* `unit_price` should be a float datatype"
      ],
      "metadata": {
        "id": "osvynBTNwsin"
      }
    },
    {
      "cell_type": "markdown",
      "source": [
        "#### 4.1.1.&nbsp; `date`"
      ],
      "metadata": {
        "id": "PJcuKn8K06Yd"
      }
    },
    {
      "cell_type": "code",
      "source": [
        "orderlines_df[\"date\"] = pd.to_datetime(orderlines_df[\"date\"])"
      ],
      "metadata": {
        "id": "FnXgRKERwtvS"
      },
      "execution_count": 66,
      "outputs": []
    },
    {
      "cell_type": "markdown",
      "source": [
        "#### 4.1.2.&nbsp;`unit_price`"
      ],
      "metadata": {
        "id": "F7i78NDY0-oF"
      }
    },
    {
      "cell_type": "code",
      "source": [
        "orderlines_df[\"unit_price\"] = pd.to_numeric(orderlines_df[\"unit_price\"])"
      ],
      "metadata": {
        "colab": {
          "base_uri": "https://localhost:8080/",
          "height": 419
        },
        "id": "iOFBNmuRDuGU",
        "outputId": "1f47be6e-76dc-4cfd-8d4c-13406c55a63c"
      },
      "execution_count": 67,
      "outputs": [
        {
          "output_type": "error",
          "ename": "ValueError",
          "evalue": "Unable to parse string \"1.137.99\" at position 6",
          "traceback": [
            "\u001b[0;31m---------------------------------------------------------------------------\u001b[0m",
            "\u001b[0;31mValueError\u001b[0m                                Traceback (most recent call last)",
            "\u001b[0;32mlib.pyx\u001b[0m in \u001b[0;36mpandas._libs.lib.maybe_convert_numeric\u001b[0;34m()\u001b[0m\n",
            "\u001b[0;31mValueError\u001b[0m: Unable to parse string \"1.137.99\"",
            "\nDuring handling of the above exception, another exception occurred:\n",
            "\u001b[0;31mValueError\u001b[0m                                Traceback (most recent call last)",
            "\u001b[0;32m<ipython-input-67-d6bd38092a9f>\u001b[0m in \u001b[0;36m<cell line: 0>\u001b[0;34m()\u001b[0m\n\u001b[0;32m----> 1\u001b[0;31m \u001b[0morderlines_df\u001b[0m\u001b[0;34m[\u001b[0m\u001b[0;34m\"unit_price\"\u001b[0m\u001b[0;34m]\u001b[0m \u001b[0;34m=\u001b[0m \u001b[0mpd\u001b[0m\u001b[0;34m.\u001b[0m\u001b[0mto_numeric\u001b[0m\u001b[0;34m(\u001b[0m\u001b[0morderlines_df\u001b[0m\u001b[0;34m[\u001b[0m\u001b[0;34m\"unit_price\"\u001b[0m\u001b[0;34m]\u001b[0m\u001b[0;34m)\u001b[0m\u001b[0;34m\u001b[0m\u001b[0;34m\u001b[0m\u001b[0m\n\u001b[0m",
            "\u001b[0;32m/usr/local/lib/python3.11/dist-packages/pandas/core/tools/numeric.py\u001b[0m in \u001b[0;36mto_numeric\u001b[0;34m(arg, errors, downcast, dtype_backend)\u001b[0m\n\u001b[1;32m    230\u001b[0m         \u001b[0mcoerce_numeric\u001b[0m \u001b[0;34m=\u001b[0m \u001b[0merrors\u001b[0m \u001b[0;32mnot\u001b[0m \u001b[0;32min\u001b[0m \u001b[0;34m(\u001b[0m\u001b[0;34m\"ignore\"\u001b[0m\u001b[0;34m,\u001b[0m \u001b[0;34m\"raise\"\u001b[0m\u001b[0;34m)\u001b[0m\u001b[0;34m\u001b[0m\u001b[0;34m\u001b[0m\u001b[0m\n\u001b[1;32m    231\u001b[0m         \u001b[0;32mtry\u001b[0m\u001b[0;34m:\u001b[0m\u001b[0;34m\u001b[0m\u001b[0;34m\u001b[0m\u001b[0m\n\u001b[0;32m--> 232\u001b[0;31m             values, new_mask = lib.maybe_convert_numeric(  # type: ignore[call-overload]\n\u001b[0m\u001b[1;32m    233\u001b[0m                 \u001b[0mvalues\u001b[0m\u001b[0;34m,\u001b[0m\u001b[0;34m\u001b[0m\u001b[0;34m\u001b[0m\u001b[0m\n\u001b[1;32m    234\u001b[0m                 \u001b[0mset\u001b[0m\u001b[0;34m(\u001b[0m\u001b[0;34m)\u001b[0m\u001b[0;34m,\u001b[0m\u001b[0;34m\u001b[0m\u001b[0;34m\u001b[0m\u001b[0m\n",
            "\u001b[0;32mlib.pyx\u001b[0m in \u001b[0;36mpandas._libs.lib.maybe_convert_numeric\u001b[0;34m()\u001b[0m\n",
            "\u001b[0;31mValueError\u001b[0m: Unable to parse string \"1.137.99\" at position 6"
          ]
        }
      ]
    },
    {
      "cell_type": "markdown",
      "source": [
        "Converting `unit_price` to a numeric data type leads to `ValueError`, which describes that Pandas does not understand the number `1.137.99`. This is probably because numbers cannot have 2 decimal points."
      ],
      "metadata": {
        "id": "xEqhP5RFSmRi"
      }
    },
    {
      "cell_type": "code",
      "source": [
        "orderlines_df.unit_price.str.contains(\"\\d+\\.\\d+\\.\\d+\").value_counts() # cheking how man prices contain 2 decimal points"
      ],
      "metadata": {
        "id": "ONy-oCt0SkrR",
        "colab": {
          "base_uri": "https://localhost:8080/",
          "height": 178
        },
        "outputId": "8aeeca99-fe26-41ba-fce5-b19d57a0ab92"
      },
      "execution_count": 68,
      "outputs": [
        {
          "output_type": "execute_result",
          "data": {
            "text/plain": [
              "unit_price\n",
              "False    257814\n",
              "True      36169\n",
              "Name: count, dtype: int64"
            ],
            "text/html": [
              "<div>\n",
              "<style scoped>\n",
              "    .dataframe tbody tr th:only-of-type {\n",
              "        vertical-align: middle;\n",
              "    }\n",
              "\n",
              "    .dataframe tbody tr th {\n",
              "        vertical-align: top;\n",
              "    }\n",
              "\n",
              "    .dataframe thead th {\n",
              "        text-align: right;\n",
              "    }\n",
              "</style>\n",
              "<table border=\"1\" class=\"dataframe\">\n",
              "  <thead>\n",
              "    <tr style=\"text-align: right;\">\n",
              "      <th></th>\n",
              "      <th>count</th>\n",
              "    </tr>\n",
              "    <tr>\n",
              "      <th>unit_price</th>\n",
              "      <th></th>\n",
              "    </tr>\n",
              "  </thead>\n",
              "  <tbody>\n",
              "    <tr>\n",
              "      <th>False</th>\n",
              "      <td>257814</td>\n",
              "    </tr>\n",
              "    <tr>\n",
              "      <th>True</th>\n",
              "      <td>36169</td>\n",
              "    </tr>\n",
              "  </tbody>\n",
              "</table>\n",
              "</div><br><label><b>dtype:</b> int64</label>"
            ]
          },
          "metadata": {},
          "execution_count": 68
        }
      ]
    },
    {
      "cell_type": "markdown",
      "source": [
        "Looks like over 36000 rows in `orderlines` are affected by this problem. Let's work out how much that is as a percentage of our total data."
      ],
      "metadata": {
        "id": "HSUPvFJU6Jv-"
      }
    },
    {
      "cell_type": "code",
      "source": [
        "two_dot_percentage = ((orderlines_df.unit_price.str.contains(\"\\d+\\.\\d+\\.\\d+\").value_counts()[1] / orderlines_df.shape[0])*100).round(2)\n",
        "print(f\"The 2 dot problem represents {two_dot_percentage}% of the rows in our DataFrame\")"
      ],
      "metadata": {
        "id": "r75Rm1EgVjpi",
        "colab": {
          "base_uri": "https://localhost:8080/"
        },
        "outputId": "21493390-0c7c-425e-80bf-d6f236e452fa"
      },
      "execution_count": 69,
      "outputs": [
        {
          "output_type": "stream",
          "name": "stdout",
          "text": [
            "The 2 dot problem represents 12.3% of the rows in our DataFrame\n"
          ]
        },
        {
          "output_type": "stream",
          "name": "stderr",
          "text": [
            "<ipython-input-69-d7cb20f99e43>:1: FutureWarning: Series.__getitem__ treating keys as positions is deprecated. In a future version, integer keys will always be treated as labels (consistent with DataFrame behavior). To access a value by position, use `ser.iloc[pos]`\n",
            "  two_dot_percentage = ((orderlines_df.unit_price.str.contains(\"\\d+\\.\\d+\\.\\d+\").value_counts()[1] / orderlines_df.shape[0])*100).round(2)\n"
          ]
        }
      ]
    },
    {
      "cell_type": "markdown",
      "source": [
        "This is a somewhat difficult decision, as 12.3% is a considerable amount of data... and it could even be that a larger part of the data could be lost in the end. For this project, the rows will be deleted as we only have 2 weeks for this project and I would like to show quick, accurate results.\n",
        "\n",
        "Each line of “Orderlines” represents a product in an order. For example, if order number 175 contains 3 different products, then order 175 would have 3 lines in “orderlines”, one line for each product. If 2 of these products have “normal” prices (14.99, 15.85) and 1 has a price with 2 decimal places (1.137.99), the entire order must be removed and not just the affected line. If only the line with 2 decimal places were removed, a later analysis of products and prices could be misleading.\n",
        "\n",
        "Therefore, the order numbers associated with the rows with 2 decimal places must be found and then all associated rows removed."
      ],
      "metadata": {
        "id": "5Kp9_4pqeu5J"
      }
    },
    {
      "cell_type": "code",
      "source": [
        "two_dot_order_ids_list = orderlines_df.loc[orderlines_df.unit_price.str.contains(\"\\d+\\.\\d+\\.\\d+\"), \"id_order\"]\n",
        "\n",
        "orderlines_df = orderlines_df.loc[~orderlines_df.id_order.isin(two_dot_order_ids_list)]"
      ],
      "metadata": {
        "id": "wQnSe-n1WCqv"
      },
      "execution_count": 70,
      "outputs": []
    },
    {
      "cell_type": "code",
      "source": [
        "orderlines_df.shape[0]"
      ],
      "metadata": {
        "id": "k-GLzXuV0Ioj",
        "colab": {
          "base_uri": "https://localhost:8080/"
        },
        "outputId": "9cb80bd4-6b9d-4935-a50a-4c2a75201cae"
      },
      "execution_count": 71,
      "outputs": [
        {
          "output_type": "execute_result",
          "data": {
            "text/plain": [
              "216250"
            ]
          },
          "metadata": {},
          "execution_count": 71
        }
      ]
    },
    {
      "cell_type": "markdown",
      "source": [
        "There are still 216250 rows in orderlines to work with. This should be more than enough for the evaluation.\n",
        "\n",
        "Now that all of the 2 decimal point prices have been removed, it's time to try again converting the column `unit_price` to the correct datatype."
      ],
      "metadata": {
        "id": "2pd5t4110iz3"
      }
    },
    {
      "cell_type": "code",
      "source": [
        "orderlines_df[\"unit_price\"] = pd.to_numeric(orderlines_df[\"unit_price\"])\n",
        "orderlines_df.info()"
      ],
      "metadata": {
        "id": "Q4eDTAPs1HMZ",
        "colab": {
          "base_uri": "https://localhost:8080/"
        },
        "outputId": "b009b55d-d3bd-4c73-c7f8-6697c3729134"
      },
      "execution_count": 72,
      "outputs": [
        {
          "output_type": "stream",
          "name": "stdout",
          "text": [
            "<class 'pandas.core.frame.DataFrame'>\n",
            "Index: 216250 entries, 0 to 293982\n",
            "Data columns (total 7 columns):\n",
            " #   Column            Non-Null Count   Dtype         \n",
            "---  ------            --------------   -----         \n",
            " 0   id                216250 non-null  int64         \n",
            " 1   id_order          216250 non-null  int64         \n",
            " 2   product_id        216250 non-null  int64         \n",
            " 3   product_quantity  216250 non-null  int64         \n",
            " 4   sku               216250 non-null  object        \n",
            " 5   unit_price        216250 non-null  float64       \n",
            " 6   date              216250 non-null  datetime64[ns]\n",
            "dtypes: datetime64[ns](1), float64(1), int64(4), object(1)\n",
            "memory usage: 13.2+ MB\n"
          ]
        }
      ]
    },
    {
      "cell_type": "markdown",
      "source": [
        "# Clean the `products` DataFrame\n"
      ],
      "metadata": {
        "id": "1zGAzgIX8_-D"
      }
    },
    {
      "cell_type": "code",
      "source": [
        "# products.csv\n",
        "url = \"https://drive.google.com/file/d/1afxwDXfl-7cQ_qLwyDitfcCx3u7WMvkU/view?usp=sharing\"\n",
        "path = \"https://drive.google.com/uc?export=download&id=\"+url.split(\"/\")[-2]\n",
        "products = pd.read_csv(path)"
      ],
      "metadata": {
        "id": "LtYqdFsa9KTS"
      },
      "execution_count": 73,
      "outputs": []
    },
    {
      "cell_type": "markdown",
      "source": [
        "First creating a copy of the `products` DataFrames. This way any changes won't affect the original DataFrames."
      ],
      "metadata": {
        "id": "QyZASGwpzGT-"
      }
    },
    {
      "cell_type": "code",
      "source": [
        "products_df = products.copy()"
      ],
      "metadata": {
        "id": "-Vb3zvDwapQA"
      },
      "execution_count": 74,
      "outputs": []
    },
    {
      "cell_type": "code",
      "source": [
        "products_df.head()"
      ],
      "metadata": {
        "id": "UW3zYoni9Vcy",
        "colab": {
          "base_uri": "https://localhost:8080/",
          "height": 223
        },
        "outputId": "a3e18c2b-00f8-42a1-c2f8-72fda8e88f4b"
      },
      "execution_count": 75,
      "outputs": [
        {
          "output_type": "execute_result",
          "data": {
            "text/plain": [
              "       sku                                           name  \\\n",
              "0  RAI0007              Silver Rain Design mStand Support   \n",
              "1  APP0023              Apple Mac Keyboard Keypad Spanish   \n",
              "2  APP0025               Mighty Mouse Apple Mouse for Mac   \n",
              "3  APP0072  Apple Dock to USB Cable iPhone and iPod white   \n",
              "4  KIN0007    Mac Memory Kingston 2GB 667MHz DDR2 SO-DIMM   \n",
              "\n",
              "                                                            desc  price  \\\n",
              "0                   Aluminum support compatible with all MacBook  59.99   \n",
              "1                      USB ultrathin keyboard Apple Mac Spanish.     59   \n",
              "2                                         mouse Apple USB cable.     59   \n",
              "3                          IPhone dock and USB Cable Apple iPod.     25   \n",
              "4  2GB RAM Mac mini and iMac (2006/07) MacBook Pro (2006/07/08).  34.99   \n",
              "\n",
              "  promo_price  in_stock      type  \n",
              "0     499.899         1      8696  \n",
              "1     589.996         0  13855401  \n",
              "2     569.898         0      1387  \n",
              "3     229.997         0      1230  \n",
              "4       31.99         1      1364  "
            ],
            "text/html": [
              "\n",
              "  <div id=\"df-ce10f65a-3739-4f2d-9384-d6c977400bd6\" class=\"colab-df-container\">\n",
              "    <div>\n",
              "<style scoped>\n",
              "    .dataframe tbody tr th:only-of-type {\n",
              "        vertical-align: middle;\n",
              "    }\n",
              "\n",
              "    .dataframe tbody tr th {\n",
              "        vertical-align: top;\n",
              "    }\n",
              "\n",
              "    .dataframe thead th {\n",
              "        text-align: right;\n",
              "    }\n",
              "</style>\n",
              "<table border=\"1\" class=\"dataframe\">\n",
              "  <thead>\n",
              "    <tr style=\"text-align: right;\">\n",
              "      <th></th>\n",
              "      <th>sku</th>\n",
              "      <th>name</th>\n",
              "      <th>desc</th>\n",
              "      <th>price</th>\n",
              "      <th>promo_price</th>\n",
              "      <th>in_stock</th>\n",
              "      <th>type</th>\n",
              "    </tr>\n",
              "  </thead>\n",
              "  <tbody>\n",
              "    <tr>\n",
              "      <th>0</th>\n",
              "      <td>RAI0007</td>\n",
              "      <td>Silver Rain Design mStand Support</td>\n",
              "      <td>Aluminum support compatible with all MacBook</td>\n",
              "      <td>59.99</td>\n",
              "      <td>499.899</td>\n",
              "      <td>1</td>\n",
              "      <td>8696</td>\n",
              "    </tr>\n",
              "    <tr>\n",
              "      <th>1</th>\n",
              "      <td>APP0023</td>\n",
              "      <td>Apple Mac Keyboard Keypad Spanish</td>\n",
              "      <td>USB ultrathin keyboard Apple Mac Spanish.</td>\n",
              "      <td>59</td>\n",
              "      <td>589.996</td>\n",
              "      <td>0</td>\n",
              "      <td>13855401</td>\n",
              "    </tr>\n",
              "    <tr>\n",
              "      <th>2</th>\n",
              "      <td>APP0025</td>\n",
              "      <td>Mighty Mouse Apple Mouse for Mac</td>\n",
              "      <td>mouse Apple USB cable.</td>\n",
              "      <td>59</td>\n",
              "      <td>569.898</td>\n",
              "      <td>0</td>\n",
              "      <td>1387</td>\n",
              "    </tr>\n",
              "    <tr>\n",
              "      <th>3</th>\n",
              "      <td>APP0072</td>\n",
              "      <td>Apple Dock to USB Cable iPhone and iPod white</td>\n",
              "      <td>IPhone dock and USB Cable Apple iPod.</td>\n",
              "      <td>25</td>\n",
              "      <td>229.997</td>\n",
              "      <td>0</td>\n",
              "      <td>1230</td>\n",
              "    </tr>\n",
              "    <tr>\n",
              "      <th>4</th>\n",
              "      <td>KIN0007</td>\n",
              "      <td>Mac Memory Kingston 2GB 667MHz DDR2 SO-DIMM</td>\n",
              "      <td>2GB RAM Mac mini and iMac (2006/07) MacBook Pro (2006/07/08).</td>\n",
              "      <td>34.99</td>\n",
              "      <td>31.99</td>\n",
              "      <td>1</td>\n",
              "      <td>1364</td>\n",
              "    </tr>\n",
              "  </tbody>\n",
              "</table>\n",
              "</div>\n",
              "    <div class=\"colab-df-buttons\">\n",
              "\n",
              "  <div class=\"colab-df-container\">\n",
              "    <button class=\"colab-df-convert\" onclick=\"convertToInteractive('df-ce10f65a-3739-4f2d-9384-d6c977400bd6')\"\n",
              "            title=\"Convert this dataframe to an interactive table.\"\n",
              "            style=\"display:none;\">\n",
              "\n",
              "  <svg xmlns=\"http://www.w3.org/2000/svg\" height=\"24px\" viewBox=\"0 -960 960 960\">\n",
              "    <path d=\"M120-120v-720h720v720H120Zm60-500h600v-160H180v160Zm220 220h160v-160H400v160Zm0 220h160v-160H400v160ZM180-400h160v-160H180v160Zm440 0h160v-160H620v160ZM180-180h160v-160H180v160Zm440 0h160v-160H620v160Z\"/>\n",
              "  </svg>\n",
              "    </button>\n",
              "\n",
              "  <style>\n",
              "    .colab-df-container {\n",
              "      display:flex;\n",
              "      gap: 12px;\n",
              "    }\n",
              "\n",
              "    .colab-df-convert {\n",
              "      background-color: #E8F0FE;\n",
              "      border: none;\n",
              "      border-radius: 50%;\n",
              "      cursor: pointer;\n",
              "      display: none;\n",
              "      fill: #1967D2;\n",
              "      height: 32px;\n",
              "      padding: 0 0 0 0;\n",
              "      width: 32px;\n",
              "    }\n",
              "\n",
              "    .colab-df-convert:hover {\n",
              "      background-color: #E2EBFA;\n",
              "      box-shadow: 0px 1px 2px rgba(60, 64, 67, 0.3), 0px 1px 3px 1px rgba(60, 64, 67, 0.15);\n",
              "      fill: #174EA6;\n",
              "    }\n",
              "\n",
              "    .colab-df-buttons div {\n",
              "      margin-bottom: 4px;\n",
              "    }\n",
              "\n",
              "    [theme=dark] .colab-df-convert {\n",
              "      background-color: #3B4455;\n",
              "      fill: #D2E3FC;\n",
              "    }\n",
              "\n",
              "    [theme=dark] .colab-df-convert:hover {\n",
              "      background-color: #434B5C;\n",
              "      box-shadow: 0px 1px 3px 1px rgba(0, 0, 0, 0.15);\n",
              "      filter: drop-shadow(0px 1px 2px rgba(0, 0, 0, 0.3));\n",
              "      fill: #FFFFFF;\n",
              "    }\n",
              "  </style>\n",
              "\n",
              "    <script>\n",
              "      const buttonEl =\n",
              "        document.querySelector('#df-ce10f65a-3739-4f2d-9384-d6c977400bd6 button.colab-df-convert');\n",
              "      buttonEl.style.display =\n",
              "        google.colab.kernel.accessAllowed ? 'block' : 'none';\n",
              "\n",
              "      async function convertToInteractive(key) {\n",
              "        const element = document.querySelector('#df-ce10f65a-3739-4f2d-9384-d6c977400bd6');\n",
              "        const dataTable =\n",
              "          await google.colab.kernel.invokeFunction('convertToInteractive',\n",
              "                                                    [key], {});\n",
              "        if (!dataTable) return;\n",
              "\n",
              "        const docLinkHtml = 'Like what you see? Visit the ' +\n",
              "          '<a target=\"_blank\" href=https://colab.research.google.com/notebooks/data_table.ipynb>data table notebook</a>'\n",
              "          + ' to learn more about interactive tables.';\n",
              "        element.innerHTML = '';\n",
              "        dataTable['output_type'] = 'display_data';\n",
              "        await google.colab.output.renderOutput(dataTable, element);\n",
              "        const docLink = document.createElement('div');\n",
              "        docLink.innerHTML = docLinkHtml;\n",
              "        element.appendChild(docLink);\n",
              "      }\n",
              "    </script>\n",
              "  </div>\n",
              "\n",
              "\n",
              "<div id=\"df-ec93f56d-40af-4e79-a609-b9dd13328b94\">\n",
              "  <button class=\"colab-df-quickchart\" onclick=\"quickchart('df-ec93f56d-40af-4e79-a609-b9dd13328b94')\"\n",
              "            title=\"Suggest charts\"\n",
              "            style=\"display:none;\">\n",
              "\n",
              "<svg xmlns=\"http://www.w3.org/2000/svg\" height=\"24px\"viewBox=\"0 0 24 24\"\n",
              "     width=\"24px\">\n",
              "    <g>\n",
              "        <path d=\"M19 3H5c-1.1 0-2 .9-2 2v14c0 1.1.9 2 2 2h14c1.1 0 2-.9 2-2V5c0-1.1-.9-2-2-2zM9 17H7v-7h2v7zm4 0h-2V7h2v10zm4 0h-2v-4h2v4z\"/>\n",
              "    </g>\n",
              "</svg>\n",
              "  </button>\n",
              "\n",
              "<style>\n",
              "  .colab-df-quickchart {\n",
              "      --bg-color: #E8F0FE;\n",
              "      --fill-color: #1967D2;\n",
              "      --hover-bg-color: #E2EBFA;\n",
              "      --hover-fill-color: #174EA6;\n",
              "      --disabled-fill-color: #AAA;\n",
              "      --disabled-bg-color: #DDD;\n",
              "  }\n",
              "\n",
              "  [theme=dark] .colab-df-quickchart {\n",
              "      --bg-color: #3B4455;\n",
              "      --fill-color: #D2E3FC;\n",
              "      --hover-bg-color: #434B5C;\n",
              "      --hover-fill-color: #FFFFFF;\n",
              "      --disabled-bg-color: #3B4455;\n",
              "      --disabled-fill-color: #666;\n",
              "  }\n",
              "\n",
              "  .colab-df-quickchart {\n",
              "    background-color: var(--bg-color);\n",
              "    border: none;\n",
              "    border-radius: 50%;\n",
              "    cursor: pointer;\n",
              "    display: none;\n",
              "    fill: var(--fill-color);\n",
              "    height: 32px;\n",
              "    padding: 0;\n",
              "    width: 32px;\n",
              "  }\n",
              "\n",
              "  .colab-df-quickchart:hover {\n",
              "    background-color: var(--hover-bg-color);\n",
              "    box-shadow: 0 1px 2px rgba(60, 64, 67, 0.3), 0 1px 3px 1px rgba(60, 64, 67, 0.15);\n",
              "    fill: var(--button-hover-fill-color);\n",
              "  }\n",
              "\n",
              "  .colab-df-quickchart-complete:disabled,\n",
              "  .colab-df-quickchart-complete:disabled:hover {\n",
              "    background-color: var(--disabled-bg-color);\n",
              "    fill: var(--disabled-fill-color);\n",
              "    box-shadow: none;\n",
              "  }\n",
              "\n",
              "  .colab-df-spinner {\n",
              "    border: 2px solid var(--fill-color);\n",
              "    border-color: transparent;\n",
              "    border-bottom-color: var(--fill-color);\n",
              "    animation:\n",
              "      spin 1s steps(1) infinite;\n",
              "  }\n",
              "\n",
              "  @keyframes spin {\n",
              "    0% {\n",
              "      border-color: transparent;\n",
              "      border-bottom-color: var(--fill-color);\n",
              "      border-left-color: var(--fill-color);\n",
              "    }\n",
              "    20% {\n",
              "      border-color: transparent;\n",
              "      border-left-color: var(--fill-color);\n",
              "      border-top-color: var(--fill-color);\n",
              "    }\n",
              "    30% {\n",
              "      border-color: transparent;\n",
              "      border-left-color: var(--fill-color);\n",
              "      border-top-color: var(--fill-color);\n",
              "      border-right-color: var(--fill-color);\n",
              "    }\n",
              "    40% {\n",
              "      border-color: transparent;\n",
              "      border-right-color: var(--fill-color);\n",
              "      border-top-color: var(--fill-color);\n",
              "    }\n",
              "    60% {\n",
              "      border-color: transparent;\n",
              "      border-right-color: var(--fill-color);\n",
              "    }\n",
              "    80% {\n",
              "      border-color: transparent;\n",
              "      border-right-color: var(--fill-color);\n",
              "      border-bottom-color: var(--fill-color);\n",
              "    }\n",
              "    90% {\n",
              "      border-color: transparent;\n",
              "      border-bottom-color: var(--fill-color);\n",
              "    }\n",
              "  }\n",
              "</style>\n",
              "\n",
              "  <script>\n",
              "    async function quickchart(key) {\n",
              "      const quickchartButtonEl =\n",
              "        document.querySelector('#' + key + ' button');\n",
              "      quickchartButtonEl.disabled = true;  // To prevent multiple clicks.\n",
              "      quickchartButtonEl.classList.add('colab-df-spinner');\n",
              "      try {\n",
              "        const charts = await google.colab.kernel.invokeFunction(\n",
              "            'suggestCharts', [key], {});\n",
              "      } catch (error) {\n",
              "        console.error('Error during call to suggestCharts:', error);\n",
              "      }\n",
              "      quickchartButtonEl.classList.remove('colab-df-spinner');\n",
              "      quickchartButtonEl.classList.add('colab-df-quickchart-complete');\n",
              "    }\n",
              "    (() => {\n",
              "      let quickchartButtonEl =\n",
              "        document.querySelector('#df-ec93f56d-40af-4e79-a609-b9dd13328b94 button');\n",
              "      quickchartButtonEl.style.display =\n",
              "        google.colab.kernel.accessAllowed ? 'block' : 'none';\n",
              "    })();\n",
              "  </script>\n",
              "</div>\n",
              "\n",
              "    </div>\n",
              "  </div>\n"
            ],
            "application/vnd.google.colaboratory.intrinsic+json": {
              "type": "dataframe",
              "variable_name": "products_df",
              "summary": "{\n  \"name\": \"products_df\",\n  \"rows\": 19326,\n  \"fields\": [\n    {\n      \"column\": \"sku\",\n      \"properties\": {\n        \"dtype\": \"string\",\n        \"num_unique_values\": 10579,\n        \"samples\": [\n          \"PUR0153\",\n          \"XDO0039\",\n          \"LIF0132\"\n        ],\n        \"semantic_type\": \"\",\n        \"description\": \"\"\n      }\n    },\n    {\n      \"column\": \"name\",\n      \"properties\": {\n        \"dtype\": \"string\",\n        \"num_unique_values\": 10373,\n        \"samples\": [\n          \"iKettle Red teapot Case\",\n          \"Apple iPhone 6 Plus 64GB Space Gray\",\n          \"Support Kukaclip car + Funda iPhone 5 / 5S Black\"\n        ],\n        \"semantic_type\": \"\",\n        \"description\": \"\"\n      }\n    },\n    {\n      \"column\": \"desc\",\n      \"properties\": {\n        \"dtype\": \"category\",\n        \"num_unique_values\": 7098,\n        \"samples\": [\n          \"Protective Case for iPad Air 2 and iPad Pro 97\",\n          \"IMac desktop computer 27 inch 5K Retina i5 3.3GHz 256GB Flash RAM 16GB (MK482Y / A).\",\n          \"Create and schedule your Android Meebot of Ubtech from your iPhone or iPad\"\n        ],\n        \"semantic_type\": \"\",\n        \"description\": \"\"\n      }\n    },\n    {\n      \"column\": \"price\",\n      \"properties\": {\n        \"dtype\": \"category\",\n        \"num_unique_values\": 2690,\n        \"samples\": [\n          \"83.281.154\",\n          \"758.07\",\n          \"294\"\n        ],\n        \"semantic_type\": \"\",\n        \"description\": \"\"\n      }\n    },\n    {\n      \"column\": \"promo_price\",\n      \"properties\": {\n        \"dtype\": \"category\",\n        \"num_unique_values\": 4614,\n        \"samples\": [\n          \"382.796\",\n          \"40.795\",\n          \"1.729.901\"\n        ],\n        \"semantic_type\": \"\",\n        \"description\": \"\"\n      }\n    },\n    {\n      \"column\": \"in_stock\",\n      \"properties\": {\n        \"dtype\": \"number\",\n        \"std\": 0,\n        \"min\": 0,\n        \"max\": 1,\n        \"num_unique_values\": 2,\n        \"samples\": [\n          0,\n          1\n        ],\n        \"semantic_type\": \"\",\n        \"description\": \"\"\n      }\n    },\n    {\n      \"column\": \"type\",\n      \"properties\": {\n        \"dtype\": \"category\",\n        \"num_unique_values\": 126,\n        \"samples\": [\n          \"2434\",\n          \"12755395\"\n        ],\n        \"semantic_type\": \"\",\n        \"description\": \"\"\n      }\n    }\n  ]\n}"
            }
          },
          "metadata": {},
          "execution_count": 75
        }
      ]
    },
    {
      "cell_type": "code",
      "source": [
        "products_df.info()"
      ],
      "metadata": {
        "id": "per_bjhcO0_L",
        "colab": {
          "base_uri": "https://localhost:8080/"
        },
        "outputId": "f494d0b2-f400-41d2-aed2-83809b2651c0"
      },
      "execution_count": 76,
      "outputs": [
        {
          "output_type": "stream",
          "name": "stdout",
          "text": [
            "<class 'pandas.core.frame.DataFrame'>\n",
            "RangeIndex: 19326 entries, 0 to 19325\n",
            "Data columns (total 7 columns):\n",
            " #   Column       Non-Null Count  Dtype \n",
            "---  ------       --------------  ----- \n",
            " 0   sku          19326 non-null  object\n",
            " 1   name         19326 non-null  object\n",
            " 2   desc         19319 non-null  object\n",
            " 3   price        19280 non-null  object\n",
            " 4   promo_price  19326 non-null  object\n",
            " 5   in_stock     19326 non-null  int64 \n",
            " 6   type         19276 non-null  object\n",
            "dtypes: int64(1), object(6)\n",
            "memory usage: 1.0+ MB\n"
          ]
        }
      ]
    },
    {
      "cell_type": "markdown",
      "source": [
        "These will be the next steps:\n",
        "* Duplicates\n",
        "* Missing values\n",
        "* Datatypes\n"
      ],
      "metadata": {
        "id": "eJJELJjD9l3W"
      }
    },
    {
      "cell_type": "markdown",
      "source": [
        "## Duplicates"
      ],
      "metadata": {
        "id": "DyTfC-WY-IWe"
      }
    },
    {
      "cell_type": "code",
      "source": [
        "products_df.duplicated().sum()"
      ],
      "metadata": {
        "id": "7WzmgCuz9X1x",
        "colab": {
          "base_uri": "https://localhost:8080/"
        },
        "outputId": "b652bc21-a4b1-45f4-fbc2-06aba2df221f"
      },
      "execution_count": 77,
      "outputs": [
        {
          "output_type": "execute_result",
          "data": {
            "text/plain": [
              "8746"
            ]
          },
          "metadata": {},
          "execution_count": 77
        }
      ]
    },
    {
      "cell_type": "markdown",
      "source": [
        "First getting rid of the duplicates."
      ],
      "metadata": {
        "id": "goe2v94N-Oyk"
      }
    },
    {
      "cell_type": "code",
      "source": [
        "products_df = products_df.drop_duplicates()"
      ],
      "metadata": {
        "id": "aP-EeieW-N5i"
      },
      "execution_count": 78,
      "outputs": []
    },
    {
      "cell_type": "code",
      "source": [
        "products_df.duplicated().sum()"
      ],
      "metadata": {
        "colab": {
          "base_uri": "https://localhost:8080/"
        },
        "id": "i8kUJuWqbVXG",
        "outputId": "20aa6d4e-253c-438d-cb89-edd7d73ae431"
      },
      "execution_count": 79,
      "outputs": [
        {
          "output_type": "execute_result",
          "data": {
            "text/plain": [
              "0"
            ]
          },
          "metadata": {},
          "execution_count": 79
        }
      ]
    },
    {
      "cell_type": "markdown",
      "source": [
        "## `.info()`"
      ],
      "metadata": {
        "id": "kAgpknOR-zAg"
      }
    },
    {
      "cell_type": "code",
      "source": [
        "products_df.info()"
      ],
      "metadata": {
        "id": "MXZXRvUa_GTW",
        "colab": {
          "base_uri": "https://localhost:8080/"
        },
        "outputId": "19b0038d-de43-4f79-e095-8e212b11bb8f"
      },
      "execution_count": 80,
      "outputs": [
        {
          "output_type": "stream",
          "name": "stdout",
          "text": [
            "<class 'pandas.core.frame.DataFrame'>\n",
            "Index: 10580 entries, 0 to 19325\n",
            "Data columns (total 7 columns):\n",
            " #   Column       Non-Null Count  Dtype \n",
            "---  ------       --------------  ----- \n",
            " 0   sku          10580 non-null  object\n",
            " 1   name         10580 non-null  object\n",
            " 2   desc         10573 non-null  object\n",
            " 3   price        10534 non-null  object\n",
            " 4   promo_price  10580 non-null  object\n",
            " 5   in_stock     10580 non-null  int64 \n",
            " 6   type         10530 non-null  object\n",
            "dtypes: int64(1), object(6)\n",
            "memory usage: 661.2+ KB\n"
          ]
        }
      ]
    },
    {
      "cell_type": "markdown",
      "source": [
        "### Missing values\n",
        "`.info()` above shows that there are missing values in column `desc` and `price`"
      ],
      "metadata": {
        "id": "XTGqkqtm--ln"
      }
    },
    {
      "cell_type": "markdown",
      "source": [
        "#### `desc`"
      ],
      "metadata": {
        "id": "LnW3DuWh_ZFr"
      }
    },
    {
      "cell_type": "code",
      "source": [
        "products_df[\"desc\"].isna().sum()"
      ],
      "metadata": {
        "id": "1cS0Zz9kSNrr",
        "colab": {
          "base_uri": "https://localhost:8080/"
        },
        "outputId": "b0289cf3-9562-44c5-c308-cac482ea76cf"
      },
      "execution_count": 81,
      "outputs": [
        {
          "output_type": "execute_result",
          "data": {
            "text/plain": [
              "7"
            ]
          },
          "metadata": {},
          "execution_count": 81
        }
      ]
    },
    {
      "cell_type": "markdown",
      "source": [
        "7 is a very small number to have missing --> closer look below"
      ],
      "metadata": {
        "id": "tiRskHsWlrqC"
      }
    },
    {
      "cell_type": "code",
      "source": [
        "products_df.loc[products_df['desc'].isna(), :]"
      ],
      "metadata": {
        "id": "eK9_QN6H-klR",
        "colab": {
          "base_uri": "https://localhost:8080/",
          "height": 269
        },
        "outputId": "9cbb905f-7257-41e0-ee07-fe5e90763bf2"
      },
      "execution_count": 82,
      "outputs": [
        {
          "output_type": "execute_result",
          "data": {
            "text/plain": [
              "             sku  \\\n",
              "16126  WDT0211-A   \n",
              "16128  APP1622-A   \n",
              "17843    PAC2334   \n",
              "18152  KAN0034-A   \n",
              "18490    HTE0025   \n",
              "18612    OTT0200   \n",
              "18690  HOW0001-A   \n",
              "\n",
              "                                                                                name  \\\n",
              "16126                    Open - Purple 2TB WD 35 \"PC Security Mac hard drive and NAS   \n",
              "16128                      Open - Apple Smart Keyboard Pro Keyboard Folio iPad 9.7 \"   \n",
              "17843                                         Synology DS718 + NAS Server | 10GB RAM   \n",
              "18152                       Open - Kanex USB-C Gigabit Ethernet Adapter MacBook 12 \"   \n",
              "18490                    Hyper Pearl 1600mAh battery Mini USB Mirror and Comic Blond   \n",
              "18612                                OtterBox External Battery Power Pack 20000 mAHr   \n",
              "18690  Open - Honeywell thermostat Lyric zonificador T6 Intelligent Wireless (cable)   \n",
              "\n",
              "      desc      price promo_price  in_stock      type  \n",
              "16126  NaN        107     814.659         0      1298  \n",
              "16128  NaN  1.568.206   1.568.206         0      1298  \n",
              "17843  NaN     566.35   5.659.896         0  12175397  \n",
              "18152  NaN      29.99     237.925         0      1298  \n",
              "18490  NaN      24.99       22.99         1      1515  \n",
              "18612  NaN      79.99       56.99         1      1515  \n",
              "18690  NaN     199.99   1.441.174         0  11905404  "
            ],
            "text/html": [
              "\n",
              "  <div id=\"df-289964ab-b1d4-40a7-ba1f-a3bcac2c2f5a\" class=\"colab-df-container\">\n",
              "    <div>\n",
              "<style scoped>\n",
              "    .dataframe tbody tr th:only-of-type {\n",
              "        vertical-align: middle;\n",
              "    }\n",
              "\n",
              "    .dataframe tbody tr th {\n",
              "        vertical-align: top;\n",
              "    }\n",
              "\n",
              "    .dataframe thead th {\n",
              "        text-align: right;\n",
              "    }\n",
              "</style>\n",
              "<table border=\"1\" class=\"dataframe\">\n",
              "  <thead>\n",
              "    <tr style=\"text-align: right;\">\n",
              "      <th></th>\n",
              "      <th>sku</th>\n",
              "      <th>name</th>\n",
              "      <th>desc</th>\n",
              "      <th>price</th>\n",
              "      <th>promo_price</th>\n",
              "      <th>in_stock</th>\n",
              "      <th>type</th>\n",
              "    </tr>\n",
              "  </thead>\n",
              "  <tbody>\n",
              "    <tr>\n",
              "      <th>16126</th>\n",
              "      <td>WDT0211-A</td>\n",
              "      <td>Open - Purple 2TB WD 35 \"PC Security Mac hard drive and NAS</td>\n",
              "      <td>NaN</td>\n",
              "      <td>107</td>\n",
              "      <td>814.659</td>\n",
              "      <td>0</td>\n",
              "      <td>1298</td>\n",
              "    </tr>\n",
              "    <tr>\n",
              "      <th>16128</th>\n",
              "      <td>APP1622-A</td>\n",
              "      <td>Open - Apple Smart Keyboard Pro Keyboard Folio iPad 9.7 \"</td>\n",
              "      <td>NaN</td>\n",
              "      <td>1.568.206</td>\n",
              "      <td>1.568.206</td>\n",
              "      <td>0</td>\n",
              "      <td>1298</td>\n",
              "    </tr>\n",
              "    <tr>\n",
              "      <th>17843</th>\n",
              "      <td>PAC2334</td>\n",
              "      <td>Synology DS718 + NAS Server | 10GB RAM</td>\n",
              "      <td>NaN</td>\n",
              "      <td>566.35</td>\n",
              "      <td>5.659.896</td>\n",
              "      <td>0</td>\n",
              "      <td>12175397</td>\n",
              "    </tr>\n",
              "    <tr>\n",
              "      <th>18152</th>\n",
              "      <td>KAN0034-A</td>\n",
              "      <td>Open - Kanex USB-C Gigabit Ethernet Adapter MacBook 12 \"</td>\n",
              "      <td>NaN</td>\n",
              "      <td>29.99</td>\n",
              "      <td>237.925</td>\n",
              "      <td>0</td>\n",
              "      <td>1298</td>\n",
              "    </tr>\n",
              "    <tr>\n",
              "      <th>18490</th>\n",
              "      <td>HTE0025</td>\n",
              "      <td>Hyper Pearl 1600mAh battery Mini USB Mirror and Comic Blond</td>\n",
              "      <td>NaN</td>\n",
              "      <td>24.99</td>\n",
              "      <td>22.99</td>\n",
              "      <td>1</td>\n",
              "      <td>1515</td>\n",
              "    </tr>\n",
              "    <tr>\n",
              "      <th>18612</th>\n",
              "      <td>OTT0200</td>\n",
              "      <td>OtterBox External Battery Power Pack 20000 mAHr</td>\n",
              "      <td>NaN</td>\n",
              "      <td>79.99</td>\n",
              "      <td>56.99</td>\n",
              "      <td>1</td>\n",
              "      <td>1515</td>\n",
              "    </tr>\n",
              "    <tr>\n",
              "      <th>18690</th>\n",
              "      <td>HOW0001-A</td>\n",
              "      <td>Open - Honeywell thermostat Lyric zonificador T6 Intelligent Wireless (cable)</td>\n",
              "      <td>NaN</td>\n",
              "      <td>199.99</td>\n",
              "      <td>1.441.174</td>\n",
              "      <td>0</td>\n",
              "      <td>11905404</td>\n",
              "    </tr>\n",
              "  </tbody>\n",
              "</table>\n",
              "</div>\n",
              "    <div class=\"colab-df-buttons\">\n",
              "\n",
              "  <div class=\"colab-df-container\">\n",
              "    <button class=\"colab-df-convert\" onclick=\"convertToInteractive('df-289964ab-b1d4-40a7-ba1f-a3bcac2c2f5a')\"\n",
              "            title=\"Convert this dataframe to an interactive table.\"\n",
              "            style=\"display:none;\">\n",
              "\n",
              "  <svg xmlns=\"http://www.w3.org/2000/svg\" height=\"24px\" viewBox=\"0 -960 960 960\">\n",
              "    <path d=\"M120-120v-720h720v720H120Zm60-500h600v-160H180v160Zm220 220h160v-160H400v160Zm0 220h160v-160H400v160ZM180-400h160v-160H180v160Zm440 0h160v-160H620v160ZM180-180h160v-160H180v160Zm440 0h160v-160H620v160Z\"/>\n",
              "  </svg>\n",
              "    </button>\n",
              "\n",
              "  <style>\n",
              "    .colab-df-container {\n",
              "      display:flex;\n",
              "      gap: 12px;\n",
              "    }\n",
              "\n",
              "    .colab-df-convert {\n",
              "      background-color: #E8F0FE;\n",
              "      border: none;\n",
              "      border-radius: 50%;\n",
              "      cursor: pointer;\n",
              "      display: none;\n",
              "      fill: #1967D2;\n",
              "      height: 32px;\n",
              "      padding: 0 0 0 0;\n",
              "      width: 32px;\n",
              "    }\n",
              "\n",
              "    .colab-df-convert:hover {\n",
              "      background-color: #E2EBFA;\n",
              "      box-shadow: 0px 1px 2px rgba(60, 64, 67, 0.3), 0px 1px 3px 1px rgba(60, 64, 67, 0.15);\n",
              "      fill: #174EA6;\n",
              "    }\n",
              "\n",
              "    .colab-df-buttons div {\n",
              "      margin-bottom: 4px;\n",
              "    }\n",
              "\n",
              "    [theme=dark] .colab-df-convert {\n",
              "      background-color: #3B4455;\n",
              "      fill: #D2E3FC;\n",
              "    }\n",
              "\n",
              "    [theme=dark] .colab-df-convert:hover {\n",
              "      background-color: #434B5C;\n",
              "      box-shadow: 0px 1px 3px 1px rgba(0, 0, 0, 0.15);\n",
              "      filter: drop-shadow(0px 1px 2px rgba(0, 0, 0, 0.3));\n",
              "      fill: #FFFFFF;\n",
              "    }\n",
              "  </style>\n",
              "\n",
              "    <script>\n",
              "      const buttonEl =\n",
              "        document.querySelector('#df-289964ab-b1d4-40a7-ba1f-a3bcac2c2f5a button.colab-df-convert');\n",
              "      buttonEl.style.display =\n",
              "        google.colab.kernel.accessAllowed ? 'block' : 'none';\n",
              "\n",
              "      async function convertToInteractive(key) {\n",
              "        const element = document.querySelector('#df-289964ab-b1d4-40a7-ba1f-a3bcac2c2f5a');\n",
              "        const dataTable =\n",
              "          await google.colab.kernel.invokeFunction('convertToInteractive',\n",
              "                                                    [key], {});\n",
              "        if (!dataTable) return;\n",
              "\n",
              "        const docLinkHtml = 'Like what you see? Visit the ' +\n",
              "          '<a target=\"_blank\" href=https://colab.research.google.com/notebooks/data_table.ipynb>data table notebook</a>'\n",
              "          + ' to learn more about interactive tables.';\n",
              "        element.innerHTML = '';\n",
              "        dataTable['output_type'] = 'display_data';\n",
              "        await google.colab.output.renderOutput(dataTable, element);\n",
              "        const docLink = document.createElement('div');\n",
              "        docLink.innerHTML = docLinkHtml;\n",
              "        element.appendChild(docLink);\n",
              "      }\n",
              "    </script>\n",
              "  </div>\n",
              "\n",
              "\n",
              "<div id=\"df-fe8127ed-fca2-4f2d-bc3b-f20b47336ca1\">\n",
              "  <button class=\"colab-df-quickchart\" onclick=\"quickchart('df-fe8127ed-fca2-4f2d-bc3b-f20b47336ca1')\"\n",
              "            title=\"Suggest charts\"\n",
              "            style=\"display:none;\">\n",
              "\n",
              "<svg xmlns=\"http://www.w3.org/2000/svg\" height=\"24px\"viewBox=\"0 0 24 24\"\n",
              "     width=\"24px\">\n",
              "    <g>\n",
              "        <path d=\"M19 3H5c-1.1 0-2 .9-2 2v14c0 1.1.9 2 2 2h14c1.1 0 2-.9 2-2V5c0-1.1-.9-2-2-2zM9 17H7v-7h2v7zm4 0h-2V7h2v10zm4 0h-2v-4h2v4z\"/>\n",
              "    </g>\n",
              "</svg>\n",
              "  </button>\n",
              "\n",
              "<style>\n",
              "  .colab-df-quickchart {\n",
              "      --bg-color: #E8F0FE;\n",
              "      --fill-color: #1967D2;\n",
              "      --hover-bg-color: #E2EBFA;\n",
              "      --hover-fill-color: #174EA6;\n",
              "      --disabled-fill-color: #AAA;\n",
              "      --disabled-bg-color: #DDD;\n",
              "  }\n",
              "\n",
              "  [theme=dark] .colab-df-quickchart {\n",
              "      --bg-color: #3B4455;\n",
              "      --fill-color: #D2E3FC;\n",
              "      --hover-bg-color: #434B5C;\n",
              "      --hover-fill-color: #FFFFFF;\n",
              "      --disabled-bg-color: #3B4455;\n",
              "      --disabled-fill-color: #666;\n",
              "  }\n",
              "\n",
              "  .colab-df-quickchart {\n",
              "    background-color: var(--bg-color);\n",
              "    border: none;\n",
              "    border-radius: 50%;\n",
              "    cursor: pointer;\n",
              "    display: none;\n",
              "    fill: var(--fill-color);\n",
              "    height: 32px;\n",
              "    padding: 0;\n",
              "    width: 32px;\n",
              "  }\n",
              "\n",
              "  .colab-df-quickchart:hover {\n",
              "    background-color: var(--hover-bg-color);\n",
              "    box-shadow: 0 1px 2px rgba(60, 64, 67, 0.3), 0 1px 3px 1px rgba(60, 64, 67, 0.15);\n",
              "    fill: var(--button-hover-fill-color);\n",
              "  }\n",
              "\n",
              "  .colab-df-quickchart-complete:disabled,\n",
              "  .colab-df-quickchart-complete:disabled:hover {\n",
              "    background-color: var(--disabled-bg-color);\n",
              "    fill: var(--disabled-fill-color);\n",
              "    box-shadow: none;\n",
              "  }\n",
              "\n",
              "  .colab-df-spinner {\n",
              "    border: 2px solid var(--fill-color);\n",
              "    border-color: transparent;\n",
              "    border-bottom-color: var(--fill-color);\n",
              "    animation:\n",
              "      spin 1s steps(1) infinite;\n",
              "  }\n",
              "\n",
              "  @keyframes spin {\n",
              "    0% {\n",
              "      border-color: transparent;\n",
              "      border-bottom-color: var(--fill-color);\n",
              "      border-left-color: var(--fill-color);\n",
              "    }\n",
              "    20% {\n",
              "      border-color: transparent;\n",
              "      border-left-color: var(--fill-color);\n",
              "      border-top-color: var(--fill-color);\n",
              "    }\n",
              "    30% {\n",
              "      border-color: transparent;\n",
              "      border-left-color: var(--fill-color);\n",
              "      border-top-color: var(--fill-color);\n",
              "      border-right-color: var(--fill-color);\n",
              "    }\n",
              "    40% {\n",
              "      border-color: transparent;\n",
              "      border-right-color: var(--fill-color);\n",
              "      border-top-color: var(--fill-color);\n",
              "    }\n",
              "    60% {\n",
              "      border-color: transparent;\n",
              "      border-right-color: var(--fill-color);\n",
              "    }\n",
              "    80% {\n",
              "      border-color: transparent;\n",
              "      border-right-color: var(--fill-color);\n",
              "      border-bottom-color: var(--fill-color);\n",
              "    }\n",
              "    90% {\n",
              "      border-color: transparent;\n",
              "      border-bottom-color: var(--fill-color);\n",
              "    }\n",
              "  }\n",
              "</style>\n",
              "\n",
              "  <script>\n",
              "    async function quickchart(key) {\n",
              "      const quickchartButtonEl =\n",
              "        document.querySelector('#' + key + ' button');\n",
              "      quickchartButtonEl.disabled = true;  // To prevent multiple clicks.\n",
              "      quickchartButtonEl.classList.add('colab-df-spinner');\n",
              "      try {\n",
              "        const charts = await google.colab.kernel.invokeFunction(\n",
              "            'suggestCharts', [key], {});\n",
              "      } catch (error) {\n",
              "        console.error('Error during call to suggestCharts:', error);\n",
              "      }\n",
              "      quickchartButtonEl.classList.remove('colab-df-spinner');\n",
              "      quickchartButtonEl.classList.add('colab-df-quickchart-complete');\n",
              "    }\n",
              "    (() => {\n",
              "      let quickchartButtonEl =\n",
              "        document.querySelector('#df-fe8127ed-fca2-4f2d-bc3b-f20b47336ca1 button');\n",
              "      quickchartButtonEl.style.display =\n",
              "        google.colab.kernel.accessAllowed ? 'block' : 'none';\n",
              "    })();\n",
              "  </script>\n",
              "</div>\n",
              "\n",
              "    </div>\n",
              "  </div>\n"
            ],
            "application/vnd.google.colaboratory.intrinsic+json": {
              "type": "dataframe",
              "repr_error": "0"
            }
          },
          "metadata": {},
          "execution_count": 82
        }
      ]
    },
    {
      "cell_type": "markdown",
      "source": [
        "There are two options:\n",
        "* quickly and easily remove these rows.\n",
        "* Or, alternatively, the products names here are quite descriptive, so I'm tempted to just copy them to the description column, so that there is a description if its needed later. --> this will be the way forward"
      ],
      "metadata": {
        "id": "PlFfSOI5_zTB"
      }
    },
    {
      "cell_type": "code",
      "source": [
        "products_df.loc[products_df['desc'].isna(), 'desc'] = products_df.loc[products_df['desc'].isna(), 'name']"
      ],
      "metadata": {
        "id": "Tu_ZH5e0PZ4W"
      },
      "execution_count": 83,
      "outputs": []
    },
    {
      "cell_type": "code",
      "source": [
        "products_df.loc[products_df['desc'].isna(), :]"
      ],
      "metadata": {
        "colab": {
          "base_uri": "https://localhost:8080/",
          "height": 53
        },
        "id": "sGYPGy8xzW0v",
        "outputId": "0a57ec29-fbb7-4cf0-a45b-cc0171bf2c90"
      },
      "execution_count": 84,
      "outputs": [
        {
          "output_type": "execute_result",
          "data": {
            "text/plain": [
              "Empty DataFrame\n",
              "Columns: [sku, name, desc, price, promo_price, in_stock, type]\n",
              "Index: []"
            ],
            "text/html": [
              "\n",
              "  <div id=\"df-808c4c18-749a-401b-84d0-70c554cb254b\" class=\"colab-df-container\">\n",
              "    <div>\n",
              "<style scoped>\n",
              "    .dataframe tbody tr th:only-of-type {\n",
              "        vertical-align: middle;\n",
              "    }\n",
              "\n",
              "    .dataframe tbody tr th {\n",
              "        vertical-align: top;\n",
              "    }\n",
              "\n",
              "    .dataframe thead th {\n",
              "        text-align: right;\n",
              "    }\n",
              "</style>\n",
              "<table border=\"1\" class=\"dataframe\">\n",
              "  <thead>\n",
              "    <tr style=\"text-align: right;\">\n",
              "      <th></th>\n",
              "      <th>sku</th>\n",
              "      <th>name</th>\n",
              "      <th>desc</th>\n",
              "      <th>price</th>\n",
              "      <th>promo_price</th>\n",
              "      <th>in_stock</th>\n",
              "      <th>type</th>\n",
              "    </tr>\n",
              "  </thead>\n",
              "  <tbody>\n",
              "  </tbody>\n",
              "</table>\n",
              "</div>\n",
              "    <div class=\"colab-df-buttons\">\n",
              "\n",
              "  <div class=\"colab-df-container\">\n",
              "    <button class=\"colab-df-convert\" onclick=\"convertToInteractive('df-808c4c18-749a-401b-84d0-70c554cb254b')\"\n",
              "            title=\"Convert this dataframe to an interactive table.\"\n",
              "            style=\"display:none;\">\n",
              "\n",
              "  <svg xmlns=\"http://www.w3.org/2000/svg\" height=\"24px\" viewBox=\"0 -960 960 960\">\n",
              "    <path d=\"M120-120v-720h720v720H120Zm60-500h600v-160H180v160Zm220 220h160v-160H400v160Zm0 220h160v-160H400v160ZM180-400h160v-160H180v160Zm440 0h160v-160H620v160ZM180-180h160v-160H180v160Zm440 0h160v-160H620v160Z\"/>\n",
              "  </svg>\n",
              "    </button>\n",
              "\n",
              "  <style>\n",
              "    .colab-df-container {\n",
              "      display:flex;\n",
              "      gap: 12px;\n",
              "    }\n",
              "\n",
              "    .colab-df-convert {\n",
              "      background-color: #E8F0FE;\n",
              "      border: none;\n",
              "      border-radius: 50%;\n",
              "      cursor: pointer;\n",
              "      display: none;\n",
              "      fill: #1967D2;\n",
              "      height: 32px;\n",
              "      padding: 0 0 0 0;\n",
              "      width: 32px;\n",
              "    }\n",
              "\n",
              "    .colab-df-convert:hover {\n",
              "      background-color: #E2EBFA;\n",
              "      box-shadow: 0px 1px 2px rgba(60, 64, 67, 0.3), 0px 1px 3px 1px rgba(60, 64, 67, 0.15);\n",
              "      fill: #174EA6;\n",
              "    }\n",
              "\n",
              "    .colab-df-buttons div {\n",
              "      margin-bottom: 4px;\n",
              "    }\n",
              "\n",
              "    [theme=dark] .colab-df-convert {\n",
              "      background-color: #3B4455;\n",
              "      fill: #D2E3FC;\n",
              "    }\n",
              "\n",
              "    [theme=dark] .colab-df-convert:hover {\n",
              "      background-color: #434B5C;\n",
              "      box-shadow: 0px 1px 3px 1px rgba(0, 0, 0, 0.15);\n",
              "      filter: drop-shadow(0px 1px 2px rgba(0, 0, 0, 0.3));\n",
              "      fill: #FFFFFF;\n",
              "    }\n",
              "  </style>\n",
              "\n",
              "    <script>\n",
              "      const buttonEl =\n",
              "        document.querySelector('#df-808c4c18-749a-401b-84d0-70c554cb254b button.colab-df-convert');\n",
              "      buttonEl.style.display =\n",
              "        google.colab.kernel.accessAllowed ? 'block' : 'none';\n",
              "\n",
              "      async function convertToInteractive(key) {\n",
              "        const element = document.querySelector('#df-808c4c18-749a-401b-84d0-70c554cb254b');\n",
              "        const dataTable =\n",
              "          await google.colab.kernel.invokeFunction('convertToInteractive',\n",
              "                                                    [key], {});\n",
              "        if (!dataTable) return;\n",
              "\n",
              "        const docLinkHtml = 'Like what you see? Visit the ' +\n",
              "          '<a target=\"_blank\" href=https://colab.research.google.com/notebooks/data_table.ipynb>data table notebook</a>'\n",
              "          + ' to learn more about interactive tables.';\n",
              "        element.innerHTML = '';\n",
              "        dataTable['output_type'] = 'display_data';\n",
              "        await google.colab.output.renderOutput(dataTable, element);\n",
              "        const docLink = document.createElement('div');\n",
              "        docLink.innerHTML = docLinkHtml;\n",
              "        element.appendChild(docLink);\n",
              "      }\n",
              "    </script>\n",
              "  </div>\n",
              "\n",
              "\n",
              "    </div>\n",
              "  </div>\n"
            ],
            "application/vnd.google.colaboratory.intrinsic+json": {
              "type": "dataframe",
              "repr_error": "Out of range float values are not JSON compliant: nan"
            }
          },
          "metadata": {},
          "execution_count": 84
        }
      ]
    },
    {
      "cell_type": "markdown",
      "source": [
        "#### `price`"
      ],
      "metadata": {
        "id": "DX9u7jeE_c95"
      }
    },
    {
      "cell_type": "code",
      "source": [
        "products_df.price.isna().sum()"
      ],
      "metadata": {
        "id": "AzID-a2TS6y_",
        "colab": {
          "base_uri": "https://localhost:8080/"
        },
        "outputId": "35535f83-02e5-43ad-fe8a-f1c60334850c"
      },
      "execution_count": 85,
      "outputs": [
        {
          "output_type": "execute_result",
          "data": {
            "text/plain": [
              "46"
            ]
          },
          "metadata": {},
          "execution_count": 85
        }
      ]
    },
    {
      "cell_type": "code",
      "source": [
        "print(f\"The missing values in price are {(products_df.price.isna().value_counts(normalize=True)[1] * 100).round(2)}% of all rows in the DataFrame\")"
      ],
      "metadata": {
        "id": "LRknumaMk9gn",
        "colab": {
          "base_uri": "https://localhost:8080/"
        },
        "outputId": "07216dfa-343d-4025-9555-2986a3fe6efe"
      },
      "execution_count": 86,
      "outputs": [
        {
          "output_type": "stream",
          "name": "stdout",
          "text": [
            "The missing values in price are 0.43% of all rows in the DataFrame\n"
          ]
        },
        {
          "output_type": "stream",
          "name": "stderr",
          "text": [
            "<ipython-input-86-149a8976a30c>:1: FutureWarning: Series.__getitem__ treating keys as positions is deprecated. In a future version, integer keys will always be treated as labels (consistent with DataFrame behavior). To access a value by position, use `ser.iloc[pos]`\n",
            "  print(f\"The missing values in price are {(products_df.price.isna().value_counts(normalize=True)[1] * 100).round(2)}% of all rows in the DataFrame\")\n"
          ]
        }
      ]
    },
    {
      "cell_type": "markdown",
      "source": [
        "Way forward:\n",
        "+ simply delete these rows to ensure that the numbers are trustworthy in the final DataFrame because\n",
        "\n",
        "*Afterall, the price is very important when investigating discounts*"
      ],
      "metadata": {
        "id": "WVAC9q6Zldyu"
      }
    },
    {
      "cell_type": "markdown",
      "source": [
        "Option 1: `.loc`"
      ],
      "metadata": {
        "id": "W7Bv1QXrTVbR"
      }
    },
    {
      "cell_type": "code",
      "source": [
        "products_df = products_df.loc[~products['price'].isna()]"
      ],
      "metadata": {
        "id": "aJIuqC1LQL8u"
      },
      "execution_count": 87,
      "outputs": []
    },
    {
      "cell_type": "markdown",
      "source": [
        "Option 2: `.dropna()`"
      ],
      "metadata": {
        "id": "5iShhiyRTcCz"
      }
    },
    {
      "cell_type": "code",
      "source": [
        "# products_df = products_df.dropna(subset=['price'])"
      ],
      "metadata": {
        "id": "2_S5lPV3QcnR"
      },
      "execution_count": null,
      "outputs": []
    },
    {
      "cell_type": "markdown",
      "source": [
        "### Data types\n",
        "\n",
        "Output of `.info()` shows that both `price` and `promo_price` have been stored as objects and not as a numerical datatypes.\n",
        "\n",
        "Other problems: both columns have some prices with 3 decimal places and others with 2 decimal points - the latter will prevent me from converting the datatype to numerical, so first I have to investigate and solve these problems."
      ],
      "metadata": {
        "id": "4x6xeGDu_B0N"
      }
    },
    {
      "cell_type": "markdown",
      "source": [
        "#### `price`"
      ],
      "metadata": {
        "id": "u0CsTv1WnMie"
      }
    },
    {
      "cell_type": "markdown",
      "source": [
        "First, let's see how many values are affected by the 2-decimal-dot problems or 3 decimal places."
      ],
      "metadata": {
        "id": "2mIc7YWdva5I"
      }
    },
    {
      "cell_type": "code",
      "source": [
        "price_problems_number = products_df.loc[(products_df.price.astype(str).str.contains(\"\\d+\\.\\d+\\.\\d+\"))|(products_df.price.astype(str).str.contains(\"\\d+\\.\\d{3,}\")), :].shape[0]\n",
        "price_problems_number"
      ],
      "metadata": {
        "id": "bShFL27Nq3Da",
        "colab": {
          "base_uri": "https://localhost:8080/"
        },
        "outputId": "74204c65-39d2-4ef2-fca4-a61eda5b8cc5"
      },
      "execution_count": 88,
      "outputs": [
        {
          "output_type": "execute_result",
          "data": {
            "text/plain": [
              "542"
            ]
          },
          "metadata": {},
          "execution_count": 88
        }
      ]
    },
    {
      "cell_type": "code",
      "source": [
        "print(f\"The column price has in total {price_problems_number} wrong values. This is {round(((price_problems_number / products_df.shape[0]) * 100), 2)}% of the rows of the DataFrame\")"
      ],
      "metadata": {
        "id": "R-HG2ur6eOiP",
        "colab": {
          "base_uri": "https://localhost:8080/"
        },
        "outputId": "dc9e993a-112a-4f20-d5f0-dbd6665265d8"
      },
      "execution_count": 89,
      "outputs": [
        {
          "output_type": "stream",
          "name": "stdout",
          "text": [
            "The column price has in total 542 wrong values. This is 5.15% of the rows of the DataFrame\n"
          ]
        }
      ]
    },
    {
      "cell_type": "markdown",
      "source": [
        "5.15% is a reasonable amount of our data. However, the price column will be important to understanding discounts, so I'd like it to be very trustworthy as I am basing business decisions on it. Therefore, I'll delete these rows"
      ],
      "metadata": {
        "id": "p9QV50j3orpP"
      }
    },
    {
      "cell_type": "code",
      "source": [
        "products_df = products_df.loc[(~products_df.price.astype(str).str.contains(\"\\d+\\.\\d+\\.\\d+\"))&(~products_df.price.astype(str).str.contains(\"\\d+\\.\\d{3,}\")), :]"
      ],
      "metadata": {
        "id": "3xkK12Mspand"
      },
      "execution_count": 90,
      "outputs": []
    },
    {
      "cell_type": "code",
      "source": [
        "products_df"
      ],
      "metadata": {
        "id": "h8R_vq6-VZ1X",
        "colab": {
          "base_uri": "https://localhost:8080/",
          "height": 545
        },
        "outputId": "5dd9fa3d-f9e6-45a0-e22b-7e5594e65ff1"
      },
      "execution_count": 91,
      "outputs": [
        {
          "output_type": "execute_result",
          "data": {
            "text/plain": [
              "           sku                                           name  \\\n",
              "0      RAI0007              Silver Rain Design mStand Support   \n",
              "1      APP0023              Apple Mac Keyboard Keypad Spanish   \n",
              "2      APP0025               Mighty Mouse Apple Mouse for Mac   \n",
              "3      APP0072  Apple Dock to USB Cable iPhone and iPod white   \n",
              "4      KIN0007    Mac Memory Kingston 2GB 667MHz DDR2 SO-DIMM   \n",
              "...        ...                                            ...   \n",
              "19321  BEL0376        Belkin Travel Support Apple Watch Black   \n",
              "19322  THU0060   Enroute Thule 14L Backpack MacBook 13 \"Black   \n",
              "19323  THU0061    Enroute Thule 14L Backpack MacBook 13 \"Blue   \n",
              "19324  THU0062     Enroute Thule 14L Backpack MacBook 13 \"Red   \n",
              "19325  THU0063   Enroute Thule 14L Backpack MacBook 13 \"Green   \n",
              "\n",
              "                                                                                                desc  \\\n",
              "0                                                       Aluminum support compatible with all MacBook   \n",
              "1                                                          USB ultrathin keyboard Apple Mac Spanish.   \n",
              "2                                                                             mouse Apple USB cable.   \n",
              "3                                                              IPhone dock and USB Cable Apple iPod.   \n",
              "4                                      2GB RAM Mac mini and iMac (2006/07) MacBook Pro (2006/07/08).   \n",
              "...                                                                                              ...   \n",
              "19321                          compact and portable stand vertically or horizontally for Apple Watch   \n",
              "19322  Backpack with capacity of 14 liter compartments MacBook up to 13 inches up to 10 inches Cases   \n",
              "19323  Backpack with capacity of 14 liter compartments MacBook up to 13 inches up to 10 inches Cases   \n",
              "19324  Backpack with capacity of 14 liter compartments MacBook up to 13 inches up to 10 inches Cases   \n",
              "19325  Backpack with capacity of 14 liter compartments MacBook up to 13 inches up to 10 inches Cases   \n",
              "\n",
              "       price promo_price  in_stock      type  \n",
              "0      59.99     499.899         1      8696  \n",
              "1         59     589.996         0  13855401  \n",
              "2         59     569.898         0      1387  \n",
              "3         25     229.997         0      1230  \n",
              "4      34.99       31.99         1      1364  \n",
              "...      ...         ...       ...       ...  \n",
              "19321  29.99     269.903         1     12282  \n",
              "19322  69.95     649.903         1      1392  \n",
              "19323  69.95     649.903         1      1392  \n",
              "19324  69.95     649.903         0      1392  \n",
              "19325  69.95     649.903         1      1392  \n",
              "\n",
              "[9992 rows x 7 columns]"
            ],
            "text/html": [
              "\n",
              "  <div id=\"df-788f468b-0993-43e7-bce1-f991c6a3b529\" class=\"colab-df-container\">\n",
              "    <div>\n",
              "<style scoped>\n",
              "    .dataframe tbody tr th:only-of-type {\n",
              "        vertical-align: middle;\n",
              "    }\n",
              "\n",
              "    .dataframe tbody tr th {\n",
              "        vertical-align: top;\n",
              "    }\n",
              "\n",
              "    .dataframe thead th {\n",
              "        text-align: right;\n",
              "    }\n",
              "</style>\n",
              "<table border=\"1\" class=\"dataframe\">\n",
              "  <thead>\n",
              "    <tr style=\"text-align: right;\">\n",
              "      <th></th>\n",
              "      <th>sku</th>\n",
              "      <th>name</th>\n",
              "      <th>desc</th>\n",
              "      <th>price</th>\n",
              "      <th>promo_price</th>\n",
              "      <th>in_stock</th>\n",
              "      <th>type</th>\n",
              "    </tr>\n",
              "  </thead>\n",
              "  <tbody>\n",
              "    <tr>\n",
              "      <th>0</th>\n",
              "      <td>RAI0007</td>\n",
              "      <td>Silver Rain Design mStand Support</td>\n",
              "      <td>Aluminum support compatible with all MacBook</td>\n",
              "      <td>59.99</td>\n",
              "      <td>499.899</td>\n",
              "      <td>1</td>\n",
              "      <td>8696</td>\n",
              "    </tr>\n",
              "    <tr>\n",
              "      <th>1</th>\n",
              "      <td>APP0023</td>\n",
              "      <td>Apple Mac Keyboard Keypad Spanish</td>\n",
              "      <td>USB ultrathin keyboard Apple Mac Spanish.</td>\n",
              "      <td>59</td>\n",
              "      <td>589.996</td>\n",
              "      <td>0</td>\n",
              "      <td>13855401</td>\n",
              "    </tr>\n",
              "    <tr>\n",
              "      <th>2</th>\n",
              "      <td>APP0025</td>\n",
              "      <td>Mighty Mouse Apple Mouse for Mac</td>\n",
              "      <td>mouse Apple USB cable.</td>\n",
              "      <td>59</td>\n",
              "      <td>569.898</td>\n",
              "      <td>0</td>\n",
              "      <td>1387</td>\n",
              "    </tr>\n",
              "    <tr>\n",
              "      <th>3</th>\n",
              "      <td>APP0072</td>\n",
              "      <td>Apple Dock to USB Cable iPhone and iPod white</td>\n",
              "      <td>IPhone dock and USB Cable Apple iPod.</td>\n",
              "      <td>25</td>\n",
              "      <td>229.997</td>\n",
              "      <td>0</td>\n",
              "      <td>1230</td>\n",
              "    </tr>\n",
              "    <tr>\n",
              "      <th>4</th>\n",
              "      <td>KIN0007</td>\n",
              "      <td>Mac Memory Kingston 2GB 667MHz DDR2 SO-DIMM</td>\n",
              "      <td>2GB RAM Mac mini and iMac (2006/07) MacBook Pro (2006/07/08).</td>\n",
              "      <td>34.99</td>\n",
              "      <td>31.99</td>\n",
              "      <td>1</td>\n",
              "      <td>1364</td>\n",
              "    </tr>\n",
              "    <tr>\n",
              "      <th>...</th>\n",
              "      <td>...</td>\n",
              "      <td>...</td>\n",
              "      <td>...</td>\n",
              "      <td>...</td>\n",
              "      <td>...</td>\n",
              "      <td>...</td>\n",
              "      <td>...</td>\n",
              "    </tr>\n",
              "    <tr>\n",
              "      <th>19321</th>\n",
              "      <td>BEL0376</td>\n",
              "      <td>Belkin Travel Support Apple Watch Black</td>\n",
              "      <td>compact and portable stand vertically or horizontally for Apple Watch</td>\n",
              "      <td>29.99</td>\n",
              "      <td>269.903</td>\n",
              "      <td>1</td>\n",
              "      <td>12282</td>\n",
              "    </tr>\n",
              "    <tr>\n",
              "      <th>19322</th>\n",
              "      <td>THU0060</td>\n",
              "      <td>Enroute Thule 14L Backpack MacBook 13 \"Black</td>\n",
              "      <td>Backpack with capacity of 14 liter compartments MacBook up to 13 inches up to 10 inches Cases</td>\n",
              "      <td>69.95</td>\n",
              "      <td>649.903</td>\n",
              "      <td>1</td>\n",
              "      <td>1392</td>\n",
              "    </tr>\n",
              "    <tr>\n",
              "      <th>19323</th>\n",
              "      <td>THU0061</td>\n",
              "      <td>Enroute Thule 14L Backpack MacBook 13 \"Blue</td>\n",
              "      <td>Backpack with capacity of 14 liter compartments MacBook up to 13 inches up to 10 inches Cases</td>\n",
              "      <td>69.95</td>\n",
              "      <td>649.903</td>\n",
              "      <td>1</td>\n",
              "      <td>1392</td>\n",
              "    </tr>\n",
              "    <tr>\n",
              "      <th>19324</th>\n",
              "      <td>THU0062</td>\n",
              "      <td>Enroute Thule 14L Backpack MacBook 13 \"Red</td>\n",
              "      <td>Backpack with capacity of 14 liter compartments MacBook up to 13 inches up to 10 inches Cases</td>\n",
              "      <td>69.95</td>\n",
              "      <td>649.903</td>\n",
              "      <td>0</td>\n",
              "      <td>1392</td>\n",
              "    </tr>\n",
              "    <tr>\n",
              "      <th>19325</th>\n",
              "      <td>THU0063</td>\n",
              "      <td>Enroute Thule 14L Backpack MacBook 13 \"Green</td>\n",
              "      <td>Backpack with capacity of 14 liter compartments MacBook up to 13 inches up to 10 inches Cases</td>\n",
              "      <td>69.95</td>\n",
              "      <td>649.903</td>\n",
              "      <td>1</td>\n",
              "      <td>1392</td>\n",
              "    </tr>\n",
              "  </tbody>\n",
              "</table>\n",
              "<p>9992 rows × 7 columns</p>\n",
              "</div>\n",
              "    <div class=\"colab-df-buttons\">\n",
              "\n",
              "  <div class=\"colab-df-container\">\n",
              "    <button class=\"colab-df-convert\" onclick=\"convertToInteractive('df-788f468b-0993-43e7-bce1-f991c6a3b529')\"\n",
              "            title=\"Convert this dataframe to an interactive table.\"\n",
              "            style=\"display:none;\">\n",
              "\n",
              "  <svg xmlns=\"http://www.w3.org/2000/svg\" height=\"24px\" viewBox=\"0 -960 960 960\">\n",
              "    <path d=\"M120-120v-720h720v720H120Zm60-500h600v-160H180v160Zm220 220h160v-160H400v160Zm0 220h160v-160H400v160ZM180-400h160v-160H180v160Zm440 0h160v-160H620v160ZM180-180h160v-160H180v160Zm440 0h160v-160H620v160Z\"/>\n",
              "  </svg>\n",
              "    </button>\n",
              "\n",
              "  <style>\n",
              "    .colab-df-container {\n",
              "      display:flex;\n",
              "      gap: 12px;\n",
              "    }\n",
              "\n",
              "    .colab-df-convert {\n",
              "      background-color: #E8F0FE;\n",
              "      border: none;\n",
              "      border-radius: 50%;\n",
              "      cursor: pointer;\n",
              "      display: none;\n",
              "      fill: #1967D2;\n",
              "      height: 32px;\n",
              "      padding: 0 0 0 0;\n",
              "      width: 32px;\n",
              "    }\n",
              "\n",
              "    .colab-df-convert:hover {\n",
              "      background-color: #E2EBFA;\n",
              "      box-shadow: 0px 1px 2px rgba(60, 64, 67, 0.3), 0px 1px 3px 1px rgba(60, 64, 67, 0.15);\n",
              "      fill: #174EA6;\n",
              "    }\n",
              "\n",
              "    .colab-df-buttons div {\n",
              "      margin-bottom: 4px;\n",
              "    }\n",
              "\n",
              "    [theme=dark] .colab-df-convert {\n",
              "      background-color: #3B4455;\n",
              "      fill: #D2E3FC;\n",
              "    }\n",
              "\n",
              "    [theme=dark] .colab-df-convert:hover {\n",
              "      background-color: #434B5C;\n",
              "      box-shadow: 0px 1px 3px 1px rgba(0, 0, 0, 0.15);\n",
              "      filter: drop-shadow(0px 1px 2px rgba(0, 0, 0, 0.3));\n",
              "      fill: #FFFFFF;\n",
              "    }\n",
              "  </style>\n",
              "\n",
              "    <script>\n",
              "      const buttonEl =\n",
              "        document.querySelector('#df-788f468b-0993-43e7-bce1-f991c6a3b529 button.colab-df-convert');\n",
              "      buttonEl.style.display =\n",
              "        google.colab.kernel.accessAllowed ? 'block' : 'none';\n",
              "\n",
              "      async function convertToInteractive(key) {\n",
              "        const element = document.querySelector('#df-788f468b-0993-43e7-bce1-f991c6a3b529');\n",
              "        const dataTable =\n",
              "          await google.colab.kernel.invokeFunction('convertToInteractive',\n",
              "                                                    [key], {});\n",
              "        if (!dataTable) return;\n",
              "\n",
              "        const docLinkHtml = 'Like what you see? Visit the ' +\n",
              "          '<a target=\"_blank\" href=https://colab.research.google.com/notebooks/data_table.ipynb>data table notebook</a>'\n",
              "          + ' to learn more about interactive tables.';\n",
              "        element.innerHTML = '';\n",
              "        dataTable['output_type'] = 'display_data';\n",
              "        await google.colab.output.renderOutput(dataTable, element);\n",
              "        const docLink = document.createElement('div');\n",
              "        docLink.innerHTML = docLinkHtml;\n",
              "        element.appendChild(docLink);\n",
              "      }\n",
              "    </script>\n",
              "  </div>\n",
              "\n",
              "\n",
              "<div id=\"df-a96539e2-1897-4687-95af-dd57ec308f31\">\n",
              "  <button class=\"colab-df-quickchart\" onclick=\"quickchart('df-a96539e2-1897-4687-95af-dd57ec308f31')\"\n",
              "            title=\"Suggest charts\"\n",
              "            style=\"display:none;\">\n",
              "\n",
              "<svg xmlns=\"http://www.w3.org/2000/svg\" height=\"24px\"viewBox=\"0 0 24 24\"\n",
              "     width=\"24px\">\n",
              "    <g>\n",
              "        <path d=\"M19 3H5c-1.1 0-2 .9-2 2v14c0 1.1.9 2 2 2h14c1.1 0 2-.9 2-2V5c0-1.1-.9-2-2-2zM9 17H7v-7h2v7zm4 0h-2V7h2v10zm4 0h-2v-4h2v4z\"/>\n",
              "    </g>\n",
              "</svg>\n",
              "  </button>\n",
              "\n",
              "<style>\n",
              "  .colab-df-quickchart {\n",
              "      --bg-color: #E8F0FE;\n",
              "      --fill-color: #1967D2;\n",
              "      --hover-bg-color: #E2EBFA;\n",
              "      --hover-fill-color: #174EA6;\n",
              "      --disabled-fill-color: #AAA;\n",
              "      --disabled-bg-color: #DDD;\n",
              "  }\n",
              "\n",
              "  [theme=dark] .colab-df-quickchart {\n",
              "      --bg-color: #3B4455;\n",
              "      --fill-color: #D2E3FC;\n",
              "      --hover-bg-color: #434B5C;\n",
              "      --hover-fill-color: #FFFFFF;\n",
              "      --disabled-bg-color: #3B4455;\n",
              "      --disabled-fill-color: #666;\n",
              "  }\n",
              "\n",
              "  .colab-df-quickchart {\n",
              "    background-color: var(--bg-color);\n",
              "    border: none;\n",
              "    border-radius: 50%;\n",
              "    cursor: pointer;\n",
              "    display: none;\n",
              "    fill: var(--fill-color);\n",
              "    height: 32px;\n",
              "    padding: 0;\n",
              "    width: 32px;\n",
              "  }\n",
              "\n",
              "  .colab-df-quickchart:hover {\n",
              "    background-color: var(--hover-bg-color);\n",
              "    box-shadow: 0 1px 2px rgba(60, 64, 67, 0.3), 0 1px 3px 1px rgba(60, 64, 67, 0.15);\n",
              "    fill: var(--button-hover-fill-color);\n",
              "  }\n",
              "\n",
              "  .colab-df-quickchart-complete:disabled,\n",
              "  .colab-df-quickchart-complete:disabled:hover {\n",
              "    background-color: var(--disabled-bg-color);\n",
              "    fill: var(--disabled-fill-color);\n",
              "    box-shadow: none;\n",
              "  }\n",
              "\n",
              "  .colab-df-spinner {\n",
              "    border: 2px solid var(--fill-color);\n",
              "    border-color: transparent;\n",
              "    border-bottom-color: var(--fill-color);\n",
              "    animation:\n",
              "      spin 1s steps(1) infinite;\n",
              "  }\n",
              "\n",
              "  @keyframes spin {\n",
              "    0% {\n",
              "      border-color: transparent;\n",
              "      border-bottom-color: var(--fill-color);\n",
              "      border-left-color: var(--fill-color);\n",
              "    }\n",
              "    20% {\n",
              "      border-color: transparent;\n",
              "      border-left-color: var(--fill-color);\n",
              "      border-top-color: var(--fill-color);\n",
              "    }\n",
              "    30% {\n",
              "      border-color: transparent;\n",
              "      border-left-color: var(--fill-color);\n",
              "      border-top-color: var(--fill-color);\n",
              "      border-right-color: var(--fill-color);\n",
              "    }\n",
              "    40% {\n",
              "      border-color: transparent;\n",
              "      border-right-color: var(--fill-color);\n",
              "      border-top-color: var(--fill-color);\n",
              "    }\n",
              "    60% {\n",
              "      border-color: transparent;\n",
              "      border-right-color: var(--fill-color);\n",
              "    }\n",
              "    80% {\n",
              "      border-color: transparent;\n",
              "      border-right-color: var(--fill-color);\n",
              "      border-bottom-color: var(--fill-color);\n",
              "    }\n",
              "    90% {\n",
              "      border-color: transparent;\n",
              "      border-bottom-color: var(--fill-color);\n",
              "    }\n",
              "  }\n",
              "</style>\n",
              "\n",
              "  <script>\n",
              "    async function quickchart(key) {\n",
              "      const quickchartButtonEl =\n",
              "        document.querySelector('#' + key + ' button');\n",
              "      quickchartButtonEl.disabled = true;  // To prevent multiple clicks.\n",
              "      quickchartButtonEl.classList.add('colab-df-spinner');\n",
              "      try {\n",
              "        const charts = await google.colab.kernel.invokeFunction(\n",
              "            'suggestCharts', [key], {});\n",
              "      } catch (error) {\n",
              "        console.error('Error during call to suggestCharts:', error);\n",
              "      }\n",
              "      quickchartButtonEl.classList.remove('colab-df-spinner');\n",
              "      quickchartButtonEl.classList.add('colab-df-quickchart-complete');\n",
              "    }\n",
              "    (() => {\n",
              "      let quickchartButtonEl =\n",
              "        document.querySelector('#df-a96539e2-1897-4687-95af-dd57ec308f31 button');\n",
              "      quickchartButtonEl.style.display =\n",
              "        google.colab.kernel.accessAllowed ? 'block' : 'none';\n",
              "    })();\n",
              "  </script>\n",
              "</div>\n",
              "\n",
              "  <div id=\"id_f00b82e0-dc9d-456e-aea3-46c069d09237\">\n",
              "    <style>\n",
              "      .colab-df-generate {\n",
              "        background-color: #E8F0FE;\n",
              "        border: none;\n",
              "        border-radius: 50%;\n",
              "        cursor: pointer;\n",
              "        display: none;\n",
              "        fill: #1967D2;\n",
              "        height: 32px;\n",
              "        padding: 0 0 0 0;\n",
              "        width: 32px;\n",
              "      }\n",
              "\n",
              "      .colab-df-generate:hover {\n",
              "        background-color: #E2EBFA;\n",
              "        box-shadow: 0px 1px 2px rgba(60, 64, 67, 0.3), 0px 1px 3px 1px rgba(60, 64, 67, 0.15);\n",
              "        fill: #174EA6;\n",
              "      }\n",
              "\n",
              "      [theme=dark] .colab-df-generate {\n",
              "        background-color: #3B4455;\n",
              "        fill: #D2E3FC;\n",
              "      }\n",
              "\n",
              "      [theme=dark] .colab-df-generate:hover {\n",
              "        background-color: #434B5C;\n",
              "        box-shadow: 0px 1px 3px 1px rgba(0, 0, 0, 0.15);\n",
              "        filter: drop-shadow(0px 1px 2px rgba(0, 0, 0, 0.3));\n",
              "        fill: #FFFFFF;\n",
              "      }\n",
              "    </style>\n",
              "    <button class=\"colab-df-generate\" onclick=\"generateWithVariable('products_df')\"\n",
              "            title=\"Generate code using this dataframe.\"\n",
              "            style=\"display:none;\">\n",
              "\n",
              "  <svg xmlns=\"http://www.w3.org/2000/svg\" height=\"24px\"viewBox=\"0 0 24 24\"\n",
              "       width=\"24px\">\n",
              "    <path d=\"M7,19H8.4L18.45,9,17,7.55,7,17.6ZM5,21V16.75L18.45,3.32a2,2,0,0,1,2.83,0l1.4,1.43a1.91,1.91,0,0,1,.58,1.4,1.91,1.91,0,0,1-.58,1.4L9.25,21ZM18.45,9,17,7.55Zm-12,3A5.31,5.31,0,0,0,4.9,8.1,5.31,5.31,0,0,0,1,6.5,5.31,5.31,0,0,0,4.9,4.9,5.31,5.31,0,0,0,6.5,1,5.31,5.31,0,0,0,8.1,4.9,5.31,5.31,0,0,0,12,6.5,5.46,5.46,0,0,0,6.5,12Z\"/>\n",
              "  </svg>\n",
              "    </button>\n",
              "    <script>\n",
              "      (() => {\n",
              "      const buttonEl =\n",
              "        document.querySelector('#id_f00b82e0-dc9d-456e-aea3-46c069d09237 button.colab-df-generate');\n",
              "      buttonEl.style.display =\n",
              "        google.colab.kernel.accessAllowed ? 'block' : 'none';\n",
              "\n",
              "      buttonEl.onclick = () => {\n",
              "        google.colab.notebook.generateWithVariable('products_df');\n",
              "      }\n",
              "      })();\n",
              "    </script>\n",
              "  </div>\n",
              "\n",
              "    </div>\n",
              "  </div>\n"
            ],
            "application/vnd.google.colaboratory.intrinsic+json": {
              "type": "dataframe",
              "variable_name": "products_df",
              "summary": "{\n  \"name\": \"products_df\",\n  \"rows\": 9992,\n  \"fields\": [\n    {\n      \"column\": \"sku\",\n      \"properties\": {\n        \"dtype\": \"string\",\n        \"num_unique_values\": 9992,\n        \"samples\": [\n          \"IHE0020\",\n          \"GRT0375\",\n          \"SYN0078\"\n        ],\n        \"semantic_type\": \"\",\n        \"description\": \"\"\n      }\n    },\n    {\n      \"column\": \"name\",\n      \"properties\": {\n        \"dtype\": \"string\",\n        \"num_unique_values\": 9836,\n        \"samples\": [\n          \"Open - Ninebot Kick Scooter ES1 (56682)\",\n          \"Apple MacBook Pro 15 \\\"Core i7 Touch Bar 27GHz | RAM 16GB | 512GB PCIe SSD | 455 2GB Radeon Pro Space Gray\",\n          \"LifeProof Fre Waterproof Case iPhone 6 / 6S Plus Black\"\n        ],\n        \"semantic_type\": \"\",\n        \"description\": \"\"\n      }\n    },\n    {\n      \"column\": \"desc\",\n      \"properties\": {\n        \"dtype\": \"string\",\n        \"num_unique_values\": 6769,\n        \"samples\": [\n          \"Music player iPod nano 7 Generation 16GB blue.\",\n          \"case with strap handle rear front pocket for MacBook Pro 15 inches / 15 inches Retina\",\n          \"Synology NAS with 12TB capacity (2x6TB) Seagate Iron Wolf for Mac and PC\"\n        ],\n        \"semantic_type\": \"\",\n        \"description\": \"\"\n      }\n    },\n    {\n      \"column\": \"price\",\n      \"properties\": {\n        \"dtype\": \"category\",\n        \"num_unique_values\": 2332,\n        \"samples\": [\n          \"3486.57\",\n          \"831.33\",\n          \"8379\"\n        ],\n        \"semantic_type\": \"\",\n        \"description\": \"\"\n      }\n    },\n    {\n      \"column\": \"promo_price\",\n      \"properties\": {\n        \"dtype\": \"category\",\n        \"num_unique_values\": 4372,\n        \"samples\": [\n          \"1306.99\",\n          \"112.808\",\n          \"9.069.906\"\n        ],\n        \"semantic_type\": \"\",\n        \"description\": \"\"\n      }\n    },\n    {\n      \"column\": \"in_stock\",\n      \"properties\": {\n        \"dtype\": \"number\",\n        \"std\": 0,\n        \"min\": 0,\n        \"max\": 1,\n        \"num_unique_values\": 2,\n        \"samples\": [\n          0,\n          1\n        ],\n        \"semantic_type\": \"\",\n        \"description\": \"\"\n      }\n    },\n    {\n      \"column\": \"type\",\n      \"properties\": {\n        \"dtype\": \"category\",\n        \"num_unique_values\": 125,\n        \"samples\": [\n          \"12635403\",\n          \"13555403\"\n        ],\n        \"semantic_type\": \"\",\n        \"description\": \"\"\n      }\n    }\n  ]\n}"
            }
          },
          "metadata": {},
          "execution_count": 91
        }
      ]
    },
    {
      "cell_type": "markdown",
      "source": [
        "To complete our task, let's convert the column to a numeric datatype"
      ],
      "metadata": {
        "id": "Y_3K0v8wvMP1"
      }
    },
    {
      "cell_type": "code",
      "source": [
        "products_df[\"price\"] = pd.to_numeric(products_df[\"price\"])"
      ],
      "metadata": {
        "id": "3evkDaafvFUq"
      },
      "execution_count": 92,
      "outputs": []
    },
    {
      "cell_type": "code",
      "source": [
        "products_df.info()"
      ],
      "metadata": {
        "colab": {
          "base_uri": "https://localhost:8080/"
        },
        "id": "h2BjVDJ31yiB",
        "outputId": "d466cd63-d034-4891-aa79-b83b448d5d99"
      },
      "execution_count": 93,
      "outputs": [
        {
          "output_type": "stream",
          "name": "stdout",
          "text": [
            "<class 'pandas.core.frame.DataFrame'>\n",
            "Index: 9992 entries, 0 to 19325\n",
            "Data columns (total 7 columns):\n",
            " #   Column       Non-Null Count  Dtype  \n",
            "---  ------       --------------  -----  \n",
            " 0   sku          9992 non-null   object \n",
            " 1   name         9992 non-null   object \n",
            " 2   desc         9992 non-null   object \n",
            " 3   price        9992 non-null   float64\n",
            " 4   promo_price  9992 non-null   object \n",
            " 5   in_stock     9992 non-null   int64  \n",
            " 6   type         9946 non-null   object \n",
            "dtypes: float64(1), int64(1), object(5)\n",
            "memory usage: 624.5+ KB\n"
          ]
        }
      ]
    },
    {
      "cell_type": "markdown",
      "source": [
        "#### `promo_price`"
      ],
      "metadata": {
        "id": "9GcbI2upeG3M"
      }
    },
    {
      "cell_type": "markdown",
      "source": [
        "Again, let's begin by seeing how many values are affected by the 2-decimal-dots problem, or the 3 decimal-places problem"
      ],
      "metadata": {
        "id": "NQq3M2zGvzS5"
      }
    },
    {
      "cell_type": "code",
      "source": [
        "promo_problems_number = products_df.loc[(products_df.promo_price.astype(str).str.contains(\"\\d+\\.\\d+\\.\\d+\"))|(products_df.promo_price.astype(str).str.contains(\"\\d+\\.\\d{3,}\")), :].shape[0]\n",
        "promo_problems_number"
      ],
      "metadata": {
        "id": "vI4ueHibtK1P",
        "colab": {
          "base_uri": "https://localhost:8080/"
        },
        "outputId": "d67445fa-26e5-4251-c93a-351c19e74b37"
      },
      "execution_count": 94,
      "outputs": [
        {
          "output_type": "execute_result",
          "data": {
            "text/plain": [
              "9232"
            ]
          },
          "metadata": {},
          "execution_count": 94
        }
      ]
    },
    {
      "cell_type": "code",
      "source": [
        "print(f\"The column promo_price has in total {promo_problems_number} wrong values. This is {round(((promo_problems_number / products_df.shape[0]) * 100), 2)}% of the rows of the DataFrame\")"
      ],
      "metadata": {
        "id": "Jxpd8nVptKxs",
        "colab": {
          "base_uri": "https://localhost:8080/"
        },
        "outputId": "d68c4554-d092-4ad9-a0ab-74f067d1b140"
      },
      "execution_count": 95,
      "outputs": [
        {
          "output_type": "stream",
          "name": "stdout",
          "text": [
            "The column promo_price has in total 9232 wrong values. This is 92.39% of the rows of the DataFrame\n"
          ]
        }
      ]
    },
    {
      "cell_type": "markdown",
      "source": [
        "That's a lot of wrong data. Let's have a quick investigate to check that's correct. I'll make a DataFrame by copy-pasting the code I used above and then look at a large sample to check that all the numbers in the `promo_price` column really have either 2 decimal points or 3 decimal places."
      ],
      "metadata": {
        "id": "dnEM5lBruU0U"
      }
    },
    {
      "cell_type": "code",
      "source": [
        "promo_price_df = products_df.loc[(products_df.promo_price.astype(str).str.contains(\"\\d+\\.\\d+\\.\\d+\"))|(products_df.promo_price.astype(str).str.contains(\"\\d+\\.\\d{3,}\")), :]\n",
        "promo_price_df.sample(5)"
      ],
      "metadata": {
        "id": "6S88DpsRtaM0",
        "colab": {
          "base_uri": "https://localhost:8080/",
          "height": 310
        },
        "outputId": "80544cfd-f9de-4ca5-8822-5adf31db54ac"
      },
      "execution_count": 96,
      "outputs": [
        {
          "output_type": "execute_result",
          "data": {
            "text/plain": [
              "             sku  \\\n",
              "1651     PAC1798   \n",
              "15320  LAC0147-A   \n",
              "17598    SAN0190   \n",
              "14533    APP1956   \n",
              "13480    MOS0219   \n",
              "\n",
              "                                                                                         name  \\\n",
              "1651                             Synology DS1815 + | 8GB RAM | 80TB (8x10TB) Seagate IronWolf   \n",
              "15320                                          Open - LaCie Rugged Mini 500GB 7200rpm USB 3.0   \n",
              "17598                                                   SanDisk Ultra 200GB microSDXC A1 Card   \n",
              "14533  Apple MacBook Pro Retina 13 \"Core i7 3GHz | 8GB RAM | 1TB SSD (as of MF839Y setup / A)   \n",
              "13480                                              SenseCover Moshi Case Rosa iPhone 7/8 Plus   \n",
              "\n",
              "                                                                                            desc  \\\n",
              "1651   Nas DS1815 + 8GB RAM capacity of 80TB (8x10TB) Seagate Hard Drive for Mac and PC IronWolf   \n",
              "15320                            Hard disk portable wireless ultra-resistant USB 3.0 Mac and PC.   \n",
              "17598                 Micro Memory Card with adapter read speed 100MB / s and video speed UHS U1   \n",
              "14533                    MacBook Pro early 2015 with Retina display 13-inch extension to i7 3GHz   \n",
              "13480                         Cover with lid front opening and folding stand for iPhone 7/8 Plus   \n",
              "\n",
              "         price promo_price  in_stock      type  \n",
              "1651   5836.89  41.147.466         0  12175397  \n",
              "15320    84.99     746.289         0      1298  \n",
              "17598   109.99     899.998         0  57445397  \n",
              "14533  2769.00   1.998.995         0      1282  \n",
              "13480    50.00     399.905         0  11865403  "
            ],
            "text/html": [
              "\n",
              "  <div id=\"df-275840d6-5a75-48c9-ba58-e184a028d89a\" class=\"colab-df-container\">\n",
              "    <div>\n",
              "<style scoped>\n",
              "    .dataframe tbody tr th:only-of-type {\n",
              "        vertical-align: middle;\n",
              "    }\n",
              "\n",
              "    .dataframe tbody tr th {\n",
              "        vertical-align: top;\n",
              "    }\n",
              "\n",
              "    .dataframe thead th {\n",
              "        text-align: right;\n",
              "    }\n",
              "</style>\n",
              "<table border=\"1\" class=\"dataframe\">\n",
              "  <thead>\n",
              "    <tr style=\"text-align: right;\">\n",
              "      <th></th>\n",
              "      <th>sku</th>\n",
              "      <th>name</th>\n",
              "      <th>desc</th>\n",
              "      <th>price</th>\n",
              "      <th>promo_price</th>\n",
              "      <th>in_stock</th>\n",
              "      <th>type</th>\n",
              "    </tr>\n",
              "  </thead>\n",
              "  <tbody>\n",
              "    <tr>\n",
              "      <th>1651</th>\n",
              "      <td>PAC1798</td>\n",
              "      <td>Synology DS1815 + | 8GB RAM | 80TB (8x10TB) Seagate IronWolf</td>\n",
              "      <td>Nas DS1815 + 8GB RAM capacity of 80TB (8x10TB) Seagate Hard Drive for Mac and PC IronWolf</td>\n",
              "      <td>5836.89</td>\n",
              "      <td>41.147.466</td>\n",
              "      <td>0</td>\n",
              "      <td>12175397</td>\n",
              "    </tr>\n",
              "    <tr>\n",
              "      <th>15320</th>\n",
              "      <td>LAC0147-A</td>\n",
              "      <td>Open - LaCie Rugged Mini 500GB 7200rpm USB 3.0</td>\n",
              "      <td>Hard disk portable wireless ultra-resistant USB 3.0 Mac and PC.</td>\n",
              "      <td>84.99</td>\n",
              "      <td>746.289</td>\n",
              "      <td>0</td>\n",
              "      <td>1298</td>\n",
              "    </tr>\n",
              "    <tr>\n",
              "      <th>17598</th>\n",
              "      <td>SAN0190</td>\n",
              "      <td>SanDisk Ultra 200GB microSDXC A1 Card</td>\n",
              "      <td>Micro Memory Card with adapter read speed 100MB / s and video speed UHS U1</td>\n",
              "      <td>109.99</td>\n",
              "      <td>899.998</td>\n",
              "      <td>0</td>\n",
              "      <td>57445397</td>\n",
              "    </tr>\n",
              "    <tr>\n",
              "      <th>14533</th>\n",
              "      <td>APP1956</td>\n",
              "      <td>Apple MacBook Pro Retina 13 \"Core i7 3GHz | 8GB RAM | 1TB SSD (as of MF839Y setup / A)</td>\n",
              "      <td>MacBook Pro early 2015 with Retina display 13-inch extension to i7 3GHz</td>\n",
              "      <td>2769.00</td>\n",
              "      <td>1.998.995</td>\n",
              "      <td>0</td>\n",
              "      <td>1282</td>\n",
              "    </tr>\n",
              "    <tr>\n",
              "      <th>13480</th>\n",
              "      <td>MOS0219</td>\n",
              "      <td>SenseCover Moshi Case Rosa iPhone 7/8 Plus</td>\n",
              "      <td>Cover with lid front opening and folding stand for iPhone 7/8 Plus</td>\n",
              "      <td>50.00</td>\n",
              "      <td>399.905</td>\n",
              "      <td>0</td>\n",
              "      <td>11865403</td>\n",
              "    </tr>\n",
              "  </tbody>\n",
              "</table>\n",
              "</div>\n",
              "    <div class=\"colab-df-buttons\">\n",
              "\n",
              "  <div class=\"colab-df-container\">\n",
              "    <button class=\"colab-df-convert\" onclick=\"convertToInteractive('df-275840d6-5a75-48c9-ba58-e184a028d89a')\"\n",
              "            title=\"Convert this dataframe to an interactive table.\"\n",
              "            style=\"display:none;\">\n",
              "\n",
              "  <svg xmlns=\"http://www.w3.org/2000/svg\" height=\"24px\" viewBox=\"0 -960 960 960\">\n",
              "    <path d=\"M120-120v-720h720v720H120Zm60-500h600v-160H180v160Zm220 220h160v-160H400v160Zm0 220h160v-160H400v160ZM180-400h160v-160H180v160Zm440 0h160v-160H620v160ZM180-180h160v-160H180v160Zm440 0h160v-160H620v160Z\"/>\n",
              "  </svg>\n",
              "    </button>\n",
              "\n",
              "  <style>\n",
              "    .colab-df-container {\n",
              "      display:flex;\n",
              "      gap: 12px;\n",
              "    }\n",
              "\n",
              "    .colab-df-convert {\n",
              "      background-color: #E8F0FE;\n",
              "      border: none;\n",
              "      border-radius: 50%;\n",
              "      cursor: pointer;\n",
              "      display: none;\n",
              "      fill: #1967D2;\n",
              "      height: 32px;\n",
              "      padding: 0 0 0 0;\n",
              "      width: 32px;\n",
              "    }\n",
              "\n",
              "    .colab-df-convert:hover {\n",
              "      background-color: #E2EBFA;\n",
              "      box-shadow: 0px 1px 2px rgba(60, 64, 67, 0.3), 0px 1px 3px 1px rgba(60, 64, 67, 0.15);\n",
              "      fill: #174EA6;\n",
              "    }\n",
              "\n",
              "    .colab-df-buttons div {\n",
              "      margin-bottom: 4px;\n",
              "    }\n",
              "\n",
              "    [theme=dark] .colab-df-convert {\n",
              "      background-color: #3B4455;\n",
              "      fill: #D2E3FC;\n",
              "    }\n",
              "\n",
              "    [theme=dark] .colab-df-convert:hover {\n",
              "      background-color: #434B5C;\n",
              "      box-shadow: 0px 1px 3px 1px rgba(0, 0, 0, 0.15);\n",
              "      filter: drop-shadow(0px 1px 2px rgba(0, 0, 0, 0.3));\n",
              "      fill: #FFFFFF;\n",
              "    }\n",
              "  </style>\n",
              "\n",
              "    <script>\n",
              "      const buttonEl =\n",
              "        document.querySelector('#df-275840d6-5a75-48c9-ba58-e184a028d89a button.colab-df-convert');\n",
              "      buttonEl.style.display =\n",
              "        google.colab.kernel.accessAllowed ? 'block' : 'none';\n",
              "\n",
              "      async function convertToInteractive(key) {\n",
              "        const element = document.querySelector('#df-275840d6-5a75-48c9-ba58-e184a028d89a');\n",
              "        const dataTable =\n",
              "          await google.colab.kernel.invokeFunction('convertToInteractive',\n",
              "                                                    [key], {});\n",
              "        if (!dataTable) return;\n",
              "\n",
              "        const docLinkHtml = 'Like what you see? Visit the ' +\n",
              "          '<a target=\"_blank\" href=https://colab.research.google.com/notebooks/data_table.ipynb>data table notebook</a>'\n",
              "          + ' to learn more about interactive tables.';\n",
              "        element.innerHTML = '';\n",
              "        dataTable['output_type'] = 'display_data';\n",
              "        await google.colab.output.renderOutput(dataTable, element);\n",
              "        const docLink = document.createElement('div');\n",
              "        docLink.innerHTML = docLinkHtml;\n",
              "        element.appendChild(docLink);\n",
              "      }\n",
              "    </script>\n",
              "  </div>\n",
              "\n",
              "\n",
              "<div id=\"df-63c5bf0f-0a7c-4b3b-a23d-3f247307c7de\">\n",
              "  <button class=\"colab-df-quickchart\" onclick=\"quickchart('df-63c5bf0f-0a7c-4b3b-a23d-3f247307c7de')\"\n",
              "            title=\"Suggest charts\"\n",
              "            style=\"display:none;\">\n",
              "\n",
              "<svg xmlns=\"http://www.w3.org/2000/svg\" height=\"24px\"viewBox=\"0 0 24 24\"\n",
              "     width=\"24px\">\n",
              "    <g>\n",
              "        <path d=\"M19 3H5c-1.1 0-2 .9-2 2v14c0 1.1.9 2 2 2h14c1.1 0 2-.9 2-2V5c0-1.1-.9-2-2-2zM9 17H7v-7h2v7zm4 0h-2V7h2v10zm4 0h-2v-4h2v4z\"/>\n",
              "    </g>\n",
              "</svg>\n",
              "  </button>\n",
              "\n",
              "<style>\n",
              "  .colab-df-quickchart {\n",
              "      --bg-color: #E8F0FE;\n",
              "      --fill-color: #1967D2;\n",
              "      --hover-bg-color: #E2EBFA;\n",
              "      --hover-fill-color: #174EA6;\n",
              "      --disabled-fill-color: #AAA;\n",
              "      --disabled-bg-color: #DDD;\n",
              "  }\n",
              "\n",
              "  [theme=dark] .colab-df-quickchart {\n",
              "      --bg-color: #3B4455;\n",
              "      --fill-color: #D2E3FC;\n",
              "      --hover-bg-color: #434B5C;\n",
              "      --hover-fill-color: #FFFFFF;\n",
              "      --disabled-bg-color: #3B4455;\n",
              "      --disabled-fill-color: #666;\n",
              "  }\n",
              "\n",
              "  .colab-df-quickchart {\n",
              "    background-color: var(--bg-color);\n",
              "    border: none;\n",
              "    border-radius: 50%;\n",
              "    cursor: pointer;\n",
              "    display: none;\n",
              "    fill: var(--fill-color);\n",
              "    height: 32px;\n",
              "    padding: 0;\n",
              "    width: 32px;\n",
              "  }\n",
              "\n",
              "  .colab-df-quickchart:hover {\n",
              "    background-color: var(--hover-bg-color);\n",
              "    box-shadow: 0 1px 2px rgba(60, 64, 67, 0.3), 0 1px 3px 1px rgba(60, 64, 67, 0.15);\n",
              "    fill: var(--button-hover-fill-color);\n",
              "  }\n",
              "\n",
              "  .colab-df-quickchart-complete:disabled,\n",
              "  .colab-df-quickchart-complete:disabled:hover {\n",
              "    background-color: var(--disabled-bg-color);\n",
              "    fill: var(--disabled-fill-color);\n",
              "    box-shadow: none;\n",
              "  }\n",
              "\n",
              "  .colab-df-spinner {\n",
              "    border: 2px solid var(--fill-color);\n",
              "    border-color: transparent;\n",
              "    border-bottom-color: var(--fill-color);\n",
              "    animation:\n",
              "      spin 1s steps(1) infinite;\n",
              "  }\n",
              "\n",
              "  @keyframes spin {\n",
              "    0% {\n",
              "      border-color: transparent;\n",
              "      border-bottom-color: var(--fill-color);\n",
              "      border-left-color: var(--fill-color);\n",
              "    }\n",
              "    20% {\n",
              "      border-color: transparent;\n",
              "      border-left-color: var(--fill-color);\n",
              "      border-top-color: var(--fill-color);\n",
              "    }\n",
              "    30% {\n",
              "      border-color: transparent;\n",
              "      border-left-color: var(--fill-color);\n",
              "      border-top-color: var(--fill-color);\n",
              "      border-right-color: var(--fill-color);\n",
              "    }\n",
              "    40% {\n",
              "      border-color: transparent;\n",
              "      border-right-color: var(--fill-color);\n",
              "      border-top-color: var(--fill-color);\n",
              "    }\n",
              "    60% {\n",
              "      border-color: transparent;\n",
              "      border-right-color: var(--fill-color);\n",
              "    }\n",
              "    80% {\n",
              "      border-color: transparent;\n",
              "      border-right-color: var(--fill-color);\n",
              "      border-bottom-color: var(--fill-color);\n",
              "    }\n",
              "    90% {\n",
              "      border-color: transparent;\n",
              "      border-bottom-color: var(--fill-color);\n",
              "    }\n",
              "  }\n",
              "</style>\n",
              "\n",
              "  <script>\n",
              "    async function quickchart(key) {\n",
              "      const quickchartButtonEl =\n",
              "        document.querySelector('#' + key + ' button');\n",
              "      quickchartButtonEl.disabled = true;  // To prevent multiple clicks.\n",
              "      quickchartButtonEl.classList.add('colab-df-spinner');\n",
              "      try {\n",
              "        const charts = await google.colab.kernel.invokeFunction(\n",
              "            'suggestCharts', [key], {});\n",
              "      } catch (error) {\n",
              "        console.error('Error during call to suggestCharts:', error);\n",
              "      }\n",
              "      quickchartButtonEl.classList.remove('colab-df-spinner');\n",
              "      quickchartButtonEl.classList.add('colab-df-quickchart-complete');\n",
              "    }\n",
              "    (() => {\n",
              "      let quickchartButtonEl =\n",
              "        document.querySelector('#df-63c5bf0f-0a7c-4b3b-a23d-3f247307c7de button');\n",
              "      quickchartButtonEl.style.display =\n",
              "        google.colab.kernel.accessAllowed ? 'block' : 'none';\n",
              "    })();\n",
              "  </script>\n",
              "</div>\n",
              "\n",
              "    </div>\n",
              "  </div>\n"
            ],
            "application/vnd.google.colaboratory.intrinsic+json": {
              "type": "dataframe",
              "summary": "{\n  \"name\": \"promo_price_df\",\n  \"rows\": 5,\n  \"fields\": [\n    {\n      \"column\": \"sku\",\n      \"properties\": {\n        \"dtype\": \"string\",\n        \"num_unique_values\": 5,\n        \"samples\": [\n          \"LAC0147-A\",\n          \"MOS0219\",\n          \"SAN0190\"\n        ],\n        \"semantic_type\": \"\",\n        \"description\": \"\"\n      }\n    },\n    {\n      \"column\": \"name\",\n      \"properties\": {\n        \"dtype\": \"string\",\n        \"num_unique_values\": 5,\n        \"samples\": [\n          \"Open - LaCie Rugged Mini 500GB 7200rpm USB 3.0\",\n          \"SenseCover Moshi Case Rosa iPhone 7/8 Plus\",\n          \"SanDisk Ultra 200GB microSDXC A1 Card\"\n        ],\n        \"semantic_type\": \"\",\n        \"description\": \"\"\n      }\n    },\n    {\n      \"column\": \"desc\",\n      \"properties\": {\n        \"dtype\": \"string\",\n        \"num_unique_values\": 5,\n        \"samples\": [\n          \"Hard disk portable wireless ultra-resistant USB 3.0 Mac and PC.\",\n          \"Cover with lid front opening and folding stand for iPhone 7/8 Plus\",\n          \"Micro Memory Card with adapter read speed 100MB / s and video speed UHS U1\"\n        ],\n        \"semantic_type\": \"\",\n        \"description\": \"\"\n      }\n    },\n    {\n      \"column\": \"price\",\n      \"properties\": {\n        \"dtype\": \"number\",\n        \"std\": 2553.9619721581603,\n        \"min\": 50.0,\n        \"max\": 5836.89,\n        \"num_unique_values\": 5,\n        \"samples\": [\n          84.99,\n          50.0,\n          109.99\n        ],\n        \"semantic_type\": \"\",\n        \"description\": \"\"\n      }\n    },\n    {\n      \"column\": \"promo_price\",\n      \"properties\": {\n        \"dtype\": \"string\",\n        \"num_unique_values\": 5,\n        \"samples\": [\n          \"746.289\",\n          \"399.905\",\n          \"899.998\"\n        ],\n        \"semantic_type\": \"\",\n        \"description\": \"\"\n      }\n    },\n    {\n      \"column\": \"in_stock\",\n      \"properties\": {\n        \"dtype\": \"number\",\n        \"std\": 0,\n        \"min\": 0,\n        \"max\": 0,\n        \"num_unique_values\": 1,\n        \"samples\": [\n          0\n        ],\n        \"semantic_type\": \"\",\n        \"description\": \"\"\n      }\n    },\n    {\n      \"column\": \"type\",\n      \"properties\": {\n        \"dtype\": \"string\",\n        \"num_unique_values\": 5,\n        \"samples\": [\n          \"1298\"\n        ],\n        \"semantic_type\": \"\",\n        \"description\": \"\"\n      }\n    }\n  ]\n}"
            }
          },
          "metadata": {},
          "execution_count": 96
        }
      ]
    },
    {
      "cell_type": "markdown",
      "source": [
        "So I was correct, over 90% of the data in this column is corrupt. There's no point deleting all of these rows, then I would barely have a products table. Instead, as it's only this column that appears to be very untrustworthy, I will delete the column."
      ],
      "metadata": {
        "id": "0Hfgo84xu_VS"
      }
    },
    {
      "cell_type": "code",
      "source": [
        "products_cl = products_df.drop(columns=[\"promo_price\"])"
      ],
      "metadata": {
        "id": "OalyJ-8atij8"
      },
      "execution_count": 97,
      "outputs": []
    },
    {
      "cell_type": "code",
      "source": [
        "products_cl.info()"
      ],
      "metadata": {
        "id": "mJQtVYS-Knyf",
        "colab": {
          "base_uri": "https://localhost:8080/"
        },
        "outputId": "24033b1e-5151-4407-86d6-3dda61634c17"
      },
      "execution_count": 98,
      "outputs": [
        {
          "output_type": "stream",
          "name": "stdout",
          "text": [
            "<class 'pandas.core.frame.DataFrame'>\n",
            "Index: 9992 entries, 0 to 19325\n",
            "Data columns (total 6 columns):\n",
            " #   Column    Non-Null Count  Dtype  \n",
            "---  ------    --------------  -----  \n",
            " 0   sku       9992 non-null   object \n",
            " 1   name      9992 non-null   object \n",
            " 2   desc      9992 non-null   object \n",
            " 3   price     9992 non-null   float64\n",
            " 4   in_stock  9992 non-null   int64  \n",
            " 5   type      9946 non-null   object \n",
            "dtypes: float64(1), int64(1), object(4)\n",
            "memory usage: 546.4+ KB\n"
          ]
        }
      ]
    },
    {
      "cell_type": "markdown",
      "source": [
        "Obviously, there's now no need to convert `promo_price` to a numerical datatype\n",
        "\n",
        "Last step:\n",
        "+ Saving the cleaned version of the DataFrames"
      ],
      "metadata": {
        "id": "vyyISxnQ1YVG"
      }
    },
    {
      "cell_type": "code",
      "source": [
        "from google.colab import files\n",
        "\n",
        "orders_df.to_csv(\"orders_cl.csv\", index=False)\n",
        "files.download(\"orders_cl.csv\")\n",
        "\n",
        "orderlines_df.to_csv(\"orderlines_cl.csv\", index=False)\n",
        "files.download(\"orderlines_cl.csv\")\n",
        "\n",
        "products_cl.to_csv(\"products_cl.csv\", index=False)\n",
        "files.download(\"products_cl.csv\")"
      ],
      "metadata": {
        "id": "6M4Jxfz-8G2b",
        "colab": {
          "base_uri": "https://localhost:8080/",
          "height": 17
        },
        "outputId": "3c042c8d-a80a-44ec-db64-0dc653e7717e"
      },
      "execution_count": 53,
      "outputs": [
        {
          "output_type": "display_data",
          "data": {
            "text/plain": [
              "<IPython.core.display.Javascript object>"
            ],
            "application/javascript": [
              "\n",
              "    async function download(id, filename, size) {\n",
              "      if (!google.colab.kernel.accessAllowed) {\n",
              "        return;\n",
              "      }\n",
              "      const div = document.createElement('div');\n",
              "      const label = document.createElement('label');\n",
              "      label.textContent = `Downloading \"${filename}\": `;\n",
              "      div.appendChild(label);\n",
              "      const progress = document.createElement('progress');\n",
              "      progress.max = size;\n",
              "      div.appendChild(progress);\n",
              "      document.body.appendChild(div);\n",
              "\n",
              "      const buffers = [];\n",
              "      let downloaded = 0;\n",
              "\n",
              "      const channel = await google.colab.kernel.comms.open(id);\n",
              "      // Send a message to notify the kernel that we're ready.\n",
              "      channel.send({})\n",
              "\n",
              "      for await (const message of channel.messages) {\n",
              "        // Send a message to notify the kernel that we're ready.\n",
              "        channel.send({})\n",
              "        if (message.buffers) {\n",
              "          for (const buffer of message.buffers) {\n",
              "            buffers.push(buffer);\n",
              "            downloaded += buffer.byteLength;\n",
              "            progress.value = downloaded;\n",
              "          }\n",
              "        }\n",
              "      }\n",
              "      const blob = new Blob(buffers, {type: 'application/binary'});\n",
              "      const a = document.createElement('a');\n",
              "      a.href = window.URL.createObjectURL(blob);\n",
              "      a.download = filename;\n",
              "      div.appendChild(a);\n",
              "      a.click();\n",
              "      div.remove();\n",
              "    }\n",
              "  "
            ]
          },
          "metadata": {}
        },
        {
          "output_type": "display_data",
          "data": {
            "text/plain": [
              "<IPython.core.display.Javascript object>"
            ],
            "application/javascript": [
              "download(\"download_d587d4d6-8721-4205-9423-4697ff35ae82\", \"orders_cl.csv\", 10596743)"
            ]
          },
          "metadata": {}
        },
        {
          "output_type": "display_data",
          "data": {
            "text/plain": [
              "<IPython.core.display.Javascript object>"
            ],
            "application/javascript": [
              "\n",
              "    async function download(id, filename, size) {\n",
              "      if (!google.colab.kernel.accessAllowed) {\n",
              "        return;\n",
              "      }\n",
              "      const div = document.createElement('div');\n",
              "      const label = document.createElement('label');\n",
              "      label.textContent = `Downloading \"${filename}\": `;\n",
              "      div.appendChild(label);\n",
              "      const progress = document.createElement('progress');\n",
              "      progress.max = size;\n",
              "      div.appendChild(progress);\n",
              "      document.body.appendChild(div);\n",
              "\n",
              "      const buffers = [];\n",
              "      let downloaded = 0;\n",
              "\n",
              "      const channel = await google.colab.kernel.comms.open(id);\n",
              "      // Send a message to notify the kernel that we're ready.\n",
              "      channel.send({})\n",
              "\n",
              "      for await (const message of channel.messages) {\n",
              "        // Send a message to notify the kernel that we're ready.\n",
              "        channel.send({})\n",
              "        if (message.buffers) {\n",
              "          for (const buffer of message.buffers) {\n",
              "            buffers.push(buffer);\n",
              "            downloaded += buffer.byteLength;\n",
              "            progress.value = downloaded;\n",
              "          }\n",
              "        }\n",
              "      }\n",
              "      const blob = new Blob(buffers, {type: 'application/binary'});\n",
              "      const a = document.createElement('a');\n",
              "      a.href = window.URL.createObjectURL(blob);\n",
              "      a.download = filename;\n",
              "      div.appendChild(a);\n",
              "      a.click();\n",
              "      div.remove();\n",
              "    }\n",
              "  "
            ]
          },
          "metadata": {}
        },
        {
          "output_type": "display_data",
          "data": {
            "text/plain": [
              "<IPython.core.display.Javascript object>"
            ],
            "application/javascript": [
              "download(\"download_733ea2d1-8a8d-400a-8703-80d298bc81fa\", \"orderlines_cl.csv\", 11513408)"
            ]
          },
          "metadata": {}
        },
        {
          "output_type": "display_data",
          "data": {
            "text/plain": [
              "<IPython.core.display.Javascript object>"
            ],
            "application/javascript": [
              "\n",
              "    async function download(id, filename, size) {\n",
              "      if (!google.colab.kernel.accessAllowed) {\n",
              "        return;\n",
              "      }\n",
              "      const div = document.createElement('div');\n",
              "      const label = document.createElement('label');\n",
              "      label.textContent = `Downloading \"${filename}\": `;\n",
              "      div.appendChild(label);\n",
              "      const progress = document.createElement('progress');\n",
              "      progress.max = size;\n",
              "      div.appendChild(progress);\n",
              "      document.body.appendChild(div);\n",
              "\n",
              "      const buffers = [];\n",
              "      let downloaded = 0;\n",
              "\n",
              "      const channel = await google.colab.kernel.comms.open(id);\n",
              "      // Send a message to notify the kernel that we're ready.\n",
              "      channel.send({})\n",
              "\n",
              "      for await (const message of channel.messages) {\n",
              "        // Send a message to notify the kernel that we're ready.\n",
              "        channel.send({})\n",
              "        if (message.buffers) {\n",
              "          for (const buffer of message.buffers) {\n",
              "            buffers.push(buffer);\n",
              "            downloaded += buffer.byteLength;\n",
              "            progress.value = downloaded;\n",
              "          }\n",
              "        }\n",
              "      }\n",
              "      const blob = new Blob(buffers, {type: 'application/binary'});\n",
              "      const a = document.createElement('a');\n",
              "      a.href = window.URL.createObjectURL(blob);\n",
              "      a.download = filename;\n",
              "      div.appendChild(a);\n",
              "      a.click();\n",
              "      div.remove();\n",
              "    }\n",
              "  "
            ]
          },
          "metadata": {}
        },
        {
          "output_type": "display_data",
          "data": {
            "text/plain": [
              "<IPython.core.display.Javascript object>"
            ],
            "application/javascript": [
              "download(\"download_28473d6f-e0da-4454-ac0a-13948bb0f795\", \"products_cl.csv\", 1421262)"
            ]
          },
          "metadata": {}
        }
      ]
    }
  ]
}